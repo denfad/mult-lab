{
 "cells": [
  {
   "cell_type": "markdown",
   "id": "b516c3fc-d1a4-4aa1-91fe-e213c7c164ed",
   "metadata": {},
   "source": [
    "# Лабораторная работа №3 Проведение исследований с деревом выбора"
   ]
  },
  {
   "cell_type": "markdown",
   "id": "a1c775fc-caaf-4acd-84ff-4f2fc5c6d80c",
   "metadata": {},
   "source": [
    "## 2. Создание бейзлайн и оценка качества"
   ]
  },
  {
   "cell_type": "markdown",
   "id": "8a999eed-6dc6-4c2a-9ccb-6b524853993c",
   "metadata": {},
   "source": [
    "Возьмём датасеты из прошлой лабораторной и обучим на них новые модели.\n",
    "\n",
    "В данном блоке мы загружаем датасеты в пандас и приводим их к виду, необходимому для обучения моделей"
   ]
  },
  {
   "cell_type": "code",
   "execution_count": 1,
   "id": "4fb045dc-e754-4779-9611-8bd69ec4b2c4",
   "metadata": {},
   "outputs": [],
   "source": [
    "import numpy as np\n",
    "import pandas as pd\n",
    "import matplotlib.pyplot as plt\n",
    "from sklearn.model_selection import train_test_split\n",
    "from sklearn.tree import DecisionTreeRegressor, DecisionTreeClassifier\n",
    "from sklearn import metrics\n",
    "\n",
    "\n",
    "df_class = pd.read_csv('/Users/denisfadeev/.cache/kagglehub/datasets/sameepvani/nasa-nearest-earth-objects/versions/2/neo_v2.csv')\n",
    "df_reg = pd.read_csv('/Users/denisfadeev/.cache/kagglehub/datasets/pythonafroz/wind-speed-vs-spanish-power-prices/versions/2/wind_vs_price.csv')\n",
    "\n",
    "# В классификации избавляемся от столбцов, не влияющих на результат (различные названия и имена)\n",
    "df_class = df_class.drop(['orbiting_body','sentry_object', 'name', 'id'],axis=1)\n",
    "df_class = df_class.sort_values('hazardous', ascending=False).head(2*df_class['hazardous'].value_counts().get(True, 0))\n",
    "\n",
    "# # В регрессии переводим даты в timestamp и уберём данные после 2019 года, так как там произошёл короновирус\n",
    "df_reg = df_reg.drop(df_reg[df_reg.fecha > \"2019-01-01\"].index)\n",
    "df_reg['time'] = pd.to_datetime(df_reg['fecha']).astype(int)\n",
    "df_reg = df_reg.drop(['fecha', 'MIN(dp.precio)', 'MAX(dp.precio)'], axis = 1)\n",
    "\n",
    "# classification\n",
    "Y_class = df_class['hazardous'].astype(int)\n",
    "X_class = df_class.drop(['hazardous'],axis=1)\n",
    "X_train_class, X_test_class, Y_train_class, Y_test_class = train_test_split(X_class,Y_class,random_state=24314,test_size=0.5, shuffle = True)\n",
    "# regression\n",
    "Y_reg = df_reg['AVG(dp.precio)']\n",
    "X_reg = df_reg.drop(['AVG(dp.precio)'],axis=1)\n",
    "X_train_reg, X_test_reg, Y_train_reg, Y_test_reg = train_test_split(X_reg,Y_reg,random_state=24314,test_size=0.5, shuffle = True)\n"
   ]
  },
  {
   "cell_type": "markdown",
   "id": "1cfeb043-891c-4da5-a563-b7d288cc28df",
   "metadata": {},
   "source": [
    "Обучаем модели дерева выбора для классификации и регрессии из библиотеки sklearn"
   ]
  },
  {
   "cell_type": "code",
   "execution_count": 2,
   "id": "30b60090-a135-492a-ae32-a95273e3132b",
   "metadata": {},
   "outputs": [
    {
     "data": {
      "text/html": [
       "<style>#sk-container-id-1 {\n",
       "  /* Definition of color scheme common for light and dark mode */\n",
       "  --sklearn-color-text: black;\n",
       "  --sklearn-color-line: gray;\n",
       "  /* Definition of color scheme for unfitted estimators */\n",
       "  --sklearn-color-unfitted-level-0: #fff5e6;\n",
       "  --sklearn-color-unfitted-level-1: #f6e4d2;\n",
       "  --sklearn-color-unfitted-level-2: #ffe0b3;\n",
       "  --sklearn-color-unfitted-level-3: chocolate;\n",
       "  /* Definition of color scheme for fitted estimators */\n",
       "  --sklearn-color-fitted-level-0: #f0f8ff;\n",
       "  --sklearn-color-fitted-level-1: #d4ebff;\n",
       "  --sklearn-color-fitted-level-2: #b3dbfd;\n",
       "  --sklearn-color-fitted-level-3: cornflowerblue;\n",
       "\n",
       "  /* Specific color for light theme */\n",
       "  --sklearn-color-text-on-default-background: var(--sg-text-color, var(--theme-code-foreground, var(--jp-content-font-color1, black)));\n",
       "  --sklearn-color-background: var(--sg-background-color, var(--theme-background, var(--jp-layout-color0, white)));\n",
       "  --sklearn-color-border-box: var(--sg-text-color, var(--theme-code-foreground, var(--jp-content-font-color1, black)));\n",
       "  --sklearn-color-icon: #696969;\n",
       "\n",
       "  @media (prefers-color-scheme: dark) {\n",
       "    /* Redefinition of color scheme for dark theme */\n",
       "    --sklearn-color-text-on-default-background: var(--sg-text-color, var(--theme-code-foreground, var(--jp-content-font-color1, white)));\n",
       "    --sklearn-color-background: var(--sg-background-color, var(--theme-background, var(--jp-layout-color0, #111)));\n",
       "    --sklearn-color-border-box: var(--sg-text-color, var(--theme-code-foreground, var(--jp-content-font-color1, white)));\n",
       "    --sklearn-color-icon: #878787;\n",
       "  }\n",
       "}\n",
       "\n",
       "#sk-container-id-1 {\n",
       "  color: var(--sklearn-color-text);\n",
       "}\n",
       "\n",
       "#sk-container-id-1 pre {\n",
       "  padding: 0;\n",
       "}\n",
       "\n",
       "#sk-container-id-1 input.sk-hidden--visually {\n",
       "  border: 0;\n",
       "  clip: rect(1px 1px 1px 1px);\n",
       "  clip: rect(1px, 1px, 1px, 1px);\n",
       "  height: 1px;\n",
       "  margin: -1px;\n",
       "  overflow: hidden;\n",
       "  padding: 0;\n",
       "  position: absolute;\n",
       "  width: 1px;\n",
       "}\n",
       "\n",
       "#sk-container-id-1 div.sk-dashed-wrapped {\n",
       "  border: 1px dashed var(--sklearn-color-line);\n",
       "  margin: 0 0.4em 0.5em 0.4em;\n",
       "  box-sizing: border-box;\n",
       "  padding-bottom: 0.4em;\n",
       "  background-color: var(--sklearn-color-background);\n",
       "}\n",
       "\n",
       "#sk-container-id-1 div.sk-container {\n",
       "  /* jupyter's `normalize.less` sets `[hidden] { display: none; }`\n",
       "     but bootstrap.min.css set `[hidden] { display: none !important; }`\n",
       "     so we also need the `!important` here to be able to override the\n",
       "     default hidden behavior on the sphinx rendered scikit-learn.org.\n",
       "     See: https://github.com/scikit-learn/scikit-learn/issues/21755 */\n",
       "  display: inline-block !important;\n",
       "  position: relative;\n",
       "}\n",
       "\n",
       "#sk-container-id-1 div.sk-text-repr-fallback {\n",
       "  display: none;\n",
       "}\n",
       "\n",
       "div.sk-parallel-item,\n",
       "div.sk-serial,\n",
       "div.sk-item {\n",
       "  /* draw centered vertical line to link estimators */\n",
       "  background-image: linear-gradient(var(--sklearn-color-text-on-default-background), var(--sklearn-color-text-on-default-background));\n",
       "  background-size: 2px 100%;\n",
       "  background-repeat: no-repeat;\n",
       "  background-position: center center;\n",
       "}\n",
       "\n",
       "/* Parallel-specific style estimator block */\n",
       "\n",
       "#sk-container-id-1 div.sk-parallel-item::after {\n",
       "  content: \"\";\n",
       "  width: 100%;\n",
       "  border-bottom: 2px solid var(--sklearn-color-text-on-default-background);\n",
       "  flex-grow: 1;\n",
       "}\n",
       "\n",
       "#sk-container-id-1 div.sk-parallel {\n",
       "  display: flex;\n",
       "  align-items: stretch;\n",
       "  justify-content: center;\n",
       "  background-color: var(--sklearn-color-background);\n",
       "  position: relative;\n",
       "}\n",
       "\n",
       "#sk-container-id-1 div.sk-parallel-item {\n",
       "  display: flex;\n",
       "  flex-direction: column;\n",
       "}\n",
       "\n",
       "#sk-container-id-1 div.sk-parallel-item:first-child::after {\n",
       "  align-self: flex-end;\n",
       "  width: 50%;\n",
       "}\n",
       "\n",
       "#sk-container-id-1 div.sk-parallel-item:last-child::after {\n",
       "  align-self: flex-start;\n",
       "  width: 50%;\n",
       "}\n",
       "\n",
       "#sk-container-id-1 div.sk-parallel-item:only-child::after {\n",
       "  width: 0;\n",
       "}\n",
       "\n",
       "/* Serial-specific style estimator block */\n",
       "\n",
       "#sk-container-id-1 div.sk-serial {\n",
       "  display: flex;\n",
       "  flex-direction: column;\n",
       "  align-items: center;\n",
       "  background-color: var(--sklearn-color-background);\n",
       "  padding-right: 1em;\n",
       "  padding-left: 1em;\n",
       "}\n",
       "\n",
       "\n",
       "/* Toggleable style: style used for estimator/Pipeline/ColumnTransformer box that is\n",
       "clickable and can be expanded/collapsed.\n",
       "- Pipeline and ColumnTransformer use this feature and define the default style\n",
       "- Estimators will overwrite some part of the style using the `sk-estimator` class\n",
       "*/\n",
       "\n",
       "/* Pipeline and ColumnTransformer style (default) */\n",
       "\n",
       "#sk-container-id-1 div.sk-toggleable {\n",
       "  /* Default theme specific background. It is overwritten whether we have a\n",
       "  specific estimator or a Pipeline/ColumnTransformer */\n",
       "  background-color: var(--sklearn-color-background);\n",
       "}\n",
       "\n",
       "/* Toggleable label */\n",
       "#sk-container-id-1 label.sk-toggleable__label {\n",
       "  cursor: pointer;\n",
       "  display: block;\n",
       "  width: 100%;\n",
       "  margin-bottom: 0;\n",
       "  padding: 0.5em;\n",
       "  box-sizing: border-box;\n",
       "  text-align: center;\n",
       "}\n",
       "\n",
       "#sk-container-id-1 label.sk-toggleable__label-arrow:before {\n",
       "  /* Arrow on the left of the label */\n",
       "  content: \"▸\";\n",
       "  float: left;\n",
       "  margin-right: 0.25em;\n",
       "  color: var(--sklearn-color-icon);\n",
       "}\n",
       "\n",
       "#sk-container-id-1 label.sk-toggleable__label-arrow:hover:before {\n",
       "  color: var(--sklearn-color-text);\n",
       "}\n",
       "\n",
       "/* Toggleable content - dropdown */\n",
       "\n",
       "#sk-container-id-1 div.sk-toggleable__content {\n",
       "  max-height: 0;\n",
       "  max-width: 0;\n",
       "  overflow: hidden;\n",
       "  text-align: left;\n",
       "  /* unfitted */\n",
       "  background-color: var(--sklearn-color-unfitted-level-0);\n",
       "}\n",
       "\n",
       "#sk-container-id-1 div.sk-toggleable__content.fitted {\n",
       "  /* fitted */\n",
       "  background-color: var(--sklearn-color-fitted-level-0);\n",
       "}\n",
       "\n",
       "#sk-container-id-1 div.sk-toggleable__content pre {\n",
       "  margin: 0.2em;\n",
       "  border-radius: 0.25em;\n",
       "  color: var(--sklearn-color-text);\n",
       "  /* unfitted */\n",
       "  background-color: var(--sklearn-color-unfitted-level-0);\n",
       "}\n",
       "\n",
       "#sk-container-id-1 div.sk-toggleable__content.fitted pre {\n",
       "  /* unfitted */\n",
       "  background-color: var(--sklearn-color-fitted-level-0);\n",
       "}\n",
       "\n",
       "#sk-container-id-1 input.sk-toggleable__control:checked~div.sk-toggleable__content {\n",
       "  /* Expand drop-down */\n",
       "  max-height: 200px;\n",
       "  max-width: 100%;\n",
       "  overflow: auto;\n",
       "}\n",
       "\n",
       "#sk-container-id-1 input.sk-toggleable__control:checked~label.sk-toggleable__label-arrow:before {\n",
       "  content: \"▾\";\n",
       "}\n",
       "\n",
       "/* Pipeline/ColumnTransformer-specific style */\n",
       "\n",
       "#sk-container-id-1 div.sk-label input.sk-toggleable__control:checked~label.sk-toggleable__label {\n",
       "  color: var(--sklearn-color-text);\n",
       "  background-color: var(--sklearn-color-unfitted-level-2);\n",
       "}\n",
       "\n",
       "#sk-container-id-1 div.sk-label.fitted input.sk-toggleable__control:checked~label.sk-toggleable__label {\n",
       "  background-color: var(--sklearn-color-fitted-level-2);\n",
       "}\n",
       "\n",
       "/* Estimator-specific style */\n",
       "\n",
       "/* Colorize estimator box */\n",
       "#sk-container-id-1 div.sk-estimator input.sk-toggleable__control:checked~label.sk-toggleable__label {\n",
       "  /* unfitted */\n",
       "  background-color: var(--sklearn-color-unfitted-level-2);\n",
       "}\n",
       "\n",
       "#sk-container-id-1 div.sk-estimator.fitted input.sk-toggleable__control:checked~label.sk-toggleable__label {\n",
       "  /* fitted */\n",
       "  background-color: var(--sklearn-color-fitted-level-2);\n",
       "}\n",
       "\n",
       "#sk-container-id-1 div.sk-label label.sk-toggleable__label,\n",
       "#sk-container-id-1 div.sk-label label {\n",
       "  /* The background is the default theme color */\n",
       "  color: var(--sklearn-color-text-on-default-background);\n",
       "}\n",
       "\n",
       "/* On hover, darken the color of the background */\n",
       "#sk-container-id-1 div.sk-label:hover label.sk-toggleable__label {\n",
       "  color: var(--sklearn-color-text);\n",
       "  background-color: var(--sklearn-color-unfitted-level-2);\n",
       "}\n",
       "\n",
       "/* Label box, darken color on hover, fitted */\n",
       "#sk-container-id-1 div.sk-label.fitted:hover label.sk-toggleable__label.fitted {\n",
       "  color: var(--sklearn-color-text);\n",
       "  background-color: var(--sklearn-color-fitted-level-2);\n",
       "}\n",
       "\n",
       "/* Estimator label */\n",
       "\n",
       "#sk-container-id-1 div.sk-label label {\n",
       "  font-family: monospace;\n",
       "  font-weight: bold;\n",
       "  display: inline-block;\n",
       "  line-height: 1.2em;\n",
       "}\n",
       "\n",
       "#sk-container-id-1 div.sk-label-container {\n",
       "  text-align: center;\n",
       "}\n",
       "\n",
       "/* Estimator-specific */\n",
       "#sk-container-id-1 div.sk-estimator {\n",
       "  font-family: monospace;\n",
       "  border: 1px dotted var(--sklearn-color-border-box);\n",
       "  border-radius: 0.25em;\n",
       "  box-sizing: border-box;\n",
       "  margin-bottom: 0.5em;\n",
       "  /* unfitted */\n",
       "  background-color: var(--sklearn-color-unfitted-level-0);\n",
       "}\n",
       "\n",
       "#sk-container-id-1 div.sk-estimator.fitted {\n",
       "  /* fitted */\n",
       "  background-color: var(--sklearn-color-fitted-level-0);\n",
       "}\n",
       "\n",
       "/* on hover */\n",
       "#sk-container-id-1 div.sk-estimator:hover {\n",
       "  /* unfitted */\n",
       "  background-color: var(--sklearn-color-unfitted-level-2);\n",
       "}\n",
       "\n",
       "#sk-container-id-1 div.sk-estimator.fitted:hover {\n",
       "  /* fitted */\n",
       "  background-color: var(--sklearn-color-fitted-level-2);\n",
       "}\n",
       "\n",
       "/* Specification for estimator info (e.g. \"i\" and \"?\") */\n",
       "\n",
       "/* Common style for \"i\" and \"?\" */\n",
       "\n",
       ".sk-estimator-doc-link,\n",
       "a:link.sk-estimator-doc-link,\n",
       "a:visited.sk-estimator-doc-link {\n",
       "  float: right;\n",
       "  font-size: smaller;\n",
       "  line-height: 1em;\n",
       "  font-family: monospace;\n",
       "  background-color: var(--sklearn-color-background);\n",
       "  border-radius: 1em;\n",
       "  height: 1em;\n",
       "  width: 1em;\n",
       "  text-decoration: none !important;\n",
       "  margin-left: 1ex;\n",
       "  /* unfitted */\n",
       "  border: var(--sklearn-color-unfitted-level-1) 1pt solid;\n",
       "  color: var(--sklearn-color-unfitted-level-1);\n",
       "}\n",
       "\n",
       ".sk-estimator-doc-link.fitted,\n",
       "a:link.sk-estimator-doc-link.fitted,\n",
       "a:visited.sk-estimator-doc-link.fitted {\n",
       "  /* fitted */\n",
       "  border: var(--sklearn-color-fitted-level-1) 1pt solid;\n",
       "  color: var(--sklearn-color-fitted-level-1);\n",
       "}\n",
       "\n",
       "/* On hover */\n",
       "div.sk-estimator:hover .sk-estimator-doc-link:hover,\n",
       ".sk-estimator-doc-link:hover,\n",
       "div.sk-label-container:hover .sk-estimator-doc-link:hover,\n",
       ".sk-estimator-doc-link:hover {\n",
       "  /* unfitted */\n",
       "  background-color: var(--sklearn-color-unfitted-level-3);\n",
       "  color: var(--sklearn-color-background);\n",
       "  text-decoration: none;\n",
       "}\n",
       "\n",
       "div.sk-estimator.fitted:hover .sk-estimator-doc-link.fitted:hover,\n",
       ".sk-estimator-doc-link.fitted:hover,\n",
       "div.sk-label-container:hover .sk-estimator-doc-link.fitted:hover,\n",
       ".sk-estimator-doc-link.fitted:hover {\n",
       "  /* fitted */\n",
       "  background-color: var(--sklearn-color-fitted-level-3);\n",
       "  color: var(--sklearn-color-background);\n",
       "  text-decoration: none;\n",
       "}\n",
       "\n",
       "/* Span, style for the box shown on hovering the info icon */\n",
       ".sk-estimator-doc-link span {\n",
       "  display: none;\n",
       "  z-index: 9999;\n",
       "  position: relative;\n",
       "  font-weight: normal;\n",
       "  right: .2ex;\n",
       "  padding: .5ex;\n",
       "  margin: .5ex;\n",
       "  width: min-content;\n",
       "  min-width: 20ex;\n",
       "  max-width: 50ex;\n",
       "  color: var(--sklearn-color-text);\n",
       "  box-shadow: 2pt 2pt 4pt #999;\n",
       "  /* unfitted */\n",
       "  background: var(--sklearn-color-unfitted-level-0);\n",
       "  border: .5pt solid var(--sklearn-color-unfitted-level-3);\n",
       "}\n",
       "\n",
       ".sk-estimator-doc-link.fitted span {\n",
       "  /* fitted */\n",
       "  background: var(--sklearn-color-fitted-level-0);\n",
       "  border: var(--sklearn-color-fitted-level-3);\n",
       "}\n",
       "\n",
       ".sk-estimator-doc-link:hover span {\n",
       "  display: block;\n",
       "}\n",
       "\n",
       "/* \"?\"-specific style due to the `<a>` HTML tag */\n",
       "\n",
       "#sk-container-id-1 a.estimator_doc_link {\n",
       "  float: right;\n",
       "  font-size: 1rem;\n",
       "  line-height: 1em;\n",
       "  font-family: monospace;\n",
       "  background-color: var(--sklearn-color-background);\n",
       "  border-radius: 1rem;\n",
       "  height: 1rem;\n",
       "  width: 1rem;\n",
       "  text-decoration: none;\n",
       "  /* unfitted */\n",
       "  color: var(--sklearn-color-unfitted-level-1);\n",
       "  border: var(--sklearn-color-unfitted-level-1) 1pt solid;\n",
       "}\n",
       "\n",
       "#sk-container-id-1 a.estimator_doc_link.fitted {\n",
       "  /* fitted */\n",
       "  border: var(--sklearn-color-fitted-level-1) 1pt solid;\n",
       "  color: var(--sklearn-color-fitted-level-1);\n",
       "}\n",
       "\n",
       "/* On hover */\n",
       "#sk-container-id-1 a.estimator_doc_link:hover {\n",
       "  /* unfitted */\n",
       "  background-color: var(--sklearn-color-unfitted-level-3);\n",
       "  color: var(--sklearn-color-background);\n",
       "  text-decoration: none;\n",
       "}\n",
       "\n",
       "#sk-container-id-1 a.estimator_doc_link.fitted:hover {\n",
       "  /* fitted */\n",
       "  background-color: var(--sklearn-color-fitted-level-3);\n",
       "}\n",
       "</style><div id=\"sk-container-id-1\" class=\"sk-top-container\"><div class=\"sk-text-repr-fallback\"><pre>DecisionTreeClassifier()</pre><b>In a Jupyter environment, please rerun this cell to show the HTML representation or trust the notebook. <br />On GitHub, the HTML representation is unable to render, please try loading this page with nbviewer.org.</b></div><div class=\"sk-container\" hidden><div class=\"sk-item\"><div class=\"sk-estimator fitted sk-toggleable\"><input class=\"sk-toggleable__control sk-hidden--visually\" id=\"sk-estimator-id-1\" type=\"checkbox\" checked><label for=\"sk-estimator-id-1\" class=\"sk-toggleable__label fitted sk-toggleable__label-arrow fitted\">&nbsp;&nbsp;DecisionTreeClassifier<a class=\"sk-estimator-doc-link fitted\" rel=\"noreferrer\" target=\"_blank\" href=\"https://scikit-learn.org/1.4/modules/generated/sklearn.tree.DecisionTreeClassifier.html\">?<span>Documentation for DecisionTreeClassifier</span></a><span class=\"sk-estimator-doc-link fitted\">i<span>Fitted</span></span></label><div class=\"sk-toggleable__content fitted\"><pre>DecisionTreeClassifier()</pre></div> </div></div></div></div>"
      ],
      "text/plain": [
       "DecisionTreeClassifier()"
      ]
     },
     "execution_count": 2,
     "metadata": {},
     "output_type": "execute_result"
    }
   ],
   "source": [
    "line_reg = DecisionTreeRegressor() \n",
    "line_reg.fit(X_train_reg, Y_train_reg)\n",
    "\n",
    "log_reg = DecisionTreeClassifier()\n",
    "log_reg.fit(X_train_class, Y_train_class)"
   ]
  },
  {
   "cell_type": "markdown",
   "id": "2c8230df-5e0c-47dc-a9e5-39a99081eaea",
   "metadata": {},
   "source": [
    "Оцениваем качество классификации"
   ]
  },
  {
   "cell_type": "code",
   "execution_count": 3,
   "id": "4e471d84-99a3-4cc9-968b-4bfdb985a56a",
   "metadata": {},
   "outputs": [
    {
     "name": "stdout",
     "output_type": "stream",
     "text": [
      "Classification accuracy score =  0.8279411764705882\n",
      "Classification CM score\n",
      "================\n",
      " [[3683  729]\n",
      " [ 792 3636]]\n",
      "Classification F1 score =  0.8279346568382822\n"
     ]
    }
   ],
   "source": [
    "predicted_class = log_reg.predict(X_test_class)\n",
    "print(\"Classification accuracy score = \",metrics.accuracy_score(Y_test_class,predicted_class))\n",
    "print(\"Classification CM score\\n================\\n\",metrics.confusion_matrix(Y_test_class,predicted_class))\n",
    "print(\"Classification F1 score = \",metrics.f1_score(Y_test_class,predicted_class, average='weighted'))"
   ]
  },
  {
   "cell_type": "markdown",
   "id": "3f75ea51-81b7-4843-95eb-b20268f390d7",
   "metadata": {},
   "source": [
    "Оцениваем качество регрессии"
   ]
  },
  {
   "cell_type": "code",
   "execution_count": 4,
   "id": "90cd4c54-5d8e-4eb1-9310-fbc99535fda3",
   "metadata": {},
   "outputs": [
    {
     "name": "stdout",
     "output_type": "stream",
     "text": [
      "MSE score =  69.93740482282143\n",
      "R2 score =  0.57258937866422\n"
     ]
    }
   ],
   "source": [
    "predicted_reg = line_reg.predict(X_test_reg)\n",
    "print(\"MSE score = \",metrics.mean_squared_error(Y_test_reg, predicted_reg))\n",
    "print(\"R2 score = \",metrics.r2_score(Y_test_reg, predicted_reg))"
   ]
  },
  {
   "cell_type": "code",
   "execution_count": 5,
   "id": "35b81631-2b45-499e-9f40-71e8ab4d0946",
   "metadata": {},
   "outputs": [
    {
     "data": {
      "text/plain": [
       "<matplotlib.legend.Legend at 0x129305520>"
      ]
     },
     "execution_count": 5,
     "metadata": {},
     "output_type": "execute_result"
    },
    {
     "data": {
      "image/png": "[encoded data removed]",
      "text/plain": [
       "<Figure size 640x480 with 1 Axes>"
      ]
     },
     "metadata": {},
     "output_type": "display_data"
    }
   ],
   "source": [
    "import seaborn as sns\n",
    "sns.kdeplot(Y_test_reg, label='Actual', color='blue', fill=True)\n",
    "sns.kdeplot(predicted_reg, label='Predicted', color='red', fill=True)\n",
    "plt.xlabel('Price')\n",
    "plt.ylabel('Density')\n",
    "plt.legend()"
   ]
  },
  {
   "cell_type": "markdown",
   "id": "329caa45-eff7-4079-abb1-2459f92d0d19",
   "metadata": {},
   "source": [
    "Как видим дерево выбора показала очень хороший результат, она смогла качественно определить оба класса. \n",
    "Точность 0.82 показывает, что дерево выбора отлично подходит для классификации астероидов по опасности.\n",
    "\n",
    "Дерево выбор с регрессией показало неплохой результат. Из графика видно, что она может предсказывать цены в широком окне значений. Но всё равно это хуже чем в KNN"
   ]
  },
  {
   "cell_type": "markdown",
   "id": "7b4df4c8-e63d-4125-ba40-4a818c3f711e",
   "metadata": {},
   "source": [
    "## 3.Улучшение бейз лайнов "
   ]
  },
  {
   "cell_type": "markdown",
   "id": "0f58dc31-65c8-46a1-902d-11480d23dbf8",
   "metadata": {},
   "source": [
    "### Классфикация"
   ]
  },
  {
   "cell_type": "markdown",
   "id": "87efb8db-f21b-470a-9e74-4f7fa503eaab",
   "metadata": {},
   "source": [
    "Для задачи классификации повторим действия из второй лабораторной"
   ]
  },
  {
   "cell_type": "code",
   "execution_count": 6,
   "id": "8ea37416-d5f5-4d96-bdff-d16a5998db7f",
   "metadata": {},
   "outputs": [],
   "source": [
    "df_class['size'] = df_class[['est_diameter_min','est_diameter_max']].mean(axis=1)\n",
    "df_class = df_class.drop(['est_diameter_min','est_diameter_max'],axis=1)"
   ]
  },
  {
   "cell_type": "markdown",
   "id": "db0bf222-216f-427d-8029-4fb22300880b",
   "metadata": {},
   "source": [
    "Смотрим на выбросы в магнитном поле объектов"
   ]
  },
  {
   "cell_type": "code",
   "execution_count": 7,
   "id": "66d26102-bdc6-4b79-9a9c-6c44f0c0054f",
   "metadata": {},
   "outputs": [],
   "source": [
    "from scipy import stats\n",
    "from scipy.signal import savgol_filter\n",
    "\n",
    "df_class = df_class[(np.abs(stats.zscore(df_class.drop(['hazardous'],axis=1))) < 3).all(axis=1)]"
   ]
  },
  {
   "cell_type": "markdown",
   "id": "05e50b0e-365c-4b34-82eb-56b5bd2214aa",
   "metadata": {},
   "source": [
    "### Регрессия"
   ]
  },
  {
   "cell_type": "markdown",
   "id": "d2ff8e13-3aaa-42bd-a999-7167e64abd3b",
   "metadata": {},
   "source": [
    "В прошлой лабораторной я провёл достаточно хорошее улучшение бейзлайна регрессии, поэтому я его так же оставлю."
   ]
  },
  {
   "cell_type": "code",
   "execution_count": 8,
   "id": "1a1e2e20-6795-4aa1-a169-658cde4d4b97",
   "metadata": {},
   "outputs": [],
   "source": [
    "from sklearn.preprocessing import MinMaxScaler\n",
    "# Из лабораторной 1\n",
    "df_reg = pd.read_csv('/Users/denisfadeev/.cache/kagglehub/datasets/pythonafroz/wind-speed-vs-spanish-power-prices/versions/2/wind_vs_price.csv')\n",
    "df_reg_price = pd.read_csv('/Users/denisfadeev/.cache/kagglehub/datasets/pythonafroz/wind-speed-vs-spanish-power-prices/versions/2/da_price.csv')\n",
    "\n",
    "df_reg = pd.read_csv('/Users/denisfadeev/.cache/kagglehub/datasets/pythonafroz/wind-speed-vs-spanish-power-prices/versions/2/wind_vs_price.csv')\n",
    "df_reg_price = pd.read_csv('/Users/denisfadeev/.cache/kagglehub/datasets/pythonafroz/wind-speed-vs-spanish-power-prices/versions/2/da_price.csv')\n",
    "df_reg = df_reg.drop(df_reg[df_reg.fecha > \"2019-01-01\"].index)\n",
    "df_reg = df_reg.drop(['AVG(dp.precio)', 'MIN(dp.precio)', 'MAX(dp.precio)'],axis=1)\n",
    "df_reg = pd.merge(df_reg_price, df_reg, on='fecha', how='left')\n",
    "df_reg = df_reg.dropna(how='any',axis=0)\n",
    "df_reg['datetime_utc'] = pd.to_datetime(df_reg['datetime_utc'])\n",
    "df_reg = df_reg.drop(['fecha', 'sistema', 'bandera', 'fecha_actualizacion'],axis=1)\n",
    "# новый параметр дня недели\n",
    "df_reg['date_of_week'] = df_reg['datetime_utc'].dt.day_name().astype('category').cat.codes\n",
    "# новый параметр месяца\n",
    "df_reg['month'] = df_reg['datetime_utc'].dt.month.astype('category').cat.codes\n",
    "df_reg['datetime_utc'] = df_reg['datetime_utc'].astype(int)\n",
    "# Объединение параметров ветра\n",
    "df_reg['wind'] = df_reg[['AVG(wd.vel_km_h)','MAX(wd.racha_max_km_h)']].mean(axis=1)\n",
    "df_reg = df_reg.drop(['AVG(wd.vel_km_h)','MAX(wd.racha_max_km_h)'],axis=1)"
   ]
  },
  {
   "cell_type": "markdown",
   "id": "3452b389-ddc9-4262-a641-c7a05c5e0b26",
   "metadata": {},
   "source": [
    "Давайте нормализуем эти две колонки через Z оценку. Это должно повлиять на качество предсказания"
   ]
  },
  {
   "cell_type": "code",
   "execution_count": 9,
   "id": "ed0a531e-5960-467a-963e-83cf9acde832",
   "metadata": {},
   "outputs": [],
   "source": [
    "df_reg = df_reg[(np.abs(stats.zscore(df_reg[['precio', 'wind']])) < 3).all(axis=1)]"
   ]
  },
  {
   "cell_type": "markdown",
   "id": "96ba6019-a360-4472-bf8d-0c7886f67336",
   "metadata": {},
   "source": [
    "## Итоговые гипотезы\n",
    "\n",
    "- Классификация\n",
    "  - Объединение параметров размера астероида\n",
    "  - Z-оценка\n",
    "- Регрессия\n",
    "  - Объединение таблицы цены и силы ветра\n",
    "  - Объединение параметров среднего и максимального силы ветра\n",
    "  - Z-оценка\n",
    "  - MinMaxScaling"
   ]
  },
  {
   "cell_type": "markdown",
   "id": "54f97174-3e1f-4288-95e4-05953fb8560f",
   "metadata": {},
   "source": [
    "## Обучение на улучшенном бейзлайне\n",
    "\n",
    "Делим датасет"
   ]
  },
  {
   "cell_type": "code",
   "execution_count": 10,
   "id": "8cf35042-3c6e-45b1-9f55-840fb49401d9",
   "metadata": {},
   "outputs": [],
   "source": [
    "# classification\n",
    "Y_class = df_class['hazardous'].astype(int)\n",
    "scaler = MinMaxScaler()\n",
    "X_class = df_class.drop(['hazardous'],axis=1)\n",
    "X_reg = scaler.fit_transform(X_class)\n",
    "X_train_class, X_test_class, Y_train_class, Y_test_class = train_test_split(X_reg,Y_class,random_state=24314,test_size=0.5, shuffle = True)\n",
    "# regression\n",
    "Y_reg = df_reg['precio']\n",
    "scaler = MinMaxScaler()\n",
    "X_reg = df_reg.drop(['precio'],axis=1)\n",
    "X_reg = scaler.fit_transform(X_reg)\n",
    "X_train_reg, X_test_reg, Y_train_reg, Y_test_reg = train_test_split(X_reg,Y_reg,random_state=24314,test_size=0.5, shuffle = True)"
   ]
  },
  {
   "cell_type": "markdown",
   "id": "f0d9880c-ff68-4c7e-8604-e1d47ce4c47d",
   "metadata": {},
   "source": [
    "Обучаем модели"
   ]
  },
  {
   "cell_type": "code",
   "execution_count": 11,
   "id": "0b5c720f-c585-4f6f-a172-a73b284a6501",
   "metadata": {},
   "outputs": [
    {
     "data": {
      "text/html": [
       "<style>#sk-container-id-2 {\n",
       "  /* Definition of color scheme common for light and dark mode */\n",
       "  --sklearn-color-text: black;\n",
       "  --sklearn-color-line: gray;\n",
       "  /* Definition of color scheme for unfitted estimators */\n",
       "  --sklearn-color-unfitted-level-0: #fff5e6;\n",
       "  --sklearn-color-unfitted-level-1: #f6e4d2;\n",
       "  --sklearn-color-unfitted-level-2: #ffe0b3;\n",
       "  --sklearn-color-unfitted-level-3: chocolate;\n",
       "  /* Definition of color scheme for fitted estimators */\n",
       "  --sklearn-color-fitted-level-0: #f0f8ff;\n",
       "  --sklearn-color-fitted-level-1: #d4ebff;\n",
       "  --sklearn-color-fitted-level-2: #b3dbfd;\n",
       "  --sklearn-color-fitted-level-3: cornflowerblue;\n",
       "\n",
       "  /* Specific color for light theme */\n",
       "  --sklearn-color-text-on-default-background: var(--sg-text-color, var(--theme-code-foreground, var(--jp-content-font-color1, black)));\n",
       "  --sklearn-color-background: var(--sg-background-color, var(--theme-background, var(--jp-layout-color0, white)));\n",
       "  --sklearn-color-border-box: var(--sg-text-color, var(--theme-code-foreground, var(--jp-content-font-color1, black)));\n",
       "  --sklearn-color-icon: #696969;\n",
       "\n",
       "  @media (prefers-color-scheme: dark) {\n",
       "    /* Redefinition of color scheme for dark theme */\n",
       "    --sklearn-color-text-on-default-background: var(--sg-text-color, var(--theme-code-foreground, var(--jp-content-font-color1, white)));\n",
       "    --sklearn-color-background: var(--sg-background-color, var(--theme-background, var(--jp-layout-color0, #111)));\n",
       "    --sklearn-color-border-box: var(--sg-text-color, var(--theme-code-foreground, var(--jp-content-font-color1, white)));\n",
       "    --sklearn-color-icon: #878787;\n",
       "  }\n",
       "}\n",
       "\n",
       "#sk-container-id-2 {\n",
       "  color: var(--sklearn-color-text);\n",
       "}\n",
       "\n",
       "#sk-container-id-2 pre {\n",
       "  padding: 0;\n",
       "}\n",
       "\n",
       "#sk-container-id-2 input.sk-hidden--visually {\n",
       "  border: 0;\n",
       "  clip: rect(1px 1px 1px 1px);\n",
       "  clip: rect(1px, 1px, 1px, 1px);\n",
       "  height: 1px;\n",
       "  margin: -1px;\n",
       "  overflow: hidden;\n",
       "  padding: 0;\n",
       "  position: absolute;\n",
       "  width: 1px;\n",
       "}\n",
       "\n",
       "#sk-container-id-2 div.sk-dashed-wrapped {\n",
       "  border: 1px dashed var(--sklearn-color-line);\n",
       "  margin: 0 0.4em 0.5em 0.4em;\n",
       "  box-sizing: border-box;\n",
       "  padding-bottom: 0.4em;\n",
       "  background-color: var(--sklearn-color-background);\n",
       "}\n",
       "\n",
       "#sk-container-id-2 div.sk-container {\n",
       "  /* jupyter's `normalize.less` sets `[hidden] { display: none; }`\n",
       "     but bootstrap.min.css set `[hidden] { display: none !important; }`\n",
       "     so we also need the `!important` here to be able to override the\n",
       "     default hidden behavior on the sphinx rendered scikit-learn.org.\n",
       "     See: https://github.com/scikit-learn/scikit-learn/issues/21755 */\n",
       "  display: inline-block !important;\n",
       "  position: relative;\n",
       "}\n",
       "\n",
       "#sk-container-id-2 div.sk-text-repr-fallback {\n",
       "  display: none;\n",
       "}\n",
       "\n",
       "div.sk-parallel-item,\n",
       "div.sk-serial,\n",
       "div.sk-item {\n",
       "  /* draw centered vertical line to link estimators */\n",
       "  background-image: linear-gradient(var(--sklearn-color-text-on-default-background), var(--sklearn-color-text-on-default-background));\n",
       "  background-size: 2px 100%;\n",
       "  background-repeat: no-repeat;\n",
       "  background-position: center center;\n",
       "}\n",
       "\n",
       "/* Parallel-specific style estimator block */\n",
       "\n",
       "#sk-container-id-2 div.sk-parallel-item::after {\n",
       "  content: \"\";\n",
       "  width: 100%;\n",
       "  border-bottom: 2px solid var(--sklearn-color-text-on-default-background);\n",
       "  flex-grow: 1;\n",
       "}\n",
       "\n",
       "#sk-container-id-2 div.sk-parallel {\n",
       "  display: flex;\n",
       "  align-items: stretch;\n",
       "  justify-content: center;\n",
       "  background-color: var(--sklearn-color-background);\n",
       "  position: relative;\n",
       "}\n",
       "\n",
       "#sk-container-id-2 div.sk-parallel-item {\n",
       "  display: flex;\n",
       "  flex-direction: column;\n",
       "}\n",
       "\n",
       "#sk-container-id-2 div.sk-parallel-item:first-child::after {\n",
       "  align-self: flex-end;\n",
       "  width: 50%;\n",
       "}\n",
       "\n",
       "#sk-container-id-2 div.sk-parallel-item:last-child::after {\n",
       "  align-self: flex-start;\n",
       "  width: 50%;\n",
       "}\n",
       "\n",
       "#sk-container-id-2 div.sk-parallel-item:only-child::after {\n",
       "  width: 0;\n",
       "}\n",
       "\n",
       "/* Serial-specific style estimator block */\n",
       "\n",
       "#sk-container-id-2 div.sk-serial {\n",
       "  display: flex;\n",
       "  flex-direction: column;\n",
       "  align-items: center;\n",
       "  background-color: var(--sklearn-color-background);\n",
       "  padding-right: 1em;\n",
       "  padding-left: 1em;\n",
       "}\n",
       "\n",
       "\n",
       "/* Toggleable style: style used for estimator/Pipeline/ColumnTransformer box that is\n",
       "clickable and can be expanded/collapsed.\n",
       "- Pipeline and ColumnTransformer use this feature and define the default style\n",
       "- Estimators will overwrite some part of the style using the `sk-estimator` class\n",
       "*/\n",
       "\n",
       "/* Pipeline and ColumnTransformer style (default) */\n",
       "\n",
       "#sk-container-id-2 div.sk-toggleable {\n",
       "  /* Default theme specific background. It is overwritten whether we have a\n",
       "  specific estimator or a Pipeline/ColumnTransformer */\n",
       "  background-color: var(--sklearn-color-background);\n",
       "}\n",
       "\n",
       "/* Toggleable label */\n",
       "#sk-container-id-2 label.sk-toggleable__label {\n",
       "  cursor: pointer;\n",
       "  display: block;\n",
       "  width: 100%;\n",
       "  margin-bottom: 0;\n",
       "  padding: 0.5em;\n",
       "  box-sizing: border-box;\n",
       "  text-align: center;\n",
       "}\n",
       "\n",
       "#sk-container-id-2 label.sk-toggleable__label-arrow:before {\n",
       "  /* Arrow on the left of the label */\n",
       "  content: \"▸\";\n",
       "  float: left;\n",
       "  margin-right: 0.25em;\n",
       "  color: var(--sklearn-color-icon);\n",
       "}\n",
       "\n",
       "#sk-container-id-2 label.sk-toggleable__label-arrow:hover:before {\n",
       "  color: var(--sklearn-color-text);\n",
       "}\n",
       "\n",
       "/* Toggleable content - dropdown */\n",
       "\n",
       "#sk-container-id-2 div.sk-toggleable__content {\n",
       "  max-height: 0;\n",
       "  max-width: 0;\n",
       "  overflow: hidden;\n",
       "  text-align: left;\n",
       "  /* unfitted */\n",
       "  background-color: var(--sklearn-color-unfitted-level-0);\n",
       "}\n",
       "\n",
       "#sk-container-id-2 div.sk-toggleable__content.fitted {\n",
       "  /* fitted */\n",
       "  background-color: var(--sklearn-color-fitted-level-0);\n",
       "}\n",
       "\n",
       "#sk-container-id-2 div.sk-toggleable__content pre {\n",
       "  margin: 0.2em;\n",
       "  border-radius: 0.25em;\n",
       "  color: var(--sklearn-color-text);\n",
       "  /* unfitted */\n",
       "  background-color: var(--sklearn-color-unfitted-level-0);\n",
       "}\n",
       "\n",
       "#sk-container-id-2 div.sk-toggleable__content.fitted pre {\n",
       "  /* unfitted */\n",
       "  background-color: var(--sklearn-color-fitted-level-0);\n",
       "}\n",
       "\n",
       "#sk-container-id-2 input.sk-toggleable__control:checked~div.sk-toggleable__content {\n",
       "  /* Expand drop-down */\n",
       "  max-height: 200px;\n",
       "  max-width: 100%;\n",
       "  overflow: auto;\n",
       "}\n",
       "\n",
       "#sk-container-id-2 input.sk-toggleable__control:checked~label.sk-toggleable__label-arrow:before {\n",
       "  content: \"▾\";\n",
       "}\n",
       "\n",
       "/* Pipeline/ColumnTransformer-specific style */\n",
       "\n",
       "#sk-container-id-2 div.sk-label input.sk-toggleable__control:checked~label.sk-toggleable__label {\n",
       "  color: var(--sklearn-color-text);\n",
       "  background-color: var(--sklearn-color-unfitted-level-2);\n",
       "}\n",
       "\n",
       "#sk-container-id-2 div.sk-label.fitted input.sk-toggleable__control:checked~label.sk-toggleable__label {\n",
       "  background-color: var(--sklearn-color-fitted-level-2);\n",
       "}\n",
       "\n",
       "/* Estimator-specific style */\n",
       "\n",
       "/* Colorize estimator box */\n",
       "#sk-container-id-2 div.sk-estimator input.sk-toggleable__control:checked~label.sk-toggleable__label {\n",
       "  /* unfitted */\n",
       "  background-color: var(--sklearn-color-unfitted-level-2);\n",
       "}\n",
       "\n",
       "#sk-container-id-2 div.sk-estimator.fitted input.sk-toggleable__control:checked~label.sk-toggleable__label {\n",
       "  /* fitted */\n",
       "  background-color: var(--sklearn-color-fitted-level-2);\n",
       "}\n",
       "\n",
       "#sk-container-id-2 div.sk-label label.sk-toggleable__label,\n",
       "#sk-container-id-2 div.sk-label label {\n",
       "  /* The background is the default theme color */\n",
       "  color: var(--sklearn-color-text-on-default-background);\n",
       "}\n",
       "\n",
       "/* On hover, darken the color of the background */\n",
       "#sk-container-id-2 div.sk-label:hover label.sk-toggleable__label {\n",
       "  color: var(--sklearn-color-text);\n",
       "  background-color: var(--sklearn-color-unfitted-level-2);\n",
       "}\n",
       "\n",
       "/* Label box, darken color on hover, fitted */\n",
       "#sk-container-id-2 div.sk-label.fitted:hover label.sk-toggleable__label.fitted {\n",
       "  color: var(--sklearn-color-text);\n",
       "  background-color: var(--sklearn-color-fitted-level-2);\n",
       "}\n",
       "\n",
       "/* Estimator label */\n",
       "\n",
       "#sk-container-id-2 div.sk-label label {\n",
       "  font-family: monospace;\n",
       "  font-weight: bold;\n",
       "  display: inline-block;\n",
       "  line-height: 1.2em;\n",
       "}\n",
       "\n",
       "#sk-container-id-2 div.sk-label-container {\n",
       "  text-align: center;\n",
       "}\n",
       "\n",
       "/* Estimator-specific */\n",
       "#sk-container-id-2 div.sk-estimator {\n",
       "  font-family: monospace;\n",
       "  border: 1px dotted var(--sklearn-color-border-box);\n",
       "  border-radius: 0.25em;\n",
       "  box-sizing: border-box;\n",
       "  margin-bottom: 0.5em;\n",
       "  /* unfitted */\n",
       "  background-color: var(--sklearn-color-unfitted-level-0);\n",
       "}\n",
       "\n",
       "#sk-container-id-2 div.sk-estimator.fitted {\n",
       "  /* fitted */\n",
       "  background-color: var(--sklearn-color-fitted-level-0);\n",
       "}\n",
       "\n",
       "/* on hover */\n",
       "#sk-container-id-2 div.sk-estimator:hover {\n",
       "  /* unfitted */\n",
       "  background-color: var(--sklearn-color-unfitted-level-2);\n",
       "}\n",
       "\n",
       "#sk-container-id-2 div.sk-estimator.fitted:hover {\n",
       "  /* fitted */\n",
       "  background-color: var(--sklearn-color-fitted-level-2);\n",
       "}\n",
       "\n",
       "/* Specification for estimator info (e.g. \"i\" and \"?\") */\n",
       "\n",
       "/* Common style for \"i\" and \"?\" */\n",
       "\n",
       ".sk-estimator-doc-link,\n",
       "a:link.sk-estimator-doc-link,\n",
       "a:visited.sk-estimator-doc-link {\n",
       "  float: right;\n",
       "  font-size: smaller;\n",
       "  line-height: 1em;\n",
       "  font-family: monospace;\n",
       "  background-color: var(--sklearn-color-background);\n",
       "  border-radius: 1em;\n",
       "  height: 1em;\n",
       "  width: 1em;\n",
       "  text-decoration: none !important;\n",
       "  margin-left: 1ex;\n",
       "  /* unfitted */\n",
       "  border: var(--sklearn-color-unfitted-level-1) 1pt solid;\n",
       "  color: var(--sklearn-color-unfitted-level-1);\n",
       "}\n",
       "\n",
       ".sk-estimator-doc-link.fitted,\n",
       "a:link.sk-estimator-doc-link.fitted,\n",
       "a:visited.sk-estimator-doc-link.fitted {\n",
       "  /* fitted */\n",
       "  border: var(--sklearn-color-fitted-level-1) 1pt solid;\n",
       "  color: var(--sklearn-color-fitted-level-1);\n",
       "}\n",
       "\n",
       "/* On hover */\n",
       "div.sk-estimator:hover .sk-estimator-doc-link:hover,\n",
       ".sk-estimator-doc-link:hover,\n",
       "div.sk-label-container:hover .sk-estimator-doc-link:hover,\n",
       ".sk-estimator-doc-link:hover {\n",
       "  /* unfitted */\n",
       "  background-color: var(--sklearn-color-unfitted-level-3);\n",
       "  color: var(--sklearn-color-background);\n",
       "  text-decoration: none;\n",
       "}\n",
       "\n",
       "div.sk-estimator.fitted:hover .sk-estimator-doc-link.fitted:hover,\n",
       ".sk-estimator-doc-link.fitted:hover,\n",
       "div.sk-label-container:hover .sk-estimator-doc-link.fitted:hover,\n",
       ".sk-estimator-doc-link.fitted:hover {\n",
       "  /* fitted */\n",
       "  background-color: var(--sklearn-color-fitted-level-3);\n",
       "  color: var(--sklearn-color-background);\n",
       "  text-decoration: none;\n",
       "}\n",
       "\n",
       "/* Span, style for the box shown on hovering the info icon */\n",
       ".sk-estimator-doc-link span {\n",
       "  display: none;\n",
       "  z-index: 9999;\n",
       "  position: relative;\n",
       "  font-weight: normal;\n",
       "  right: .2ex;\n",
       "  padding: .5ex;\n",
       "  margin: .5ex;\n",
       "  width: min-content;\n",
       "  min-width: 20ex;\n",
       "  max-width: 50ex;\n",
       "  color: var(--sklearn-color-text);\n",
       "  box-shadow: 2pt 2pt 4pt #999;\n",
       "  /* unfitted */\n",
       "  background: var(--sklearn-color-unfitted-level-0);\n",
       "  border: .5pt solid var(--sklearn-color-unfitted-level-3);\n",
       "}\n",
       "\n",
       ".sk-estimator-doc-link.fitted span {\n",
       "  /* fitted */\n",
       "  background: var(--sklearn-color-fitted-level-0);\n",
       "  border: var(--sklearn-color-fitted-level-3);\n",
       "}\n",
       "\n",
       ".sk-estimator-doc-link:hover span {\n",
       "  display: block;\n",
       "}\n",
       "\n",
       "/* \"?\"-specific style due to the `<a>` HTML tag */\n",
       "\n",
       "#sk-container-id-2 a.estimator_doc_link {\n",
       "  float: right;\n",
       "  font-size: 1rem;\n",
       "  line-height: 1em;\n",
       "  font-family: monospace;\n",
       "  background-color: var(--sklearn-color-background);\n",
       "  border-radius: 1rem;\n",
       "  height: 1rem;\n",
       "  width: 1rem;\n",
       "  text-decoration: none;\n",
       "  /* unfitted */\n",
       "  color: var(--sklearn-color-unfitted-level-1);\n",
       "  border: var(--sklearn-color-unfitted-level-1) 1pt solid;\n",
       "}\n",
       "\n",
       "#sk-container-id-2 a.estimator_doc_link.fitted {\n",
       "  /* fitted */\n",
       "  border: var(--sklearn-color-fitted-level-1) 1pt solid;\n",
       "  color: var(--sklearn-color-fitted-level-1);\n",
       "}\n",
       "\n",
       "/* On hover */\n",
       "#sk-container-id-2 a.estimator_doc_link:hover {\n",
       "  /* unfitted */\n",
       "  background-color: var(--sklearn-color-unfitted-level-3);\n",
       "  color: var(--sklearn-color-background);\n",
       "  text-decoration: none;\n",
       "}\n",
       "\n",
       "#sk-container-id-2 a.estimator_doc_link.fitted:hover {\n",
       "  /* fitted */\n",
       "  background-color: var(--sklearn-color-fitted-level-3);\n",
       "}\n",
       "</style><div id=\"sk-container-id-2\" class=\"sk-top-container\"><div class=\"sk-text-repr-fallback\"><pre>DecisionTreeClassifier()</pre><b>In a Jupyter environment, please rerun this cell to show the HTML representation or trust the notebook. <br />On GitHub, the HTML representation is unable to render, please try loading this page with nbviewer.org.</b></div><div class=\"sk-container\" hidden><div class=\"sk-item\"><div class=\"sk-estimator fitted sk-toggleable\"><input class=\"sk-toggleable__control sk-hidden--visually\" id=\"sk-estimator-id-2\" type=\"checkbox\" checked><label for=\"sk-estimator-id-2\" class=\"sk-toggleable__label fitted sk-toggleable__label-arrow fitted\">&nbsp;&nbsp;DecisionTreeClassifier<a class=\"sk-estimator-doc-link fitted\" rel=\"noreferrer\" target=\"_blank\" href=\"https://scikit-learn.org/1.4/modules/generated/sklearn.tree.DecisionTreeClassifier.html\">?<span>Documentation for DecisionTreeClassifier</span></a><span class=\"sk-estimator-doc-link fitted\">i<span>Fitted</span></span></label><div class=\"sk-toggleable__content fitted\"><pre>DecisionTreeClassifier()</pre></div> </div></div></div></div>"
      ],
      "text/plain": [
       "DecisionTreeClassifier()"
      ]
     },
     "execution_count": 11,
     "metadata": {},
     "output_type": "execute_result"
    }
   ],
   "source": [
    "line_reg = DecisionTreeRegressor() \n",
    "line_reg.fit(X_train_reg, Y_train_reg)\n",
    "\n",
    "log_reg = DecisionTreeClassifier()\n",
    "log_reg.fit(X_train_class, Y_train_class)"
   ]
  },
  {
   "cell_type": "markdown",
   "id": "be5ac1a7-a594-4bcb-b121-b32c688458fc",
   "metadata": {},
   "source": [
    "### Оценим классификацию"
   ]
  },
  {
   "cell_type": "code",
   "execution_count": 12,
   "id": "d8d86936-7e5f-499d-a060-fa32a0e7ae1b",
   "metadata": {},
   "outputs": [
    {
     "name": "stdout",
     "output_type": "stream",
     "text": [
      "Classification accuracy score =  0.8391152502910361\n",
      "Classification CM score\n",
      "================\n",
      " [[3651  708]\n",
      " [ 674 3557]]\n",
      "================\n",
      "Classification F1 score =  0.8391222195616982\n"
     ]
    }
   ],
   "source": [
    "predicted_class = log_reg.predict(X_test_class)\n",
    "print(\"Classification accuracy score = \",metrics.accuracy_score(Y_test_class,predicted_class))\n",
    "print(\"Classification CM score\\n================\\n\",metrics.confusion_matrix(Y_test_class,predicted_class))\n",
    "print(\"================\\nClassification F1 score = \",metrics.f1_score(Y_test_class,predicted_class, average='weighted'))"
   ]
  },
  {
   "cell_type": "markdown",
   "id": "422eff74-c34c-4973-9f9f-8fba483f3018",
   "metadata": {},
   "source": [
    "Нам удалось повысить немного F1 Score, но незначительно"
   ]
  },
  {
   "cell_type": "markdown",
   "id": "20701dda-8f20-451f-871e-fe0c5961ec44",
   "metadata": {},
   "source": [
    "### Оценка предсказания"
   ]
  },
  {
   "cell_type": "code",
   "execution_count": 13,
   "id": "cf381c2c-6407-468c-b250-d34d48e85ea1",
   "metadata": {},
   "outputs": [
    {
     "name": "stdout",
     "output_type": "stream",
     "text": [
      "MSE score =  21.949501279817344\n",
      "R2 score =  0.8870522466630726\n"
     ]
    },
    {
     "data": {
      "text/plain": [
       "<matplotlib.legend.Legend at 0x1295c4700>"
      ]
     },
     "execution_count": 13,
     "metadata": {},
     "output_type": "execute_result"
    },
    {
     "data": {
      "image/png": "[encoded data removed]",
      "text/plain": [
       "<Figure size 640x480 with 1 Axes>"
      ]
     },
     "metadata": {},
     "output_type": "display_data"
    }
   ],
   "source": [
    "predicted_reg = line_reg.predict(X_test_reg)\n",
    "print(\"MSE score = \",metrics.mean_squared_error(Y_test_reg, predicted_reg))\n",
    "print(\"R2 score = \",metrics.r2_score(Y_test_reg, predicted_reg))\n",
    "\n",
    "import seaborn as sns\n",
    "sns.kdeplot(Y_test_reg, label='Actual', color='blue', fill=True)\n",
    "sns.kdeplot(predicted_reg, label='Predicted', color='red', fill=True)\n",
    "plt.xlabel('Price')\n",
    "plt.ylabel('Density')\n",
    "plt.legend()"
   ]
  },
  {
   "cell_type": "markdown",
   "id": "033bd5ba-d978-45df-b24d-8bc7bc7bfd37",
   "metadata": {},
   "source": [
    "Дерево выбор стало отлично работать на улучшенном бейзлайне. Точность предскзаания выросла почти в 2 раза."
   ]
  },
  {
   "cell_type": "markdown",
   "id": "29b7f9b9-b220-41d6-a825-7caaf79b9372",
   "metadata": {},
   "source": [
    "# Имплементация алгоритма машинного обучения"
   ]
  },
  {
   "cell_type": "markdown",
   "id": "f8e0fb46-18e4-426d-b7f3-e62dfbf09de6",
   "metadata": {},
   "source": [
    "***Дерево выбора с регрессией***"
   ]
  },
  {
   "cell_type": "code",
   "execution_count": 14,
   "id": "32319e97-708f-46f3-ad34-b55244ee3459",
   "metadata": {},
   "outputs": [],
   "source": [
    "import numpy as np\n",
    "\n",
    "class MyDecisionTreeRegressor:\n",
    "    def __init__(self, max_depth=5, min_samples_split=2):\n",
    "        self.max_depth = max_depth\n",
    "        self.min_samples_split = min_samples_split\n",
    "        self.tree = None\n",
    "\n",
    "    def fit(self, X, y):\n",
    "        self.tree = self._build_tree(X, y)\n",
    "\n",
    "    def predict(self, X):\n",
    "        return np.array([self._predict(x, self.tree) for x in X])\n",
    "\n",
    "    def _build_tree(self, X, y, depth=0):\n",
    "        if len(set(y)) == 1:\n",
    "            return y[0]\n",
    "        \n",
    "        if self.max_depth and depth >= self.max_depth:\n",
    "            return np.mean(y)\n",
    "\n",
    "        if len(y) < self.min_samples_split:\n",
    "            return np.mean(y)\n",
    "\n",
    "        best_split = self._find_best_split(X, y)\n",
    "        if not best_split:\n",
    "            return np.mean(y)\n",
    "\n",
    "        left_indices = best_split['left_indices']\n",
    "        right_indices = best_split['right_indices']\n",
    "        left_child = self._build_tree(X[left_indices], y[left_indices], depth + 1)\n",
    "        right_child = self._build_tree(X[right_indices], y[right_indices], depth + 1)\n",
    "        \n",
    "        return {\n",
    "            'feature_index': best_split['feature_index'],\n",
    "            'threshold': best_split['threshold'],\n",
    "            'left': left_child,\n",
    "            'right': right_child\n",
    "        }\n",
    "\n",
    "    def _find_best_split(self, X, y):\n",
    "        best_split = {}\n",
    "        best_mse = float('inf')\n",
    "\n",
    "        for feature_index in range(X.shape[1]):\n",
    "            thresholds = np.unique(X[:, feature_index])\n",
    "            for threshold in thresholds:\n",
    "                left_indices = np.where(X[:, feature_index] <= threshold)[0]\n",
    "                right_indices = np.where(X[:, feature_index] > threshold)[0]\n",
    "\n",
    "                if len(left_indices) == 0 or len(right_indices) == 0:\n",
    "                    continue\n",
    "\n",
    "                left_y = y[left_indices]\n",
    "                right_y = y[right_indices]\n",
    "                mse = self._calculate_mse(left_y, right_y)\n",
    "\n",
    "                if mse < best_mse:\n",
    "                    best_mse = mse\n",
    "                    best_split = {\n",
    "                        'feature_index': feature_index,\n",
    "                        'threshold': threshold,\n",
    "                        'left_indices': left_indices,\n",
    "                        'right_indices': right_indices\n",
    "                    }\n",
    "        \n",
    "        return best_split\n",
    "\n",
    "    def _calculate_mse(self, left_y, right_y):\n",
    "        left_mean = np.mean(left_y)\n",
    "        right_mean = np.mean(right_y)\n",
    "        left_mse = np.mean((left_y - left_mean) ** 2)\n",
    "        right_mse = np.mean((right_y - right_mean) ** 2)\n",
    "        total_mse = (left_mse * len(left_y) + right_mse * len(right_y)) / (len(left_y) + len(right_y))\n",
    "        return total_mse\n",
    "\n",
    "    def _predict(self, x, tree):\n",
    "        if not isinstance(tree, dict):\n",
    "            return tree\n",
    "\n",
    "        feature_index = tree['feature_index']\n",
    "        threshold = tree['threshold']\n",
    "\n",
    "        if x[feature_index] <= threshold:\n",
    "            return self._predict(x, tree['left'])\n",
    "        else:\n",
    "            return self._predict(x, tree['right'])\n"
   ]
  },
  {
   "cell_type": "markdown",
   "id": "f1bcdc1a-5909-4ada-85a6-09aaaf9e1f2b",
   "metadata": {},
   "source": [
    "***Дерево выбора для классификации***"
   ]
  },
  {
   "cell_type": "code",
   "execution_count": 15,
   "id": "adc61f4d-e392-45ed-aa5a-e349546688f8",
   "metadata": {},
   "outputs": [],
   "source": [
    "import numpy as np\n",
    "\n",
    "class MyDecisionTreeClassifier:\n",
    "    def __init__(self, max_depth=5, min_samples_split=2):\n",
    "        self.max_depth = max_depth\n",
    "        self.min_samples_split = min_samples_split\n",
    "        self.tree = None\n",
    "\n",
    "    def fit(self, X, y):\n",
    "        self.tree = self._build_tree(X, y)\n",
    "\n",
    "    def predict(self, X):\n",
    "        return np.array([self._predict(x, self.tree) for x in X])\n",
    "\n",
    "    def _build_tree(self, X, y, depth=0):\n",
    "        if len(set(y)) == 1:\n",
    "            return y[0]\n",
    "        \n",
    "        if self.max_depth and depth >= self.max_depth:\n",
    "            return self._majority_vote(y)\n",
    "\n",
    "        if len(y) < self.min_samples_split:\n",
    "            return self._majority_vote(y)\n",
    "\n",
    "        best_split = self._find_best_split(X, y)\n",
    "        if not best_split:\n",
    "            return self._majority_vote(y)\n",
    "\n",
    "        left_indices = best_split['left_indices']\n",
    "        right_indices = best_split['right_indices']\n",
    "        left_child = self._build_tree(X[left_indices], y[left_indices], depth + 1)\n",
    "        right_child = self._build_tree(X[right_indices], y[right_indices], depth + 1)\n",
    "        \n",
    "        return {\n",
    "            'feature_index': best_split['feature_index'],\n",
    "            'threshold': best_split['threshold'],\n",
    "            'left': left_child,\n",
    "            'right': right_child\n",
    "        }\n",
    "\n",
    "    def _find_best_split(self, X, y):\n",
    "        best_split = {}\n",
    "        best_gini = float('inf')\n",
    "\n",
    "        for feature_index in range(X.shape[1]):\n",
    "            thresholds = np.unique(X[:, feature_index])\n",
    "            for threshold in thresholds:\n",
    "                left_indices = np.where(X[:, feature_index] <= threshold)[0]\n",
    "                right_indices = np.where(X[:, feature_index] > threshold)[0]\n",
    "\n",
    "                if len(left_indices) == 0 or len(right_indices) == 0:\n",
    "                    continue\n",
    "\n",
    "                left_y = y[left_indices]\n",
    "                right_y = y[right_indices]\n",
    "                gini = self._calculate_gini(left_y, right_y)\n",
    "\n",
    "                if gini < best_gini:\n",
    "                    best_gini = gini\n",
    "                    best_split = {\n",
    "                        'feature_index': feature_index,\n",
    "                        'threshold': threshold,\n",
    "                        'left_indices': left_indices,\n",
    "                        'right_indices': right_indices\n",
    "                    }\n",
    "        \n",
    "        return best_split\n",
    "\n",
    "    def _calculate_gini(self, left_y, right_y):\n",
    "        def gini_impurity(y):\n",
    "            classes, counts = np.unique(y, return_counts=True)\n",
    "            p = counts / len(y)\n",
    "            return 1 - np.sum(p**2)\n",
    "\n",
    "        left_gini = gini_impurity(left_y)\n",
    "        right_gini = gini_impurity(right_y)\n",
    "        total_gini = (left_gini * len(left_y) + right_gini * len(right_y)) / (len(left_y) + len(right_y))\n",
    "        return total_gini\n",
    "\n",
    "    def _majority_vote(self, y):\n",
    "        classes, counts = np.unique(y, return_counts=True)\n",
    "        return classes[np.argmax(counts)]\n",
    "\n",
    "    def _predict(self, x, tree):\n",
    "        if not isinstance(tree, dict):\n",
    "            return tree\n",
    "\n",
    "        feature_index = tree['feature_index']\n",
    "        threshold = tree['threshold']\n",
    "\n",
    "        if x[feature_index] <= threshold:\n",
    "            return self._predict(x, tree['left'])\n",
    "        else:\n",
    "            return self._predict(x, tree['right'])\n"
   ]
  },
  {
   "cell_type": "markdown",
   "id": "fec878b0-24aa-4cc8-8d04-b78618aad2c7",
   "metadata": {},
   "source": [
    "### Обучение и оценка модели"
   ]
  },
  {
   "cell_type": "code",
   "execution_count": 16,
   "id": "1ab37387-9fcf-4819-81fa-f663cd0d4e92",
   "metadata": {},
   "outputs": [],
   "source": [
    "df_class = pd.read_csv('/Users/denisfadeev/.cache/kagglehub/datasets/sameepvani/nasa-nearest-earth-objects/versions/2/neo_v2.csv')\n",
    "df_reg = pd.read_csv('/Users/denisfadeev/.cache/kagglehub/datasets/pythonafroz/wind-speed-vs-spanish-power-prices/versions/2/wind_vs_price.csv')\n",
    "\n",
    "# В классификации избавляемся от столбцов, не влияющих на результат (различные названия и имена)\n",
    "df_class = df_class.drop(['orbiting_body','sentry_object', 'name', 'id'],axis=1)\n",
    "df_class = df_class.sort_values('hazardous', ascending=False).head(2*df_class['hazardous'].value_counts().get(True, 0))\n",
    "\n",
    "# # В регрессии переводим даты в timestamp и уберём данные после 2019 года, так как там произошёл короновирус\n",
    "df_reg = df_reg.drop(df_reg[df_reg.fecha > \"2019-01-01\"].index)\n",
    "df_reg['time'] = pd.to_datetime(df_reg['fecha']).astype(int)\n",
    "df_reg = df_reg.drop(['fecha', 'MIN(dp.precio)', 'MAX(dp.precio)'], axis = 1)\n",
    "\n",
    "# classification\n",
    "#df_class = df_class.sort_values('hazardous', ascending=False).head(2*df_class['hazardous'].value_counts().get(True, 0))\n",
    "Y_class = df_class['hazardous'].astype(int)\n",
    "X_class = df_class.drop(['hazardous'],axis=1)\n",
    "X_train_class, X_test_class, Y_train_class, Y_test_class = train_test_split(X_class,Y_class,random_state=24,test_size=0.5, shuffle = True)\n",
    "# regression\n",
    "Y_reg = df_reg['AVG(dp.precio)']\n",
    "X_reg = df_reg.drop(['AVG(dp.precio)'],axis=1)\n",
    "X_train_reg, X_test_reg, Y_train_reg, Y_test_reg = train_test_split(X_reg,Y_reg,random_state=24314,test_size=0.5, shuffle = True)"
   ]
  },
  {
   "cell_type": "markdown",
   "id": "7fe4ade4-162b-4d93-ac69-16b1f78ac2b2",
   "metadata": {},
   "source": [
    "Обучение моделей"
   ]
  },
  {
   "cell_type": "code",
   "execution_count": 17,
   "id": "66be14a3-4eee-407f-94b7-170183534e88",
   "metadata": {},
   "outputs": [],
   "source": [
    "line_reg = MyDecisionTreeRegressor() \n",
    "line_reg.fit(X_train_reg.to_numpy(), Y_train_reg.to_numpy())\n",
    "\n",
    "log_reg = MyDecisionTreeClassifier()\n",
    "log_reg.fit(X_train_class.to_numpy(), Y_train_class.to_numpy())"
   ]
  },
  {
   "cell_type": "raw",
   "id": "b11e7b76-9e81-4261-992c-7d0ef97b125e",
   "metadata": {},
   "source": [
    "Оценка классификации"
   ]
  },
  {
   "cell_type": "code",
   "execution_count": 18,
   "id": "7f0b128f-7821-449b-b2d2-f9f205b3a272",
   "metadata": {
    "scrolled": true
   },
   "outputs": [
    {
     "name": "stdout",
     "output_type": "stream",
     "text": [
      "Classification accuracy score =  0.8855203619909502\n",
      "Classification CM score\n",
      "================\n",
      " [[3447  966]\n",
      " [  46 4381]]\n",
      "Classification F1 score =  0.8842473461544672\n"
     ]
    }
   ],
   "source": [
    "predicted_class = log_reg.predict(X_test_class.to_numpy())\n",
    "print(\"Classification accuracy score = \",metrics.accuracy_score(Y_test_class.to_numpy(),predicted_class))\n",
    "print(\"Classification CM score\\n================\\n\",metrics.confusion_matrix(Y_test_class.to_numpy(),predicted_class))\n",
    "print(\"Classification F1 score = \",metrics.f1_score(Y_test_class.to_numpy(),predicted_class, average='weighted'))"
   ]
  },
  {
   "cell_type": "markdown",
   "id": "b6925151-1890-419c-ac55-92d1f511a5b9",
   "metadata": {},
   "source": [
    "Оценка регрессии"
   ]
  },
  {
   "cell_type": "code",
   "execution_count": 19,
   "id": "0f53c2d8-990a-4dec-b1e2-0577cfbfd20d",
   "metadata": {},
   "outputs": [
    {
     "name": "stdout",
     "output_type": "stream",
     "text": [
      "MSE score =  62.48254812643434\n",
      "R2 score =  0.6181484745535242\n"
     ]
    },
    {
     "data": {
      "text/plain": [
       "<matplotlib.legend.Legend at 0x12994f9d0>"
      ]
     },
     "execution_count": 19,
     "metadata": {},
     "output_type": "execute_result"
    },
    {
     "data": {
      "image/png": "[encoded data removed]",
      "text/plain": [
       "<Figure size 640x480 with 1 Axes>"
      ]
     },
     "metadata": {},
     "output_type": "display_data"
    }
   ],
   "source": [
    "predicted_reg = line_reg.predict(X_test_reg.to_numpy())\n",
    "print(\"MSE score = \",metrics.mean_squared_error(Y_test_reg.to_numpy(), predicted_reg))\n",
    "print(\"R2 score = \",metrics.r2_score(Y_test_reg.to_numpy(), predicted_reg))\n",
    "sns.kdeplot(Y_test_reg, label='Actual', color='blue', fill=True)\n",
    "sns.kdeplot(predicted_reg, label='Predicted', color='red', fill=True)\n",
    "plt.xlabel('Price')\n",
    "plt.ylabel('Density')\n",
    "plt.legend()"
   ]
  },
  {
   "cell_type": "markdown",
   "id": "f42b8337-d99d-402d-8f2f-1c858c8664f7",
   "metadata": {},
   "source": [
    "### Как видим собственные модели регрессии показали результаты даже лучше, чем библиотечные реализации. Но задача регрессии была решена значительно нестабильнее, чем библиотечная реализация"
   ]
  },
  {
   "cell_type": "markdown",
   "id": "c7e20221-89ec-4f45-a555-479ef3ddc881",
   "metadata": {},
   "source": [
    "# Применяем улучшенный бейзлайн для собственных моделей"
   ]
  },
  {
   "cell_type": "markdown",
   "id": "78ba04ec-49ff-4754-863c-1379448f0273",
   "metadata": {},
   "source": [
    "Бейз лайн классификации"
   ]
  },
  {
   "cell_type": "code",
   "execution_count": 20,
   "id": "f8d762d3-be1c-4324-97dd-fffd1580a651",
   "metadata": {},
   "outputs": [],
   "source": [
    "df_class['size'] = df_class[['est_diameter_min','est_diameter_max']].mean(axis=1)\n",
    "df_class = df_class.drop(['est_diameter_min','est_diameter_max'],axis=1)\n",
    "df_class = df_class[(np.abs(stats.zscore(df_class.drop(['hazardous'],axis=1))) < 3).all(axis=1)]"
   ]
  },
  {
   "cell_type": "markdown",
   "id": "cbc107e8-de47-412a-acfb-78c306845279",
   "metadata": {},
   "source": [
    "Бейз лайн регрессии"
   ]
  },
  {
   "cell_type": "code",
   "execution_count": 21,
   "id": "4cd35eb3-6df7-4341-b942-0dd346970945",
   "metadata": {},
   "outputs": [],
   "source": [
    "# Из лабораторной 1\n",
    "df_reg = pd.read_csv('/Users/denisfadeev/.cache/kagglehub/datasets/pythonafroz/wind-speed-vs-spanish-power-prices/versions/2/wind_vs_price.csv')\n",
    "df_reg_price = pd.read_csv('/Users/denisfadeev/.cache/kagglehub/datasets/pythonafroz/wind-speed-vs-spanish-power-prices/versions/2/da_price.csv')\n",
    "df_reg = df_reg.drop(df_reg[df_reg.fecha > \"2019-01-01\"].index)\n",
    "df_reg = df_reg.drop(['AVG(dp.precio)', 'MIN(dp.precio)', 'MAX(dp.precio)'],axis=1)\n",
    "df_reg = pd.merge(df_reg_price, df_reg, on='fecha', how='left')\n",
    "df_reg = df_reg.dropna(how='any',axis=0)\n",
    "df_reg['datetime_utc'] = pd.to_datetime(df_reg['datetime_utc'])\n",
    "df_reg = df_reg.drop(['fecha', 'sistema', 'bandera', 'fecha_actualizacion'],axis=1)\n",
    "# новый параметр дня недели\n",
    "df_reg['date_of_week'] = df_reg['datetime_utc'].dt.day_name().astype('category').cat.codes\n",
    "# новый параметр месяца\n",
    "df_reg['month'] = df_reg['datetime_utc'].dt.month.astype('category').cat.codes\n",
    "df_reg['datetime_utc'] = df_reg['datetime_utc'].astype(int)\n",
    "# Объединение параметров ветра\n",
    "df_reg['wind'] = df_reg[['AVG(wd.vel_km_h)','MAX(wd.racha_max_km_h)']].mean(axis=1)\n",
    "df_reg = df_reg.drop(['AVG(wd.vel_km_h)','MAX(wd.racha_max_km_h)'],axis=1)\n",
    "df_reg = df_reg[(np.abs(stats.zscore(df_reg[['precio', 'wind']])) < 3).all(axis=1)]"
   ]
  },
  {
   "cell_type": "markdown",
   "id": "c21442a9-871f-4497-ab89-e043ff5b7cf8",
   "metadata": {},
   "source": [
    "## Обучение своих моделей на улучшенных бейзалйнах"
   ]
  },
  {
   "cell_type": "markdown",
   "id": "854936f8-b2f5-4cd2-a324-8fe52eb018a5",
   "metadata": {},
   "source": [
    "Готовим датасеты"
   ]
  },
  {
   "cell_type": "code",
   "execution_count": 22,
   "id": "95f66c0d-638f-4bb6-8aa3-5a192834e5c8",
   "metadata": {},
   "outputs": [],
   "source": [
    "# classification\n",
    "Y_class = df_class['hazardous'].astype(int)\n",
    "scaler = MinMaxScaler()\n",
    "X_class = df_class.drop(['hazardous'],axis=1)\n",
    "X_reg = scaler.fit_transform(X_class)\n",
    "X_train_class, X_test_class, Y_train_class, Y_test_class = train_test_split(X_reg,Y_class,random_state=24314,test_size=0.5, shuffle = True)\n",
    "# regression\n",
    "Y_reg = df_reg['precio']\n",
    "scaler = MinMaxScaler()\n",
    "X_reg = df_reg.drop(['precio'],axis=1)\n",
    "X_reg = scaler.fit_transform(X_reg)\n",
    "X_train_reg, X_test_reg, Y_train_reg, Y_test_reg = train_test_split(X_reg,Y_reg,random_state=24314,test_size=0.5, shuffle = True)"
   ]
  },
  {
   "cell_type": "markdown",
   "id": "97992b58-d763-4a45-860e-9a1dcb5825ae",
   "metadata": {},
   "source": [
    "Обучение моделей"
   ]
  },
  {
   "cell_type": "code",
   "execution_count": 23,
   "id": "4a804f98-71bf-49a8-bc91-5acdcf9721d8",
   "metadata": {},
   "outputs": [],
   "source": [
    "line_reg = MyDecisionTreeRegressor() \n",
    "line_reg.fit(X_train_reg, Y_train_reg.to_numpy())\n",
    "\n",
    "log_reg = MyDecisionTreeClassifier()\n",
    "log_reg.fit(X_train_class, Y_train_class.to_numpy())"
   ]
  },
  {
   "cell_type": "markdown",
   "id": "38ec5911-453a-4b1a-90b7-47a930b89b21",
   "metadata": {},
   "source": [
    "Оценка классификации"
   ]
  },
  {
   "cell_type": "code",
   "execution_count": 24,
   "id": "4d9eda3a-602c-43f2-89d3-8a67b4db3d4e",
   "metadata": {
    "scrolled": true
   },
   "outputs": [
    {
     "name": "stdout",
     "output_type": "stream",
     "text": [
      "Classification accuracy score =  0.8869615832363213\n",
      "Classification F1 score =  0.8858596801265705\n"
     ]
    }
   ],
   "source": [
    "predicted_class = log_reg.predict(X_test_class)\n",
    "print(\"Classification accuracy score = \",metrics.accuracy_score(Y_test_class.to_numpy(),predicted_class))\n",
    "print(\"Classification F1 score = \",metrics.f1_score(Y_test_class.to_numpy(),predicted_class, average='weighted'))"
   ]
  },
  {
   "cell_type": "markdown",
   "id": "8fb5776f-7df2-4d3d-b13b-bee916146ceb",
   "metadata": {},
   "source": [
    "Оценка регрессии"
   ]
  },
  {
   "cell_type": "code",
   "execution_count": 25,
   "id": "4f3c94c8-291f-45d3-81dc-6d89d4f9f9a5",
   "metadata": {},
   "outputs": [
    {
     "name": "stdout",
     "output_type": "stream",
     "text": [
      "MSE score =  84.64115442391366\n",
      "R2 score =  0.5644535103485256\n"
     ]
    },
    {
     "data": {
      "text/plain": [
       "<matplotlib.legend.Legend at 0x12998d550>"
      ]
     },
     "execution_count": 25,
     "metadata": {},
     "output_type": "execute_result"
    },
    {
     "data": {
      "image/png": "[encoded data removed]",
      "text/plain": [
       "<Figure size 640x480 with 1 Axes>"
      ]
     },
     "metadata": {},
     "output_type": "display_data"
    }
   ],
   "source": [
    "predicted_reg = line_reg.predict(X_test_reg)\n",
    "print(\"MSE score = \",metrics.mean_squared_error(Y_test_reg, predicted_reg))\n",
    "print(\"R2 score = \",metrics.r2_score(Y_test_reg, predicted_reg))\n",
    "sns.kdeplot(Y_test_reg, label='Actual', color='blue', fill=True)\n",
    "sns.kdeplot(predicted_reg, label='Predicted', color='red', fill=True)\n",
    "plt.xlabel('Price')\n",
    "plt.ylabel('Density')\n",
    "plt.legend()"
   ]
  },
  {
   "cell_type": "markdown",
   "id": "7de3772f-c0c6-44a3-95b4-cbe1e17f9dc8",
   "metadata": {},
   "source": [
    "### Модель регрессии показала худший результат на улучшенном бейзлайне. "
   ]
  },
  {
   "cell_type": "markdown",
   "id": "d6713772-4b62-4d08-b705-214d1cd2ee6a",
   "metadata": {},
   "source": [
    "# Сравнительные выводы"
   ]
  },
  {
   "cell_type": "markdown",
   "id": "104630dd-b18f-44f6-9657-dd61bf3b8ae6",
   "metadata": {},
   "source": [
    "Соберём все лучшие результаты и метрики внутри одной таблицы чтобы провести итоговое сравнение всех моделей"
   ]
  },
  {
   "cell_type": "markdown",
   "id": "164c3c3d-72b8-4cc2-a49f-d0abfdf7d6f4",
   "metadata": {},
   "source": [
    "|Модель|Метрики обычного бейзлайна|Метрики улучшенного бейзлайна|\n",
    "|-|-|-|\n",
    "|Дерево выбора|max_acc = 0.82 max_F1 = 0.82|max_acc = 0.83 max_F1 = 0.835|\n",
    "|Моё дерево выбора|max_acc = 0.88 max_F1 = 0.85|max_acc = 0.886 max_F1 = 0.885|\n",
    "|Дерево выбора для регрессии|min_MSE = 70.05 max_R2 = 0.57|min_MSE = 22.34 max_R2 = 0.88|\n",
    "|Моё дерево выбор для регрессии|min_MSE = 62.48 max_R2 = 0.61|min_MSE = 84.641 max_R2 = 0.564|\n"
   ]
  },
  {
   "cell_type": "markdown",
   "id": "c287f272-ecb6-4979-a68b-37d7465a51a5",
   "metadata": {},
   "source": [
    "В ходе лабораторной работы получилось добиться почти во всех случаях улучшения качества предсказания и классификации для моделей за счет улучшенного бейзлайна.\n",
    "К удивлению, собственная реализация дерева выбора оказалась лучше, чем бибилиотечная реализация\n",
    "При этом регрессия показала плохой результат, никакого улучшения на новом бейзлайне мы не получили."
   ]
  }
 ],
 "metadata": {
  "kernelspec": {
   "display_name": "Python 3 (ipykernel)",
   "language": "python",
   "name": "python3"
  },
  "language_info": {
   "codemirror_mode": {
    "name": "ipython",
    "version": 3
   },
   "file_extension": ".py",
   "mimetype": "text/x-python",
   "name": "python",
   "nbconvert_exporter": "python",
   "pygments_lexer": "ipython3",
   "version": "3.9.19"
  }
 },
 "nbformat": 4,
 "nbformat_minor": 5
}
