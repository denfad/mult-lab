{
 "cells": [
  {
   "attachments": {},
   "cell_type": "markdown",
   "id": "e5c217a7-aafe-4fad-9fa0-b955848ae4fa",
   "metadata": {},
   "source": [
    "# Лабораторная работа №1 Проведение исследований с алгоритмом KNN"
   ]
  },
  {
   "cell_type": "markdown",
   "id": "b5eff1bf-7b1d-4cd2-a0ac-e14590e5adf1",
   "metadata": {},
   "source": [
    " ## 1.Выбор начальных условий"
   ]
  },
  {
   "cell_type": "markdown",
   "id": "cbf45fdb-17fd-43d8-aa26-fa408075a72a",
   "metadata": {},
   "source": [
    "### А. Задача классфикации"
   ]
  },
  {
   "cell_type": "markdown",
   "id": "8f67036d-ff56-44cc-98f9-597b233b1237",
   "metadata": {},
   "source": [
    "Для задачи классфикации был выбран дата-сет астероидов, проходящих рядом с нашей планетой. Необходимо по параметрам размера и магнитного поля астероида оценить, является ли данный объект опасным для нашей планеты. Это актуальная задача для современной астрономии, так как мы ежеденевно наблюдаем в свои цифровые телескопы сотни новых космических объектов, которые требуют автоматизированного изучения. Справиться с такой не тривиальной задачей могут только модели машинного обучения.\n",
    "\n",
    "Назовём `df_class` таблицу с данными для классификации"
   ]
  },
  {
   "cell_type": "code",
   "execution_count": 1,
   "id": "24a5b825-aabf-4580-9d68-62b73a30ecb1",
   "metadata": {},
   "outputs": [
    {
     "name": "stdout",
     "output_type": "stream",
     "text": [
      "Warning: Looks like you're using an outdated `kagglehub` version, please consider updating (latest version: 0.3.6)\n"
     ]
    },
    {
     "data": {
      "text/html": [
       "<div>\n",
       "<style scoped>\n",
       "    .dataframe tbody tr th:only-of-type {\n",
       "        vertical-align: middle;\n",
       "    }\n",
       "\n",
       "    .dataframe tbody tr th {\n",
       "        vertical-align: top;\n",
       "    }\n",
       "\n",
       "    .dataframe thead th {\n",
       "        text-align: right;\n",
       "    }\n",
       "</style>\n",
       "<table border=\"1\" class=\"dataframe\">\n",
       "  <thead>\n",
       "    <tr style=\"text-align: right;\">\n",
       "      <th></th>\n",
       "      <th>id</th>\n",
       "      <th>est_diameter_min</th>\n",
       "      <th>est_diameter_max</th>\n",
       "      <th>relative_velocity</th>\n",
       "      <th>miss_distance</th>\n",
       "      <th>absolute_magnitude</th>\n",
       "    </tr>\n",
       "  </thead>\n",
       "  <tbody>\n",
       "    <tr>\n",
       "      <th>count</th>\n",
       "      <td>9.083600e+04</td>\n",
       "      <td>90836.000000</td>\n",
       "      <td>90836.000000</td>\n",
       "      <td>90836.000000</td>\n",
       "      <td>9.083600e+04</td>\n",
       "      <td>90836.000000</td>\n",
       "    </tr>\n",
       "    <tr>\n",
       "      <th>mean</th>\n",
       "      <td>1.438288e+07</td>\n",
       "      <td>0.127432</td>\n",
       "      <td>0.284947</td>\n",
       "      <td>48066.918918</td>\n",
       "      <td>3.706655e+07</td>\n",
       "      <td>23.527103</td>\n",
       "    </tr>\n",
       "    <tr>\n",
       "      <th>std</th>\n",
       "      <td>2.087202e+07</td>\n",
       "      <td>0.298511</td>\n",
       "      <td>0.667491</td>\n",
       "      <td>25293.296961</td>\n",
       "      <td>2.235204e+07</td>\n",
       "      <td>2.894086</td>\n",
       "    </tr>\n",
       "    <tr>\n",
       "      <th>min</th>\n",
       "      <td>2.000433e+06</td>\n",
       "      <td>0.000609</td>\n",
       "      <td>0.001362</td>\n",
       "      <td>203.346433</td>\n",
       "      <td>6.745533e+03</td>\n",
       "      <td>9.230000</td>\n",
       "    </tr>\n",
       "    <tr>\n",
       "      <th>25%</th>\n",
       "      <td>3.448110e+06</td>\n",
       "      <td>0.019256</td>\n",
       "      <td>0.043057</td>\n",
       "      <td>28619.020645</td>\n",
       "      <td>1.721082e+07</td>\n",
       "      <td>21.340000</td>\n",
       "    </tr>\n",
       "    <tr>\n",
       "      <th>50%</th>\n",
       "      <td>3.748362e+06</td>\n",
       "      <td>0.048368</td>\n",
       "      <td>0.108153</td>\n",
       "      <td>44190.117890</td>\n",
       "      <td>3.784658e+07</td>\n",
       "      <td>23.700000</td>\n",
       "    </tr>\n",
       "    <tr>\n",
       "      <th>75%</th>\n",
       "      <td>3.884023e+06</td>\n",
       "      <td>0.143402</td>\n",
       "      <td>0.320656</td>\n",
       "      <td>62923.604633</td>\n",
       "      <td>5.654900e+07</td>\n",
       "      <td>25.700000</td>\n",
       "    </tr>\n",
       "    <tr>\n",
       "      <th>max</th>\n",
       "      <td>5.427591e+07</td>\n",
       "      <td>37.892650</td>\n",
       "      <td>84.730541</td>\n",
       "      <td>236990.128088</td>\n",
       "      <td>7.479865e+07</td>\n",
       "      <td>33.200000</td>\n",
       "    </tr>\n",
       "  </tbody>\n",
       "</table>\n",
       "</div>"
      ],
      "text/plain": [
       "                 id  est_diameter_min  est_diameter_max  relative_velocity  \\\n",
       "count  9.083600e+04      90836.000000      90836.000000       90836.000000   \n",
       "mean   1.438288e+07          0.127432          0.284947       48066.918918   \n",
       "std    2.087202e+07          0.298511          0.667491       25293.296961   \n",
       "min    2.000433e+06          0.000609          0.001362         203.346433   \n",
       "25%    3.448110e+06          0.019256          0.043057       28619.020645   \n",
       "50%    3.748362e+06          0.048368          0.108153       44190.117890   \n",
       "75%    3.884023e+06          0.143402          0.320656       62923.604633   \n",
       "max    5.427591e+07         37.892650         84.730541      236990.128088   \n",
       "\n",
       "       miss_distance  absolute_magnitude  \n",
       "count   9.083600e+04        90836.000000  \n",
       "mean    3.706655e+07           23.527103  \n",
       "std     2.235204e+07            2.894086  \n",
       "min     6.745533e+03            9.230000  \n",
       "25%     1.721082e+07           21.340000  \n",
       "50%     3.784658e+07           23.700000  \n",
       "75%     5.654900e+07           25.700000  \n",
       "max     7.479865e+07           33.200000  "
      ]
     },
     "execution_count": 1,
     "metadata": {},
     "output_type": "execute_result"
    }
   ],
   "source": [
    "import kagglehub\n",
    "import numpy as np\n",
    "import pandas as pd\n",
    "import matplotlib.pyplot as plt\n",
    "path = kagglehub.dataset_download(\"sameepvani/nasa-nearest-earth-objects\")\n",
    "df_class = pd.read_csv('/Users/denisfadeev/.cache/kagglehub/datasets/sameepvani/nasa-nearest-earth-objects/versions/2/neo_v2.csv')\n",
    "df_class.describe()"
   ]
  },
  {
   "cell_type": "markdown",
   "id": "87fcac7d-cd8e-4777-aad7-35c9eff1fb58",
   "metadata": {},
   "source": [
    "Ознакомимся с данными"
   ]
  },
  {
   "cell_type": "code",
   "execution_count": 2,
   "id": "2b2e51a6-1275-44d1-b4dc-e725dbfc6ff7",
   "metadata": {},
   "outputs": [
    {
     "data": {
      "text/html": [
       "<div>\n",
       "<style scoped>\n",
       "    .dataframe tbody tr th:only-of-type {\n",
       "        vertical-align: middle;\n",
       "    }\n",
       "\n",
       "    .dataframe tbody tr th {\n",
       "        vertical-align: top;\n",
       "    }\n",
       "\n",
       "    .dataframe thead th {\n",
       "        text-align: right;\n",
       "    }\n",
       "</style>\n",
       "<table border=\"1\" class=\"dataframe\">\n",
       "  <thead>\n",
       "    <tr style=\"text-align: right;\">\n",
       "      <th></th>\n",
       "      <th>id</th>\n",
       "      <th>name</th>\n",
       "      <th>est_diameter_min</th>\n",
       "      <th>est_diameter_max</th>\n",
       "      <th>relative_velocity</th>\n",
       "      <th>miss_distance</th>\n",
       "      <th>orbiting_body</th>\n",
       "      <th>sentry_object</th>\n",
       "      <th>absolute_magnitude</th>\n",
       "      <th>hazardous</th>\n",
       "    </tr>\n",
       "  </thead>\n",
       "  <tbody>\n",
       "    <tr>\n",
       "      <th>0</th>\n",
       "      <td>2162635</td>\n",
       "      <td>162635 (2000 SS164)</td>\n",
       "      <td>1.198271</td>\n",
       "      <td>2.679415</td>\n",
       "      <td>13569.249224</td>\n",
       "      <td>5.483974e+07</td>\n",
       "      <td>Earth</td>\n",
       "      <td>False</td>\n",
       "      <td>16.73</td>\n",
       "      <td>False</td>\n",
       "    </tr>\n",
       "    <tr>\n",
       "      <th>1</th>\n",
       "      <td>2277475</td>\n",
       "      <td>277475 (2005 WK4)</td>\n",
       "      <td>0.265800</td>\n",
       "      <td>0.594347</td>\n",
       "      <td>73588.726663</td>\n",
       "      <td>6.143813e+07</td>\n",
       "      <td>Earth</td>\n",
       "      <td>False</td>\n",
       "      <td>20.00</td>\n",
       "      <td>True</td>\n",
       "    </tr>\n",
       "    <tr>\n",
       "      <th>2</th>\n",
       "      <td>2512244</td>\n",
       "      <td>512244 (2015 YE18)</td>\n",
       "      <td>0.722030</td>\n",
       "      <td>1.614507</td>\n",
       "      <td>114258.692129</td>\n",
       "      <td>4.979872e+07</td>\n",
       "      <td>Earth</td>\n",
       "      <td>False</td>\n",
       "      <td>17.83</td>\n",
       "      <td>False</td>\n",
       "    </tr>\n",
       "    <tr>\n",
       "      <th>3</th>\n",
       "      <td>3596030</td>\n",
       "      <td>(2012 BV13)</td>\n",
       "      <td>0.096506</td>\n",
       "      <td>0.215794</td>\n",
       "      <td>24764.303138</td>\n",
       "      <td>2.543497e+07</td>\n",
       "      <td>Earth</td>\n",
       "      <td>False</td>\n",
       "      <td>22.20</td>\n",
       "      <td>False</td>\n",
       "    </tr>\n",
       "    <tr>\n",
       "      <th>4</th>\n",
       "      <td>3667127</td>\n",
       "      <td>(2014 GE35)</td>\n",
       "      <td>0.255009</td>\n",
       "      <td>0.570217</td>\n",
       "      <td>42737.733765</td>\n",
       "      <td>4.627557e+07</td>\n",
       "      <td>Earth</td>\n",
       "      <td>False</td>\n",
       "      <td>20.09</td>\n",
       "      <td>True</td>\n",
       "    </tr>\n",
       "  </tbody>\n",
       "</table>\n",
       "</div>"
      ],
      "text/plain": [
       "        id                 name  est_diameter_min  est_diameter_max  \\\n",
       "0  2162635  162635 (2000 SS164)          1.198271          2.679415   \n",
       "1  2277475    277475 (2005 WK4)          0.265800          0.594347   \n",
       "2  2512244   512244 (2015 YE18)          0.722030          1.614507   \n",
       "3  3596030          (2012 BV13)          0.096506          0.215794   \n",
       "4  3667127          (2014 GE35)          0.255009          0.570217   \n",
       "\n",
       "   relative_velocity  miss_distance orbiting_body  sentry_object  \\\n",
       "0       13569.249224   5.483974e+07         Earth          False   \n",
       "1       73588.726663   6.143813e+07         Earth          False   \n",
       "2      114258.692129   4.979872e+07         Earth          False   \n",
       "3       24764.303138   2.543497e+07         Earth          False   \n",
       "4       42737.733765   4.627557e+07         Earth          False   \n",
       "\n",
       "   absolute_magnitude  hazardous  \n",
       "0               16.73      False  \n",
       "1               20.00       True  \n",
       "2               17.83      False  \n",
       "3               22.20      False  \n",
       "4               20.09       True  "
      ]
     },
     "execution_count": 2,
     "metadata": {},
     "output_type": "execute_result"
    }
   ],
   "source": [
    "df_class.head()"
   ]
  },
  {
   "cell_type": "markdown",
   "id": "64812342-e4be-46b1-9bc2-6afa21628342",
   "metadata": {},
   "source": [
    "## Б. Задача регрессии"
   ]
  },
  {
   "cell_type": "markdown",
   "id": "a8ca315d-fb70-4236-b446-561ca7aea2ed",
   "metadata": {},
   "source": [
    "Для задачи регрессии был выбран дата-сет, совмещающий в себе ежедневные цены за электричество в Испании за 2015-2021 год и силу ветра, которая была на ветрянных электростанциях, за тот же период. Для крупного бизнеса и производств, которые сильно зависимы от цен на энергоресурсы, важно выстраивать свои планы на кварталы вперёд. Модели машинного обучения могут помочь в нахождении закономерностей в ценах на электричества, благодаря чему предприятия смогут эффективнее выстраивать свои траты. Также данные модели могут пригодиться рейтинговым и статистическим агенствам, чтобы предоставлять обычным гражданам в новостях свои предсказания по комунальным услугам на несколько месяцев вперёд.\n",
    "\n",
    "Назовём таблицу с этими данными `df_reg`:"
   ]
  },
  {
   "cell_type": "code",
   "execution_count": 3,
   "id": "b26d9807-a6e9-4e14-abb4-e17a8a296d4d",
   "metadata": {},
   "outputs": [
    {
     "name": "stdout",
     "output_type": "stream",
     "text": [
      "Warning: Looks like you're using an outdated `kagglehub` version, please consider updating (latest version: 0.3.6)\n"
     ]
    },
    {
     "data": {
      "text/html": [
       "<div>\n",
       "<style scoped>\n",
       "    .dataframe tbody tr th:only-of-type {\n",
       "        vertical-align: middle;\n",
       "    }\n",
       "\n",
       "    .dataframe tbody tr th {\n",
       "        vertical-align: top;\n",
       "    }\n",
       "\n",
       "    .dataframe thead th {\n",
       "        text-align: right;\n",
       "    }\n",
       "</style>\n",
       "<table border=\"1\" class=\"dataframe\">\n",
       "  <thead>\n",
       "    <tr style=\"text-align: right;\">\n",
       "      <th></th>\n",
       "      <th>MIN(dp.precio)</th>\n",
       "      <th>AVG(dp.precio)</th>\n",
       "      <th>MAX(dp.precio)</th>\n",
       "      <th>AVG(wd.vel_km_h)</th>\n",
       "      <th>MAX(wd.racha_max_km_h)</th>\n",
       "    </tr>\n",
       "  </thead>\n",
       "  <tbody>\n",
       "    <tr>\n",
       "      <th>count</th>\n",
       "      <td>2557.000000</td>\n",
       "      <td>2557.000000</td>\n",
       "      <td>2557.000000</td>\n",
       "      <td>2557.000000</td>\n",
       "      <td>2557.000000</td>\n",
       "    </tr>\n",
       "    <tr>\n",
       "      <th>mean</th>\n",
       "      <td>44.114278</td>\n",
       "      <td>56.018941</td>\n",
       "      <td>67.151115</td>\n",
       "      <td>9.585478</td>\n",
       "      <td>49.737020</td>\n",
       "    </tr>\n",
       "    <tr>\n",
       "      <th>std</th>\n",
       "      <td>32.775995</td>\n",
       "      <td>37.574542</td>\n",
       "      <td>43.648056</td>\n",
       "      <td>3.057068</td>\n",
       "      <td>15.979315</td>\n",
       "    </tr>\n",
       "    <tr>\n",
       "      <th>min</th>\n",
       "      <td>0.010000</td>\n",
       "      <td>1.419583</td>\n",
       "      <td>1.950000</td>\n",
       "      <td>2.250000</td>\n",
       "      <td>19.080000</td>\n",
       "    </tr>\n",
       "    <tr>\n",
       "      <th>25%</th>\n",
       "      <td>29.870000</td>\n",
       "      <td>40.250000</td>\n",
       "      <td>49.880000</td>\n",
       "      <td>7.470000</td>\n",
       "      <td>38.880000</td>\n",
       "    </tr>\n",
       "    <tr>\n",
       "      <th>50%</th>\n",
       "      <td>39.950000</td>\n",
       "      <td>49.097083</td>\n",
       "      <td>58.210000</td>\n",
       "      <td>9.216000</td>\n",
       "      <td>46.080000</td>\n",
       "    </tr>\n",
       "    <tr>\n",
       "      <th>75%</th>\n",
       "      <td>49.080000</td>\n",
       "      <td>60.013334</td>\n",
       "      <td>68.710000</td>\n",
       "      <td>11.232000</td>\n",
       "      <td>56.880000</td>\n",
       "    </tr>\n",
       "    <tr>\n",
       "      <th>max</th>\n",
       "      <td>331.400000</td>\n",
       "      <td>383.672501</td>\n",
       "      <td>409.000000</td>\n",
       "      <td>24.983999</td>\n",
       "      <td>133.920000</td>\n",
       "    </tr>\n",
       "  </tbody>\n",
       "</table>\n",
       "</div>"
      ],
      "text/plain": [
       "       MIN(dp.precio)  AVG(dp.precio)  MAX(dp.precio)  AVG(wd.vel_km_h)  \\\n",
       "count     2557.000000     2557.000000     2557.000000       2557.000000   \n",
       "mean        44.114278       56.018941       67.151115          9.585478   \n",
       "std         32.775995       37.574542       43.648056          3.057068   \n",
       "min          0.010000        1.419583        1.950000          2.250000   \n",
       "25%         29.870000       40.250000       49.880000          7.470000   \n",
       "50%         39.950000       49.097083       58.210000          9.216000   \n",
       "75%         49.080000       60.013334       68.710000         11.232000   \n",
       "max        331.400000      383.672501      409.000000         24.983999   \n",
       "\n",
       "       MAX(wd.racha_max_km_h)  \n",
       "count             2557.000000  \n",
       "mean                49.737020  \n",
       "std                 15.979315  \n",
       "min                 19.080000  \n",
       "25%                 38.880000  \n",
       "50%                 46.080000  \n",
       "75%                 56.880000  \n",
       "max                133.920000  "
      ]
     },
     "execution_count": 3,
     "metadata": {},
     "output_type": "execute_result"
    }
   ],
   "source": [
    "path = kagglehub.dataset_download(\"pythonafroz/wind-speed-vs-spanish-power-prices\")\n",
    "df_reg = pd.read_csv('/Users/denisfadeev/.cache/kagglehub/datasets/pythonafroz/wind-speed-vs-spanish-power-prices/versions/2/wind_vs_price.csv')\n",
    "df_reg.describe()"
   ]
  },
  {
   "cell_type": "markdown",
   "id": "e4925f91-d357-4c9e-9fe7-2879e78d497f",
   "metadata": {},
   "source": [
    "Ознакомимся с даннными"
   ]
  },
  {
   "cell_type": "code",
   "execution_count": 4,
   "id": "1a1bf430-3ef0-4551-84a8-6c065f657e0c",
   "metadata": {},
   "outputs": [
    {
     "data": {
      "text/html": [
       "<div>\n",
       "<style scoped>\n",
       "    .dataframe tbody tr th:only-of-type {\n",
       "        vertical-align: middle;\n",
       "    }\n",
       "\n",
       "    .dataframe tbody tr th {\n",
       "        vertical-align: top;\n",
       "    }\n",
       "\n",
       "    .dataframe thead th {\n",
       "        text-align: right;\n",
       "    }\n",
       "</style>\n",
       "<table border=\"1\" class=\"dataframe\">\n",
       "  <thead>\n",
       "    <tr style=\"text-align: right;\">\n",
       "      <th></th>\n",
       "      <th>fecha</th>\n",
       "      <th>MIN(dp.precio)</th>\n",
       "      <th>AVG(dp.precio)</th>\n",
       "      <th>MAX(dp.precio)</th>\n",
       "      <th>AVG(wd.vel_km_h)</th>\n",
       "      <th>MAX(wd.racha_max_km_h)</th>\n",
       "    </tr>\n",
       "  </thead>\n",
       "  <tbody>\n",
       "    <tr>\n",
       "      <th>2552</th>\n",
       "      <td>2021-12-27</td>\n",
       "      <td>2.67</td>\n",
       "      <td>96.078334</td>\n",
       "      <td>207.10</td>\n",
       "      <td>14.760</td>\n",
       "      <td>70.92</td>\n",
       "    </tr>\n",
       "    <tr>\n",
       "      <th>2553</th>\n",
       "      <td>2021-12-28</td>\n",
       "      <td>8.06</td>\n",
       "      <td>104.364167</td>\n",
       "      <td>176.03</td>\n",
       "      <td>10.584</td>\n",
       "      <td>54.00</td>\n",
       "    </tr>\n",
       "    <tr>\n",
       "      <th>2554</th>\n",
       "      <td>2021-12-29</td>\n",
       "      <td>90.82</td>\n",
       "      <td>181.088333</td>\n",
       "      <td>255.00</td>\n",
       "      <td>9.090</td>\n",
       "      <td>36.00</td>\n",
       "    </tr>\n",
       "    <tr>\n",
       "      <th>2555</th>\n",
       "      <td>2021-12-30</td>\n",
       "      <td>174.70</td>\n",
       "      <td>200.681666</td>\n",
       "      <td>252.22</td>\n",
       "      <td>4.410</td>\n",
       "      <td>34.92</td>\n",
       "    </tr>\n",
       "    <tr>\n",
       "      <th>2556</th>\n",
       "      <td>2021-12-31</td>\n",
       "      <td>111.10</td>\n",
       "      <td>140.821249</td>\n",
       "      <td>193.15</td>\n",
       "      <td>4.770</td>\n",
       "      <td>33.84</td>\n",
       "    </tr>\n",
       "  </tbody>\n",
       "</table>\n",
       "</div>"
      ],
      "text/plain": [
       "           fecha  MIN(dp.precio)  AVG(dp.precio)  MAX(dp.precio)  \\\n",
       "2552  2021-12-27            2.67       96.078334          207.10   \n",
       "2553  2021-12-28            8.06      104.364167          176.03   \n",
       "2554  2021-12-29           90.82      181.088333          255.00   \n",
       "2555  2021-12-30          174.70      200.681666          252.22   \n",
       "2556  2021-12-31          111.10      140.821249          193.15   \n",
       "\n",
       "      AVG(wd.vel_km_h)  MAX(wd.racha_max_km_h)  \n",
       "2552            14.760                   70.92  \n",
       "2553            10.584                   54.00  \n",
       "2554             9.090                   36.00  \n",
       "2555             4.410                   34.92  \n",
       "2556             4.770                   33.84  "
      ]
     },
     "execution_count": 4,
     "metadata": {},
     "output_type": "execute_result"
    }
   ],
   "source": [
    "df_reg.tail()"
   ]
  },
  {
   "cell_type": "markdown",
   "id": "1dd61f0c-499c-43d6-b570-b0fee4e432a4",
   "metadata": {},
   "source": [
    "### В. Метрики"
   ]
  },
  {
   "cell_type": "markdown",
   "id": "318d21d2-a0cc-48e7-a0b0-8bc9724ac5ad",
   "metadata": {},
   "source": [
    "- Для классификации я выбрал метрики точности (accuracy) и F1-меры для оценки качества классификации. Эти метрики позволяют хорошо оценить, как модель справляется с различными классами.\n",
    "- Для регрессионных задач воспользуемся среднеквадратичной ошибкой (MSE) и коэффициентом детерминации (R²), так как они дают ясное представление о точности предсказания."
   ]
  },
  {
   "cell_type": "markdown",
   "id": "0b58204f-5f40-4cb9-b204-40e8e62784ea",
   "metadata": {},
   "source": [
    "## 2. Создание бейзлайн и оценка качества"
   ]
  },
  {
   "cell_type": "markdown",
   "id": "2abf6c90-82d2-4afd-a2af-8aaa11ff2f9d",
   "metadata": {},
   "source": [
    "Сначала проведём малейшую подготовку данных, избавимся от лишних столбцов в таблицах, переведём катигориальные признаки в численные."
   ]
  },
  {
   "cell_type": "code",
   "execution_count": 5,
   "id": "16583c10-1a9a-4d8f-bf87-84fadb2e128a",
   "metadata": {},
   "outputs": [],
   "source": [
    "# В классификации избавляемся от столбцов, не влияющих на результат (различные названия и имена)\n",
    "df_class = df_class.drop(['orbiting_body','sentry_object', 'name', 'id'],axis=1)\n",
    "df_class = df_class.sort_values('hazardous', ascending=False).head(2*df_class['hazardous'].value_counts().get(True, 0))\n",
    "\n",
    "# # В регрессии переводим даты в timestamp и уберём данные после 2019 года, так как там произошёл короновирус\n",
    "df_reg = df_reg.drop(df_reg[df_reg.fecha > \"2020-01-01\"].index)\n",
    "df_reg['time'] = pd.to_datetime(df_reg['fecha']).astype(int)\n",
    "df_reg = df_reg.drop(['fecha', 'MIN(dp.precio)', 'MAX(dp.precio)'], axis = 1)"
   ]
  },
  {
   "cell_type": "markdown",
   "id": "1800f671-3972-498f-bbd1-e0ca814854ab",
   "metadata": {},
   "source": [
    "### А. Создадим и обучим модели"
   ]
  },
  {
   "cell_type": "markdown",
   "id": "9a4c21ae-c820-434f-83e3-ee906674a57a",
   "metadata": {},
   "source": [
    "Создаём модели и режем данные на тестовую и тренировочную выборки"
   ]
  },
  {
   "cell_type": "code",
   "execution_count": 6,
   "id": "8f77c690-7b13-43d4-be04-bed19bb37e92",
   "metadata": {},
   "outputs": [],
   "source": [
    "from sklearn.model_selection import train_test_split\n",
    "from sklearn.neighbors import KNeighborsClassifier, KNeighborsRegressor\n",
    "from sklearn import metrics\n",
    "\n",
    "# classifiaction\n",
    "Y_class = df_class['hazardous'].astype(int)\n",
    "X_class = df_class.drop(['hazardous'],axis=1)\n",
    "X_train_class, X_test_class, Y_train_class, Y_test_class = train_test_split(X_class,Y_class,random_state=24314,test_size=0.5, shuffle = True)\n",
    "# regression\n",
    "Y_reg = df_reg['AVG(dp.precio)']\n",
    "X_reg = df_reg.drop(['AVG(dp.precio)'],axis=1)\n",
    "X_train_reg, X_test_reg, Y_train_reg, Y_test_reg = train_test_split(X_reg,Y_reg,random_state=24314,test_size=0.5, shuffle = True)\n"
   ]
  },
  {
   "cell_type": "markdown",
   "id": "dc17c715-e388-48ff-9401-ad34bf7a5f1c",
   "metadata": {},
   "source": [
    "Обучаем модели"
   ]
  },
  {
   "cell_type": "code",
   "execution_count": 7,
   "id": "49d29ee2-f293-4000-9891-f3c64aa3538c",
   "metadata": {},
   "outputs": [
    {
     "data": {
      "text/html": [
       "<style>#sk-container-id-1 {\n",
       "  /* Definition of color scheme common for light and dark mode */\n",
       "  --sklearn-color-text: black;\n",
       "  --sklearn-color-line: gray;\n",
       "  /* Definition of color scheme for unfitted estimators */\n",
       "  --sklearn-color-unfitted-level-0: #fff5e6;\n",
       "  --sklearn-color-unfitted-level-1: #f6e4d2;\n",
       "  --sklearn-color-unfitted-level-2: #ffe0b3;\n",
       "  --sklearn-color-unfitted-level-3: chocolate;\n",
       "  /* Definition of color scheme for fitted estimators */\n",
       "  --sklearn-color-fitted-level-0: #f0f8ff;\n",
       "  --sklearn-color-fitted-level-1: #d4ebff;\n",
       "  --sklearn-color-fitted-level-2: #b3dbfd;\n",
       "  --sklearn-color-fitted-level-3: cornflowerblue;\n",
       "\n",
       "  /* Specific color for light theme */\n",
       "  --sklearn-color-text-on-default-background: var(--sg-text-color, var(--theme-code-foreground, var(--jp-content-font-color1, black)));\n",
       "  --sklearn-color-background: var(--sg-background-color, var(--theme-background, var(--jp-layout-color0, white)));\n",
       "  --sklearn-color-border-box: var(--sg-text-color, var(--theme-code-foreground, var(--jp-content-font-color1, black)));\n",
       "  --sklearn-color-icon: #696969;\n",
       "\n",
       "  @media (prefers-color-scheme: dark) {\n",
       "    /* Redefinition of color scheme for dark theme */\n",
       "    --sklearn-color-text-on-default-background: var(--sg-text-color, var(--theme-code-foreground, var(--jp-content-font-color1, white)));\n",
       "    --sklearn-color-background: var(--sg-background-color, var(--theme-background, var(--jp-layout-color0, #111)));\n",
       "    --sklearn-color-border-box: var(--sg-text-color, var(--theme-code-foreground, var(--jp-content-font-color1, white)));\n",
       "    --sklearn-color-icon: #878787;\n",
       "  }\n",
       "}\n",
       "\n",
       "#sk-container-id-1 {\n",
       "  color: var(--sklearn-color-text);\n",
       "}\n",
       "\n",
       "#sk-container-id-1 pre {\n",
       "  padding: 0;\n",
       "}\n",
       "\n",
       "#sk-container-id-1 input.sk-hidden--visually {\n",
       "  border: 0;\n",
       "  clip: rect(1px 1px 1px 1px);\n",
       "  clip: rect(1px, 1px, 1px, 1px);\n",
       "  height: 1px;\n",
       "  margin: -1px;\n",
       "  overflow: hidden;\n",
       "  padding: 0;\n",
       "  position: absolute;\n",
       "  width: 1px;\n",
       "}\n",
       "\n",
       "#sk-container-id-1 div.sk-dashed-wrapped {\n",
       "  border: 1px dashed var(--sklearn-color-line);\n",
       "  margin: 0 0.4em 0.5em 0.4em;\n",
       "  box-sizing: border-box;\n",
       "  padding-bottom: 0.4em;\n",
       "  background-color: var(--sklearn-color-background);\n",
       "}\n",
       "\n",
       "#sk-container-id-1 div.sk-container {\n",
       "  /* jupyter's `normalize.less` sets `[hidden] { display: none; }`\n",
       "     but bootstrap.min.css set `[hidden] { display: none !important; }`\n",
       "     so we also need the `!important` here to be able to override the\n",
       "     default hidden behavior on the sphinx rendered scikit-learn.org.\n",
       "     See: https://github.com/scikit-learn/scikit-learn/issues/21755 */\n",
       "  display: inline-block !important;\n",
       "  position: relative;\n",
       "}\n",
       "\n",
       "#sk-container-id-1 div.sk-text-repr-fallback {\n",
       "  display: none;\n",
       "}\n",
       "\n",
       "div.sk-parallel-item,\n",
       "div.sk-serial,\n",
       "div.sk-item {\n",
       "  /* draw centered vertical line to link estimators */\n",
       "  background-image: linear-gradient(var(--sklearn-color-text-on-default-background), var(--sklearn-color-text-on-default-background));\n",
       "  background-size: 2px 100%;\n",
       "  background-repeat: no-repeat;\n",
       "  background-position: center center;\n",
       "}\n",
       "\n",
       "/* Parallel-specific style estimator block */\n",
       "\n",
       "#sk-container-id-1 div.sk-parallel-item::after {\n",
       "  content: \"\";\n",
       "  width: 100%;\n",
       "  border-bottom: 2px solid var(--sklearn-color-text-on-default-background);\n",
       "  flex-grow: 1;\n",
       "}\n",
       "\n",
       "#sk-container-id-1 div.sk-parallel {\n",
       "  display: flex;\n",
       "  align-items: stretch;\n",
       "  justify-content: center;\n",
       "  background-color: var(--sklearn-color-background);\n",
       "  position: relative;\n",
       "}\n",
       "\n",
       "#sk-container-id-1 div.sk-parallel-item {\n",
       "  display: flex;\n",
       "  flex-direction: column;\n",
       "}\n",
       "\n",
       "#sk-container-id-1 div.sk-parallel-item:first-child::after {\n",
       "  align-self: flex-end;\n",
       "  width: 50%;\n",
       "}\n",
       "\n",
       "#sk-container-id-1 div.sk-parallel-item:last-child::after {\n",
       "  align-self: flex-start;\n",
       "  width: 50%;\n",
       "}\n",
       "\n",
       "#sk-container-id-1 div.sk-parallel-item:only-child::after {\n",
       "  width: 0;\n",
       "}\n",
       "\n",
       "/* Serial-specific style estimator block */\n",
       "\n",
       "#sk-container-id-1 div.sk-serial {\n",
       "  display: flex;\n",
       "  flex-direction: column;\n",
       "  align-items: center;\n",
       "  background-color: var(--sklearn-color-background);\n",
       "  padding-right: 1em;\n",
       "  padding-left: 1em;\n",
       "}\n",
       "\n",
       "\n",
       "/* Toggleable style: style used for estimator/Pipeline/ColumnTransformer box that is\n",
       "clickable and can be expanded/collapsed.\n",
       "- Pipeline and ColumnTransformer use this feature and define the default style\n",
       "- Estimators will overwrite some part of the style using the `sk-estimator` class\n",
       "*/\n",
       "\n",
       "/* Pipeline and ColumnTransformer style (default) */\n",
       "\n",
       "#sk-container-id-1 div.sk-toggleable {\n",
       "  /* Default theme specific background. It is overwritten whether we have a\n",
       "  specific estimator or a Pipeline/ColumnTransformer */\n",
       "  background-color: var(--sklearn-color-background);\n",
       "}\n",
       "\n",
       "/* Toggleable label */\n",
       "#sk-container-id-1 label.sk-toggleable__label {\n",
       "  cursor: pointer;\n",
       "  display: block;\n",
       "  width: 100%;\n",
       "  margin-bottom: 0;\n",
       "  padding: 0.5em;\n",
       "  box-sizing: border-box;\n",
       "  text-align: center;\n",
       "}\n",
       "\n",
       "#sk-container-id-1 label.sk-toggleable__label-arrow:before {\n",
       "  /* Arrow on the left of the label */\n",
       "  content: \"▸\";\n",
       "  float: left;\n",
       "  margin-right: 0.25em;\n",
       "  color: var(--sklearn-color-icon);\n",
       "}\n",
       "\n",
       "#sk-container-id-1 label.sk-toggleable__label-arrow:hover:before {\n",
       "  color: var(--sklearn-color-text);\n",
       "}\n",
       "\n",
       "/* Toggleable content - dropdown */\n",
       "\n",
       "#sk-container-id-1 div.sk-toggleable__content {\n",
       "  max-height: 0;\n",
       "  max-width: 0;\n",
       "  overflow: hidden;\n",
       "  text-align: left;\n",
       "  /* unfitted */\n",
       "  background-color: var(--sklearn-color-unfitted-level-0);\n",
       "}\n",
       "\n",
       "#sk-container-id-1 div.sk-toggleable__content.fitted {\n",
       "  /* fitted */\n",
       "  background-color: var(--sklearn-color-fitted-level-0);\n",
       "}\n",
       "\n",
       "#sk-container-id-1 div.sk-toggleable__content pre {\n",
       "  margin: 0.2em;\n",
       "  border-radius: 0.25em;\n",
       "  color: var(--sklearn-color-text);\n",
       "  /* unfitted */\n",
       "  background-color: var(--sklearn-color-unfitted-level-0);\n",
       "}\n",
       "\n",
       "#sk-container-id-1 div.sk-toggleable__content.fitted pre {\n",
       "  /* unfitted */\n",
       "  background-color: var(--sklearn-color-fitted-level-0);\n",
       "}\n",
       "\n",
       "#sk-container-id-1 input.sk-toggleable__control:checked~div.sk-toggleable__content {\n",
       "  /* Expand drop-down */\n",
       "  max-height: 200px;\n",
       "  max-width: 100%;\n",
       "  overflow: auto;\n",
       "}\n",
       "\n",
       "#sk-container-id-1 input.sk-toggleable__control:checked~label.sk-toggleable__label-arrow:before {\n",
       "  content: \"▾\";\n",
       "}\n",
       "\n",
       "/* Pipeline/ColumnTransformer-specific style */\n",
       "\n",
       "#sk-container-id-1 div.sk-label input.sk-toggleable__control:checked~label.sk-toggleable__label {\n",
       "  color: var(--sklearn-color-text);\n",
       "  background-color: var(--sklearn-color-unfitted-level-2);\n",
       "}\n",
       "\n",
       "#sk-container-id-1 div.sk-label.fitted input.sk-toggleable__control:checked~label.sk-toggleable__label {\n",
       "  background-color: var(--sklearn-color-fitted-level-2);\n",
       "}\n",
       "\n",
       "/* Estimator-specific style */\n",
       "\n",
       "/* Colorize estimator box */\n",
       "#sk-container-id-1 div.sk-estimator input.sk-toggleable__control:checked~label.sk-toggleable__label {\n",
       "  /* unfitted */\n",
       "  background-color: var(--sklearn-color-unfitted-level-2);\n",
       "}\n",
       "\n",
       "#sk-container-id-1 div.sk-estimator.fitted input.sk-toggleable__control:checked~label.sk-toggleable__label {\n",
       "  /* fitted */\n",
       "  background-color: var(--sklearn-color-fitted-level-2);\n",
       "}\n",
       "\n",
       "#sk-container-id-1 div.sk-label label.sk-toggleable__label,\n",
       "#sk-container-id-1 div.sk-label label {\n",
       "  /* The background is the default theme color */\n",
       "  color: var(--sklearn-color-text-on-default-background);\n",
       "}\n",
       "\n",
       "/* On hover, darken the color of the background */\n",
       "#sk-container-id-1 div.sk-label:hover label.sk-toggleable__label {\n",
       "  color: var(--sklearn-color-text);\n",
       "  background-color: var(--sklearn-color-unfitted-level-2);\n",
       "}\n",
       "\n",
       "/* Label box, darken color on hover, fitted */\n",
       "#sk-container-id-1 div.sk-label.fitted:hover label.sk-toggleable__label.fitted {\n",
       "  color: var(--sklearn-color-text);\n",
       "  background-color: var(--sklearn-color-fitted-level-2);\n",
       "}\n",
       "\n",
       "/* Estimator label */\n",
       "\n",
       "#sk-container-id-1 div.sk-label label {\n",
       "  font-family: monospace;\n",
       "  font-weight: bold;\n",
       "  display: inline-block;\n",
       "  line-height: 1.2em;\n",
       "}\n",
       "\n",
       "#sk-container-id-1 div.sk-label-container {\n",
       "  text-align: center;\n",
       "}\n",
       "\n",
       "/* Estimator-specific */\n",
       "#sk-container-id-1 div.sk-estimator {\n",
       "  font-family: monospace;\n",
       "  border: 1px dotted var(--sklearn-color-border-box);\n",
       "  border-radius: 0.25em;\n",
       "  box-sizing: border-box;\n",
       "  margin-bottom: 0.5em;\n",
       "  /* unfitted */\n",
       "  background-color: var(--sklearn-color-unfitted-level-0);\n",
       "}\n",
       "\n",
       "#sk-container-id-1 div.sk-estimator.fitted {\n",
       "  /* fitted */\n",
       "  background-color: var(--sklearn-color-fitted-level-0);\n",
       "}\n",
       "\n",
       "/* on hover */\n",
       "#sk-container-id-1 div.sk-estimator:hover {\n",
       "  /* unfitted */\n",
       "  background-color: var(--sklearn-color-unfitted-level-2);\n",
       "}\n",
       "\n",
       "#sk-container-id-1 div.sk-estimator.fitted:hover {\n",
       "  /* fitted */\n",
       "  background-color: var(--sklearn-color-fitted-level-2);\n",
       "}\n",
       "\n",
       "/* Specification for estimator info (e.g. \"i\" and \"?\") */\n",
       "\n",
       "/* Common style for \"i\" and \"?\" */\n",
       "\n",
       ".sk-estimator-doc-link,\n",
       "a:link.sk-estimator-doc-link,\n",
       "a:visited.sk-estimator-doc-link {\n",
       "  float: right;\n",
       "  font-size: smaller;\n",
       "  line-height: 1em;\n",
       "  font-family: monospace;\n",
       "  background-color: var(--sklearn-color-background);\n",
       "  border-radius: 1em;\n",
       "  height: 1em;\n",
       "  width: 1em;\n",
       "  text-decoration: none !important;\n",
       "  margin-left: 1ex;\n",
       "  /* unfitted */\n",
       "  border: var(--sklearn-color-unfitted-level-1) 1pt solid;\n",
       "  color: var(--sklearn-color-unfitted-level-1);\n",
       "}\n",
       "\n",
       ".sk-estimator-doc-link.fitted,\n",
       "a:link.sk-estimator-doc-link.fitted,\n",
       "a:visited.sk-estimator-doc-link.fitted {\n",
       "  /* fitted */\n",
       "  border: var(--sklearn-color-fitted-level-1) 1pt solid;\n",
       "  color: var(--sklearn-color-fitted-level-1);\n",
       "}\n",
       "\n",
       "/* On hover */\n",
       "div.sk-estimator:hover .sk-estimator-doc-link:hover,\n",
       ".sk-estimator-doc-link:hover,\n",
       "div.sk-label-container:hover .sk-estimator-doc-link:hover,\n",
       ".sk-estimator-doc-link:hover {\n",
       "  /* unfitted */\n",
       "  background-color: var(--sklearn-color-unfitted-level-3);\n",
       "  color: var(--sklearn-color-background);\n",
       "  text-decoration: none;\n",
       "}\n",
       "\n",
       "div.sk-estimator.fitted:hover .sk-estimator-doc-link.fitted:hover,\n",
       ".sk-estimator-doc-link.fitted:hover,\n",
       "div.sk-label-container:hover .sk-estimator-doc-link.fitted:hover,\n",
       ".sk-estimator-doc-link.fitted:hover {\n",
       "  /* fitted */\n",
       "  background-color: var(--sklearn-color-fitted-level-3);\n",
       "  color: var(--sklearn-color-background);\n",
       "  text-decoration: none;\n",
       "}\n",
       "\n",
       "/* Span, style for the box shown on hovering the info icon */\n",
       ".sk-estimator-doc-link span {\n",
       "  display: none;\n",
       "  z-index: 9999;\n",
       "  position: relative;\n",
       "  font-weight: normal;\n",
       "  right: .2ex;\n",
       "  padding: .5ex;\n",
       "  margin: .5ex;\n",
       "  width: min-content;\n",
       "  min-width: 20ex;\n",
       "  max-width: 50ex;\n",
       "  color: var(--sklearn-color-text);\n",
       "  box-shadow: 2pt 2pt 4pt #999;\n",
       "  /* unfitted */\n",
       "  background: var(--sklearn-color-unfitted-level-0);\n",
       "  border: .5pt solid var(--sklearn-color-unfitted-level-3);\n",
       "}\n",
       "\n",
       ".sk-estimator-doc-link.fitted span {\n",
       "  /* fitted */\n",
       "  background: var(--sklearn-color-fitted-level-0);\n",
       "  border: var(--sklearn-color-fitted-level-3);\n",
       "}\n",
       "\n",
       ".sk-estimator-doc-link:hover span {\n",
       "  display: block;\n",
       "}\n",
       "\n",
       "/* \"?\"-specific style due to the `<a>` HTML tag */\n",
       "\n",
       "#sk-container-id-1 a.estimator_doc_link {\n",
       "  float: right;\n",
       "  font-size: 1rem;\n",
       "  line-height: 1em;\n",
       "  font-family: monospace;\n",
       "  background-color: var(--sklearn-color-background);\n",
       "  border-radius: 1rem;\n",
       "  height: 1rem;\n",
       "  width: 1rem;\n",
       "  text-decoration: none;\n",
       "  /* unfitted */\n",
       "  color: var(--sklearn-color-unfitted-level-1);\n",
       "  border: var(--sklearn-color-unfitted-level-1) 1pt solid;\n",
       "}\n",
       "\n",
       "#sk-container-id-1 a.estimator_doc_link.fitted {\n",
       "  /* fitted */\n",
       "  border: var(--sklearn-color-fitted-level-1) 1pt solid;\n",
       "  color: var(--sklearn-color-fitted-level-1);\n",
       "}\n",
       "\n",
       "/* On hover */\n",
       "#sk-container-id-1 a.estimator_doc_link:hover {\n",
       "  /* unfitted */\n",
       "  background-color: var(--sklearn-color-unfitted-level-3);\n",
       "  color: var(--sklearn-color-background);\n",
       "  text-decoration: none;\n",
       "}\n",
       "\n",
       "#sk-container-id-1 a.estimator_doc_link.fitted:hover {\n",
       "  /* fitted */\n",
       "  background-color: var(--sklearn-color-fitted-level-3);\n",
       "}\n",
       "</style><div id=\"sk-container-id-1\" class=\"sk-top-container\"><div class=\"sk-text-repr-fallback\"><pre>KNeighborsRegressor(n_neighbors=3)</pre><b>In a Jupyter environment, please rerun this cell to show the HTML representation or trust the notebook. <br />On GitHub, the HTML representation is unable to render, please try loading this page with nbviewer.org.</b></div><div class=\"sk-container\" hidden><div class=\"sk-item\"><div class=\"sk-estimator fitted sk-toggleable\"><input class=\"sk-toggleable__control sk-hidden--visually\" id=\"sk-estimator-id-1\" type=\"checkbox\" checked><label for=\"sk-estimator-id-1\" class=\"sk-toggleable__label fitted sk-toggleable__label-arrow fitted\">&nbsp;&nbsp;KNeighborsRegressor<a class=\"sk-estimator-doc-link fitted\" rel=\"noreferrer\" target=\"_blank\" href=\"https://scikit-learn.org/1.4/modules/generated/sklearn.neighbors.KNeighborsRegressor.html\">?<span>Documentation for KNeighborsRegressor</span></a><span class=\"sk-estimator-doc-link fitted\">i<span>Fitted</span></span></label><div class=\"sk-toggleable__content fitted\"><pre>KNeighborsRegressor(n_neighbors=3)</pre></div> </div></div></div></div>"
      ],
      "text/plain": [
       "KNeighborsRegressor(n_neighbors=3)"
      ]
     },
     "execution_count": 7,
     "metadata": {},
     "output_type": "execute_result"
    }
   ],
   "source": [
    "# classification train\n",
    "knn_class = KNeighborsClassifier(n_neighbors=3)\n",
    "knn_class.fit(X_train_class, Y_train_class)\n",
    "\n",
    "# regression train\n",
    "knn_reg = KNeighborsRegressor(n_neighbors=3)\n",
    "knn_reg.fit(X_train_reg, Y_train_reg)"
   ]
  },
  {
   "cell_type": "markdown",
   "id": "3dcd92b4-23ee-4ea5-85b9-f8b21ef22e89",
   "metadata": {},
   "source": [
    "### Б. Оценка качества моделей"
   ]
  },
  {
   "cell_type": "markdown",
   "id": "be7a837f-4195-43aa-a1cd-16a83e1fd2c1",
   "metadata": {},
   "source": [
    "**Оценка качества классификации**"
   ]
  },
  {
   "cell_type": "code",
   "execution_count": 8,
   "id": "17e7a46a-0ebf-41da-a822-f6dd7723681d",
   "metadata": {},
   "outputs": [
    {
     "name": "stdout",
     "output_type": "stream",
     "text": [
      "Classification accuracy score =  0.5670814479638009\n",
      "Classification CM score\n",
      "================\n",
      " [[2512 1900]\n",
      " [1927 2501]]\n",
      "================\n",
      "Classification F1 score =  0.5670798026119316\n"
     ]
    }
   ],
   "source": [
    "predicted_class = knn_class.predict(X_test_class)\n",
    "print(\"Classification accuracy score = \",metrics.accuracy_score(Y_test_class,predicted_class))\n",
    "print(\"Classification CM score\\n================\\n\",metrics.confusion_matrix(Y_test_class,predicted_class))\n",
    "print(\"================\\nClassification F1 score = \",metrics.f1_score(Y_test_class,predicted_class, average='weighted'))"
   ]
  },
  {
   "cell_type": "markdown",
   "id": "b6b169a3-7f53-45d6-8359-a5cbbd374320",
   "metadata": {},
   "source": [
    "***На не предобработанных данных задачи классификации решается чуть лучше, чем обычное угадывание.***"
   ]
  },
  {
   "cell_type": "markdown",
   "id": "b192eeec-8d1e-467e-860c-367a7995161d",
   "metadata": {},
   "source": [
    "**Теперь оценим регрессию**"
   ]
  },
  {
   "cell_type": "code",
   "execution_count": 9,
   "id": "d7b97322-94e3-4572-a8dc-333002a2ac24",
   "metadata": {},
   "outputs": [
    {
     "name": "stdout",
     "output_type": "stream",
     "text": [
      "MSE score =  43.62374512130325\n",
      "R2 score =  0.7188524858039116\n"
     ]
    }
   ],
   "source": [
    "predicted_reg = knn_reg.predict(X_test_reg)\n",
    "print(\"MSE score = \",metrics.mean_squared_error(Y_test_reg, predicted_reg))\n",
    "print(\"R2 score = \",metrics.r2_score(Y_test_reg, predicted_reg))"
   ]
  },
  {
   "cell_type": "code",
   "execution_count": 10,
   "id": "fd52120b-d36e-448c-bbd4-58d54a77f9f9",
   "metadata": {},
   "outputs": [
    {
     "data": {
      "text/plain": [
       "<matplotlib.legend.Legend at 0x15f73c970>"
      ]
     },
     "execution_count": 10,
     "metadata": {},
     "output_type": "execute_result"
    },
    {
     "data": {
      "image/png": "[encoded data removed]",
      "text/plain": [
       "<Figure size 640x480 with 1 Axes>"
      ]
     },
     "metadata": {},
     "output_type": "display_data"
    }
   ],
   "source": [
    "import seaborn as sns\n",
    "sns.kdeplot(Y_test_reg, label='Actual', color='blue', fill=True)\n",
    "sns.kdeplot(predicted_reg, label='Predicted', color='red', fill=True)\n",
    "plt.xlabel('Price')\n",
    "plt.ylabel('Density')\n",
    "plt.legend()"
   ]
  },
  {
   "cell_type": "markdown",
   "id": "3766dd09-b82d-4f6f-9abc-550115215061",
   "metadata": {},
   "source": [
    "Модель регрессии тоже показала неплохую точность на сырых данных. "
   ]
  },
  {
   "cell_type": "markdown",
   "id": "ec1a3065-8020-443f-8800-6beca6d8cd54",
   "metadata": {},
   "source": [
    "## 3.Улучшение бейз лайнов "
   ]
  },
  {
   "cell_type": "markdown",
   "id": "49a48011-a017-45f4-aaf3-b56c26c25954",
   "metadata": {},
   "source": [
    "## А. Формирование гипотез. "
   ]
  },
  {
   "cell_type": "markdown",
   "id": "4c8b5ed8-f160-4c63-9ecc-aee01741c593",
   "metadata": {},
   "source": [
    "Предлагаю оценить качество используемых данных на матрицах кореляции. Возможно мы увидим некоторые закономерности"
   ]
  },
  {
   "cell_type": "markdown",
   "id": "f4057fae-7448-4682-b82b-d2f5aba2c0ad",
   "metadata": {},
   "source": [
    "**Классификация**"
   ]
  },
  {
   "cell_type": "code",
   "execution_count": 11,
   "id": "e8e5afca-ee17-406f-8c0f-1bea64be21dc",
   "metadata": {},
   "outputs": [
    {
     "data": {
      "text/plain": [
       "<Axes: >"
      ]
     },
     "execution_count": 11,
     "metadata": {},
     "output_type": "execute_result"
    },
    {
     "data": {
      "image/png": "[encoded data removed]",
      "text/plain": [
       "<Figure size 640x480 with 2 Axes>"
      ]
     },
     "metadata": {},
     "output_type": "display_data"
    }
   ],
   "source": [
    "df_class = pd.read_csv('/Users/denisfadeev/.cache/kagglehub/datasets/sameepvani/nasa-nearest-earth-objects/versions/2/neo_v2.csv')\n",
    "df_class = df_class.drop(['orbiting_body','sentry_object', 'name', 'id'],axis=1)\n",
    "df_class = df_class.sort_values('hazardous', ascending=False).head(2*df_class['hazardous'].value_counts().get(True, 0))\n",
    "\n",
    "# classification\n",
    "sns.heatmap(df_class.corr(numeric_only=True),annot=True,)"
   ]
  },
  {
   "cell_type": "markdown",
   "id": "e577ec93-1e35-474a-bf3a-d1034550107d",
   "metadata": {},
   "source": [
    "Кореляция между минимальным и максимальным диаметро объекта равна 1! В таком случае лучше объединить их в один параметр mean_size. К тому же с ними сильно корелирует важный параметр магнитуды.\n",
    "\n",
    "Также посмотрим как распределены классы в зависимости от разных параметров"
   ]
  },
  {
   "cell_type": "code",
   "execution_count": 12,
   "id": "71bfc5e0-558a-47f1-968b-d5990ec577de",
   "metadata": {},
   "outputs": [],
   "source": [
    "df_class['size'] = df_class[['est_diameter_min','est_diameter_max']].mean(axis=1)\n",
    "df_class = df_class.drop(['est_diameter_min','est_diameter_max'],axis=1)"
   ]
  },
  {
   "cell_type": "markdown",
   "id": "e426d851-fe5c-46cb-aa66-3e673fee8d97",
   "metadata": {},
   "source": [
    "Построим графики зависимости значений параметров от классов и других параметров"
   ]
  },
  {
   "cell_type": "code",
   "execution_count": 13,
   "id": "8bfabca3-c391-4f42-aab0-749a87a60d19",
   "metadata": {},
   "outputs": [
    {
     "data": {
      "text/plain": [
       "<seaborn.axisgrid.PairGrid at 0x1680bb580>"
      ]
     },
     "execution_count": 13,
     "metadata": {},
     "output_type": "execute_result"
    },
    {
     "data": {
      "image/png": "[encoded data removed]",
      "text/plain": [
       "<Figure size 584.875x500 with 6 Axes>"
      ]
     },
     "metadata": {},
     "output_type": "display_data"
    }
   ],
   "source": [
    "sns.pairplot(df_class[['absolute_magnitude', 'size', 'hazardous']],aspect=1,kind='scatter',hue='hazardous')"
   ]
  },
  {
   "cell_type": "markdown",
   "id": "d1c57e27-479f-469e-a954-d40f748e7ee4",
   "metadata": {},
   "source": [
    "Возможно помочь в классфикации нам может использование не численных классов, а one-hot-encoding и кросс-валидация. \n",
    "\n",
    "Модели KNN чувствительны к значениям данных, поэтому желательно опробовать различные Scallers в предпроцессинге"
   ]
  },
  {
   "cell_type": "markdown",
   "id": "c3bb2886-c840-44d7-8068-bd2577a993df",
   "metadata": {},
   "source": [
    "**Анализ регрессии**"
   ]
  },
  {
   "cell_type": "markdown",
   "id": "a506ecf3-2d5a-4f2c-a47b-cdd877570202",
   "metadata": {},
   "source": [
    "В скачанном датасете есть несколько таблиц. В начале я использовал толко ту, в которой сводится цена и скорость ветра. Но есть отдельная таблица с ценами за электричество каждые 4 часа. Если мы объединим обе таблицы, то мы сможем более точно отслеживать как влияет временной промежуток на цену за электричество."
   ]
  },
  {
   "cell_type": "code",
   "execution_count": 14,
   "id": "79f31f83-a89f-4172-adb6-8666ad18c71e",
   "metadata": {},
   "outputs": [
    {
     "name": "stdout",
     "output_type": "stream",
     "text": [
      "<class 'pandas.core.frame.DataFrame'>\n",
      "RangeIndex: 60028 entries, 0 to 60027\n",
      "Data columns (total 7 columns):\n",
      " #   Column               Non-Null Count  Dtype  \n",
      "---  ------               --------------  -----  \n",
      " 0   datetime_utc         60028 non-null  object \n",
      " 1   sistema              60028 non-null  object \n",
      " 2   fecha                60028 non-null  object \n",
      " 3   hora                 60028 non-null  int64  \n",
      " 4   bandera              60028 non-null  int64  \n",
      " 5   precio               60028 non-null  float64\n",
      " 6   fecha_actualizacion  60028 non-null  object \n",
      "dtypes: float64(1), int64(2), object(4)\n",
      "memory usage: 3.2+ MB\n"
     ]
    }
   ],
   "source": [
    "df_reg = pd.read_csv('/Users/denisfadeev/.cache/kagglehub/datasets/pythonafroz/wind-speed-vs-spanish-power-prices/versions/2/wind_vs_price.csv')\n",
    "df_reg_price = pd.read_csv('/Users/denisfadeev/.cache/kagglehub/datasets/pythonafroz/wind-speed-vs-spanish-power-prices/versions/2/da_price.csv')\n",
    "df_reg_price.info()"
   ]
  },
  {
   "cell_type": "markdown",
   "id": "8469db5f-aa64-47c0-a0d2-ce4b49b59a21",
   "metadata": {},
   "source": [
    "Сформируем новые параметры в дата-сете. Будем отмечать время замера ветра, день недели, месяц ну timestamp"
   ]
  },
  {
   "cell_type": "code",
   "execution_count": 15,
   "id": "26ed1264-b7e9-4fe9-b6c3-6ef4b62d5d5a",
   "metadata": {},
   "outputs": [
    {
     "data": {
      "text/html": [
       "<div>\n",
       "<style scoped>\n",
       "    .dataframe tbody tr th:only-of-type {\n",
       "        vertical-align: middle;\n",
       "    }\n",
       "\n",
       "    .dataframe tbody tr th {\n",
       "        vertical-align: top;\n",
       "    }\n",
       "\n",
       "    .dataframe thead th {\n",
       "        text-align: right;\n",
       "    }\n",
       "</style>\n",
       "<table border=\"1\" class=\"dataframe\">\n",
       "  <thead>\n",
       "    <tr style=\"text-align: right;\">\n",
       "      <th></th>\n",
       "      <th>datetime_utc</th>\n",
       "      <th>hora</th>\n",
       "      <th>precio</th>\n",
       "      <th>AVG(wd.vel_km_h)</th>\n",
       "      <th>MAX(wd.racha_max_km_h)</th>\n",
       "      <th>date_of_week</th>\n",
       "      <th>month</th>\n",
       "    </tr>\n",
       "  </thead>\n",
       "  <tbody>\n",
       "    <tr>\n",
       "      <th>17520</th>\n",
       "      <td>2020-01-01 22:00:00</td>\n",
       "      <td>24</td>\n",
       "      <td>37.55</td>\n",
       "      <td>3.51</td>\n",
       "      <td>24.12</td>\n",
       "      <td>Wednesday</td>\n",
       "      <td>1</td>\n",
       "    </tr>\n",
       "    <tr>\n",
       "      <th>17521</th>\n",
       "      <td>2020-01-01 21:00:00</td>\n",
       "      <td>23</td>\n",
       "      <td>42.90</td>\n",
       "      <td>3.51</td>\n",
       "      <td>24.12</td>\n",
       "      <td>Wednesday</td>\n",
       "      <td>1</td>\n",
       "    </tr>\n",
       "    <tr>\n",
       "      <th>17522</th>\n",
       "      <td>2020-01-01 20:00:00</td>\n",
       "      <td>22</td>\n",
       "      <td>45.60</td>\n",
       "      <td>3.51</td>\n",
       "      <td>24.12</td>\n",
       "      <td>Wednesday</td>\n",
       "      <td>1</td>\n",
       "    </tr>\n",
       "    <tr>\n",
       "      <th>17523</th>\n",
       "      <td>2020-01-01 19:00:00</td>\n",
       "      <td>21</td>\n",
       "      <td>44.02</td>\n",
       "      <td>3.51</td>\n",
       "      <td>24.12</td>\n",
       "      <td>Wednesday</td>\n",
       "      <td>1</td>\n",
       "    </tr>\n",
       "    <tr>\n",
       "      <th>17524</th>\n",
       "      <td>2020-01-01 18:00:00</td>\n",
       "      <td>20</td>\n",
       "      <td>46.16</td>\n",
       "      <td>3.51</td>\n",
       "      <td>24.12</td>\n",
       "      <td>Wednesday</td>\n",
       "      <td>1</td>\n",
       "    </tr>\n",
       "  </tbody>\n",
       "</table>\n",
       "</div>"
      ],
      "text/plain": [
       "             datetime_utc  hora  precio  AVG(wd.vel_km_h)  \\\n",
       "17520 2020-01-01 22:00:00    24   37.55              3.51   \n",
       "17521 2020-01-01 21:00:00    23   42.90              3.51   \n",
       "17522 2020-01-01 20:00:00    22   45.60              3.51   \n",
       "17523 2020-01-01 19:00:00    21   44.02              3.51   \n",
       "17524 2020-01-01 18:00:00    20   46.16              3.51   \n",
       "\n",
       "       MAX(wd.racha_max_km_h) date_of_week month  \n",
       "17520                   24.12    Wednesday     1  \n",
       "17521                   24.12    Wednesday     1  \n",
       "17522                   24.12    Wednesday     1  \n",
       "17523                   24.12    Wednesday     1  \n",
       "17524                   24.12    Wednesday     1  "
      ]
     },
     "execution_count": 15,
     "metadata": {},
     "output_type": "execute_result"
    }
   ],
   "source": [
    "df_reg = df_reg.drop(df_reg[df_reg.fecha > \"2020-01-01\"].index)\n",
    "df_reg = df_reg.drop(['AVG(dp.precio)', 'MIN(dp.precio)', 'MAX(dp.precio)'],axis=1)\n",
    "df_reg = pd.merge(df_reg_price, df_reg, on='fecha', how='left')\n",
    "df_reg = df_reg.dropna(how='any',axis=0)\n",
    "df_reg['datetime_utc'] = pd.to_datetime(df_reg['datetime_utc'])\n",
    "df_reg = df_reg.drop(['fecha', 'sistema', 'bandera', 'fecha_actualizacion'],axis=1)\n",
    "# новый параметр дня недели\n",
    "df_reg['date_of_week'] = df_reg['datetime_utc'].dt.day_name().astype('category')\n",
    "# новый параметр месяца\n",
    "df_reg['month'] = df_reg['datetime_utc'].dt.month.astype('category')\n",
    "df_reg.head()"
   ]
  },
  {
   "cell_type": "markdown",
   "id": "2c6288fa-bc62-4218-adc6-124261736cca",
   "metadata": {},
   "source": [
    "Теперь мы имеем более подробные данные, для которых можно посмотреть кореляцию"
   ]
  },
  {
   "cell_type": "code",
   "execution_count": 16,
   "id": "e9dc327f-1af4-4e34-a50a-4212138c4a34",
   "metadata": {},
   "outputs": [
    {
     "data": {
      "text/plain": [
       "<Axes: >"
      ]
     },
     "execution_count": 16,
     "metadata": {},
     "output_type": "execute_result"
    },
    {
     "data": {
      "image/png": "[encoded data removed]",
      "text/plain": [
       "<Figure size 640x480 with 2 Axes>"
      ]
     },
     "metadata": {},
     "output_type": "display_data"
    }
   ],
   "source": [
    "df_reg['datetime_utc'] = df_reg['datetime_utc'].astype(int)\n",
    "sns.heatmap(df_reg.corr(numeric_only=True),annot=True,)"
   ]
  },
  {
   "cell_type": "markdown",
   "id": "71f7cf9b-d8fc-4a44-9412-dd2fc4623faa",
   "metadata": {},
   "source": [
    "Посмотрим как от месяца зависит средняя цена. Кореляция получается очень заметной"
   ]
  },
  {
   "cell_type": "code",
   "execution_count": 17,
   "id": "4394a5c8-2a46-48b3-9512-0e25c3236d4f",
   "metadata": {},
   "outputs": [
    {
     "data": {
      "text/plain": [
       "<Axes: xlabel='month', ylabel='precio'>"
      ]
     },
     "execution_count": 17,
     "metadata": {},
     "output_type": "execute_result"
    },
    {
     "data": {
      "image/png": "[encoded data removed]",
      "text/plain": [
       "<Figure size 640x480 with 1 Axes>"
      ]
     },
     "metadata": {},
     "output_type": "display_data"
    }
   ],
   "source": [
    "sns.boxplot(data=df_reg, y='precio', x='month')"
   ]
  },
  {
   "cell_type": "markdown",
   "id": "a9476f5c-073a-4dac-ae89-92dc5a5fddbc",
   "metadata": {},
   "source": [
    "Теперь кореляция для дня недели"
   ]
  },
  {
   "cell_type": "code",
   "execution_count": 18,
   "id": "834cd653-8b87-4c48-a7f7-654f68824a87",
   "metadata": {},
   "outputs": [
    {
     "data": {
      "text/plain": [
       "<Axes: xlabel='date_of_week', ylabel='precio'>"
      ]
     },
     "execution_count": 18,
     "metadata": {},
     "output_type": "execute_result"
    },
    {
     "data": {
      "image/png": "[encoded data removed]",
      "text/plain": [
       "<Figure size 640x480 with 1 Axes>"
      ]
     },
     "metadata": {},
     "output_type": "display_data"
    }
   ],
   "source": [
    "sns.boxplot(data=df_reg, y='precio', x='date_of_week')"
   ]
  },
  {
   "cell_type": "markdown",
   "id": "ad52b0e4-dce4-4fc1-add5-07d88d3d21e1",
   "metadata": {},
   "source": [
    "Значения цены за весь период наблюдений"
   ]
  },
  {
   "cell_type": "code",
   "execution_count": 19,
   "id": "1b80c25f-402f-43af-bc62-66c4341e9b9d",
   "metadata": {},
   "outputs": [
    {
     "data": {
      "text/plain": [
       "<Axes: xlabel='datetime_utc', ylabel='precio'>"
      ]
     },
     "execution_count": 19,
     "metadata": {},
     "output_type": "execute_result"
    },
    {
     "data": {
      "image/png": "[encoded data removed]",
      "text/plain": [
       "<Figure size 640x480 with 1 Axes>"
      ]
     },
     "metadata": {},
     "output_type": "display_data"
    }
   ],
   "source": [
    "sns.lineplot(data=df_reg, x=\"datetime_utc\", y=\"precio\")"
   ]
  },
  {
   "cell_type": "markdown",
   "id": "f721ff0f-18ff-4796-801f-1d58f299add4",
   "metadata": {},
   "source": [
    "Здесь также можно применить one-hot-encoding"
   ]
  },
  {
   "cell_type": "markdown",
   "id": "3a6f76f0-81d5-4a67-a953-4bf5911b23c7",
   "metadata": {},
   "source": [
    "### Итоговые гипотезы"
   ]
  },
  {
   "cell_type": "markdown",
   "id": "9048b9d3-14d1-4f30-83cb-185da0337a02",
   "metadata": {},
   "source": [
    "- Классификация\n",
    "  - Объединение параметров размера астероида\n",
    "  - OneHotEncoding\n",
    "  - StandardScaling\n",
    "  - Кроссвалидация\n",
    "- Регрессия\n",
    "  - Объединение таблицы цены и силы ветра\n",
    "  - Объединение параметров среднего и максимального силы ветра\n",
    "  - OneHotEncoding\n",
    "  - Кроссвалидация"
   ]
  },
  {
   "cell_type": "markdown",
   "id": "081e9c66-ac57-477f-a652-27e11041e8ce",
   "metadata": {},
   "source": [
    "### С. Формирование улучшенного бейзлайна"
   ]
  },
  {
   "cell_type": "markdown",
   "id": "60961bf1-f9e6-414f-9e63-339cc25bbf03",
   "metadata": {},
   "source": [
    "OneHotEncoding"
   ]
  },
  {
   "cell_type": "code",
   "execution_count": 20,
   "id": "2a418248-f747-4d53-b830-855848a02063",
   "metadata": {},
   "outputs": [
    {
     "name": "stdout",
     "output_type": "stream",
     "text": [
      "Requirement already satisfied: category_encoders in /Users/denisfadeev/miniforge3/lib/python3.9/site-packages (2.6.4)\n",
      "Requirement already satisfied: numpy>=1.14.0 in /Users/denisfadeev/miniforge3/lib/python3.9/site-packages (from category_encoders) (1.26.4)\n",
      "Requirement already satisfied: scikit-learn>=0.20.0 in /Users/denisfadeev/miniforge3/lib/python3.9/site-packages (from category_encoders) (1.4.2)\n",
      "Requirement already satisfied: scipy>=1.0.0 in /Users/denisfadeev/miniforge3/lib/python3.9/site-packages (from category_encoders) (1.13.0)\n",
      "Requirement already satisfied: statsmodels>=0.9.0 in /Users/denisfadeev/miniforge3/lib/python3.9/site-packages (from category_encoders) (0.14.1)\n",
      "Requirement already satisfied: pandas>=1.0.5 in /Users/denisfadeev/miniforge3/lib/python3.9/site-packages (from category_encoders) (2.2.2)\n",
      "Requirement already satisfied: patsy>=0.5.1 in /Users/denisfadeev/miniforge3/lib/python3.9/site-packages (from category_encoders) (0.5.6)\n",
      "Requirement already satisfied: python-dateutil>=2.8.2 in /Users/denisfadeev/miniforge3/lib/python3.9/site-packages (from pandas>=1.0.5->category_encoders) (2.9.0)\n",
      "Requirement already satisfied: pytz>=2020.1 in /Users/denisfadeev/miniforge3/lib/python3.9/site-packages (from pandas>=1.0.5->category_encoders) (2024.1)\n",
      "Requirement already satisfied: tzdata>=2022.7 in /Users/denisfadeev/miniforge3/lib/python3.9/site-packages (from pandas>=1.0.5->category_encoders) (2024.1)\n",
      "Requirement already satisfied: six in /Users/denisfadeev/miniforge3/lib/python3.9/site-packages (from patsy>=0.5.1->category_encoders) (1.16.0)\n",
      "Requirement already satisfied: joblib>=1.2.0 in /Users/denisfadeev/miniforge3/lib/python3.9/site-packages (from scikit-learn>=0.20.0->category_encoders) (1.4.0)\n",
      "Requirement already satisfied: threadpoolctl>=2.0.0 in /Users/denisfadeev/miniforge3/lib/python3.9/site-packages (from scikit-learn>=0.20.0->category_encoders) (3.4.0)\n",
      "Requirement already satisfied: packaging>=21.3 in /Users/denisfadeev/miniforge3/lib/python3.9/site-packages (from statsmodels>=0.9.0->category_encoders) (24.0)\n"
     ]
    }
   ],
   "source": [
    "!pip install category_encoders"
   ]
  },
  {
   "cell_type": "code",
   "execution_count": 21,
   "id": "f2cf4aa8-bce5-4299-aa15-ad51576ccb53",
   "metadata": {},
   "outputs": [
    {
     "data": {
      "text/html": [
       "<div>\n",
       "<style scoped>\n",
       "    .dataframe tbody tr th:only-of-type {\n",
       "        vertical-align: middle;\n",
       "    }\n",
       "\n",
       "    .dataframe tbody tr th {\n",
       "        vertical-align: top;\n",
       "    }\n",
       "\n",
       "    .dataframe thead th {\n",
       "        text-align: right;\n",
       "    }\n",
       "</style>\n",
       "<table border=\"1\" class=\"dataframe\">\n",
       "  <thead>\n",
       "    <tr style=\"text-align: right;\">\n",
       "      <th></th>\n",
       "      <th>relative_velocity</th>\n",
       "      <th>miss_distance</th>\n",
       "      <th>absolute_magnitude</th>\n",
       "      <th>hazardous_1</th>\n",
       "      <th>hazardous_2</th>\n",
       "      <th>size</th>\n",
       "    </tr>\n",
       "  </thead>\n",
       "  <tbody>\n",
       "    <tr>\n",
       "      <th>48088</th>\n",
       "      <td>50793.086949</td>\n",
       "      <td>2.222168e+07</td>\n",
       "      <td>20.10</td>\n",
       "      <td>1</td>\n",
       "      <td>0</td>\n",
       "      <td>0.410717</td>\n",
       "    </tr>\n",
       "    <tr>\n",
       "      <th>40799</th>\n",
       "      <td>38606.221002</td>\n",
       "      <td>2.612210e+07</td>\n",
       "      <td>16.62</td>\n",
       "      <td>1</td>\n",
       "      <td>0</td>\n",
       "      <td>2.039589</td>\n",
       "    </tr>\n",
       "    <tr>\n",
       "      <th>54768</th>\n",
       "      <td>72930.239746</td>\n",
       "      <td>6.967326e+07</td>\n",
       "      <td>19.10</td>\n",
       "      <td>1</td>\n",
       "      <td>0</td>\n",
       "      <td>0.650942</td>\n",
       "    </tr>\n",
       "    <tr>\n",
       "      <th>9062</th>\n",
       "      <td>34256.807052</td>\n",
       "      <td>5.432752e+07</td>\n",
       "      <td>19.00</td>\n",
       "      <td>1</td>\n",
       "      <td>0</td>\n",
       "      <td>0.681620</td>\n",
       "    </tr>\n",
       "    <tr>\n",
       "      <th>31498</th>\n",
       "      <td>39667.868076</td>\n",
       "      <td>2.030752e+07</td>\n",
       "      <td>20.90</td>\n",
       "      <td>1</td>\n",
       "      <td>0</td>\n",
       "      <td>0.284147</td>\n",
       "    </tr>\n",
       "    <tr>\n",
       "      <th>...</th>\n",
       "      <td>...</td>\n",
       "      <td>...</td>\n",
       "      <td>...</td>\n",
       "      <td>...</td>\n",
       "      <td>...</td>\n",
       "      <td>...</td>\n",
       "    </tr>\n",
       "    <tr>\n",
       "      <th>53898</th>\n",
       "      <td>76894.404596</td>\n",
       "      <td>7.371090e+07</td>\n",
       "      <td>21.40</td>\n",
       "      <td>0</td>\n",
       "      <td>1</td>\n",
       "      <td>0.225706</td>\n",
       "    </tr>\n",
       "    <tr>\n",
       "      <th>53897</th>\n",
       "      <td>19418.384333</td>\n",
       "      <td>4.576340e+07</td>\n",
       "      <td>19.62</td>\n",
       "      <td>0</td>\n",
       "      <td>1</td>\n",
       "      <td>0.512322</td>\n",
       "    </tr>\n",
       "    <tr>\n",
       "      <th>53896</th>\n",
       "      <td>18849.804641</td>\n",
       "      <td>5.985635e+07</td>\n",
       "      <td>20.00</td>\n",
       "      <td>0</td>\n",
       "      <td>1</td>\n",
       "      <td>0.430073</td>\n",
       "    </tr>\n",
       "    <tr>\n",
       "      <th>53894</th>\n",
       "      <td>63766.692910</td>\n",
       "      <td>5.587903e+07</td>\n",
       "      <td>28.27</td>\n",
       "      <td>0</td>\n",
       "      <td>1</td>\n",
       "      <td>0.009540</td>\n",
       "    </tr>\n",
       "    <tr>\n",
       "      <th>53893</th>\n",
       "      <td>23908.151816</td>\n",
       "      <td>4.736243e+07</td>\n",
       "      <td>24.99</td>\n",
       "      <td>0</td>\n",
       "      <td>1</td>\n",
       "      <td>0.043206</td>\n",
       "    </tr>\n",
       "  </tbody>\n",
       "</table>\n",
       "<p>17680 rows × 6 columns</p>\n",
       "</div>"
      ],
      "text/plain": [
       "       relative_velocity  miss_distance  absolute_magnitude  hazardous_1  \\\n",
       "48088       50793.086949   2.222168e+07               20.10            1   \n",
       "40799       38606.221002   2.612210e+07               16.62            1   \n",
       "54768       72930.239746   6.967326e+07               19.10            1   \n",
       "9062        34256.807052   5.432752e+07               19.00            1   \n",
       "31498       39667.868076   2.030752e+07               20.90            1   \n",
       "...                  ...            ...                 ...          ...   \n",
       "53898       76894.404596   7.371090e+07               21.40            0   \n",
       "53897       19418.384333   4.576340e+07               19.62            0   \n",
       "53896       18849.804641   5.985635e+07               20.00            0   \n",
       "53894       63766.692910   5.587903e+07               28.27            0   \n",
       "53893       23908.151816   4.736243e+07               24.99            0   \n",
       "\n",
       "       hazardous_2      size  \n",
       "48088            0  0.410717  \n",
       "40799            0  2.039589  \n",
       "54768            0  0.650942  \n",
       "9062             0  0.681620  \n",
       "31498            0  0.284147  \n",
       "...            ...       ...  \n",
       "53898            1  0.225706  \n",
       "53897            1  0.512322  \n",
       "53896            1  0.430073  \n",
       "53894            1  0.009540  \n",
       "53893            1  0.043206  \n",
       "\n",
       "[17680 rows x 6 columns]"
      ]
     },
     "execution_count": 21,
     "metadata": {},
     "output_type": "execute_result"
    }
   ],
   "source": [
    "import category_encoders as ce\n",
    "ohe_encoder = ce.OneHotEncoder(cols = ['hazardous'])\n",
    "df_class['hazardous'] = df_class['hazardous'].astype(str)\n",
    "df_class = ohe_encoder.fit_transform(df_class)\n",
    "df_class"
   ]
  },
  {
   "cell_type": "markdown",
   "id": "3c72358f-2c6a-4e40-874d-c1b8e2d636b3",
   "metadata": {},
   "source": [
    "Производим OneHotEncoding"
   ]
  },
  {
   "cell_type": "code",
   "execution_count": 22,
   "id": "9debc89e-232e-4ca4-b8eb-fb742db31b6d",
   "metadata": {},
   "outputs": [
    {
     "name": "stdout",
     "output_type": "stream",
     "text": [
      "<class 'pandas.core.frame.DataFrame'>\n",
      "Index: 42508 entries, 17520 to 60027\n",
      "Data columns (total 47 columns):\n",
      " #   Column                  Non-Null Count  Dtype  \n",
      "---  ------                  --------------  -----  \n",
      " 0   datetime_utc            42508 non-null  int64  \n",
      " 1   hora_1                  42508 non-null  int64  \n",
      " 2   hora_2                  42508 non-null  int64  \n",
      " 3   hora_3                  42508 non-null  int64  \n",
      " 4   hora_4                  42508 non-null  int64  \n",
      " 5   hora_5                  42508 non-null  int64  \n",
      " 6   hora_6                  42508 non-null  int64  \n",
      " 7   hora_7                  42508 non-null  int64  \n",
      " 8   hora_8                  42508 non-null  int64  \n",
      " 9   hora_9                  42508 non-null  int64  \n",
      " 10  hora_10                 42508 non-null  int64  \n",
      " 11  hora_11                 42508 non-null  int64  \n",
      " 12  hora_12                 42508 non-null  int64  \n",
      " 13  hora_13                 42508 non-null  int64  \n",
      " 14  hora_14                 42508 non-null  int64  \n",
      " 15  hora_15                 42508 non-null  int64  \n",
      " 16  hora_16                 42508 non-null  int64  \n",
      " 17  hora_17                 42508 non-null  int64  \n",
      " 18  hora_18                 42508 non-null  int64  \n",
      " 19  hora_19                 42508 non-null  int64  \n",
      " 20  hora_20                 42508 non-null  int64  \n",
      " 21  hora_21                 42508 non-null  int64  \n",
      " 22  hora_22                 42508 non-null  int64  \n",
      " 23  hora_23                 42508 non-null  int64  \n",
      " 24  hora_24                 42508 non-null  int64  \n",
      " 25  precio                  42508 non-null  float64\n",
      " 26  AVG(wd.vel_km_h)        42508 non-null  float64\n",
      " 27  MAX(wd.racha_max_km_h)  42508 non-null  float64\n",
      " 28  date_of_week_1          42508 non-null  int64  \n",
      " 29  date_of_week_2          42508 non-null  int64  \n",
      " 30  date_of_week_3          42508 non-null  int64  \n",
      " 31  date_of_week_4          42508 non-null  int64  \n",
      " 32  date_of_week_5          42508 non-null  int64  \n",
      " 33  date_of_week_6          42508 non-null  int64  \n",
      " 34  date_of_week_7          42508 non-null  int64  \n",
      " 35  month_1                 42508 non-null  int64  \n",
      " 36  month_2                 42508 non-null  int64  \n",
      " 37  month_3                 42508 non-null  int64  \n",
      " 38  month_4                 42508 non-null  int64  \n",
      " 39  month_5                 42508 non-null  int64  \n",
      " 40  month_6                 42508 non-null  int64  \n",
      " 41  month_7                 42508 non-null  int64  \n",
      " 42  month_8                 42508 non-null  int64  \n",
      " 43  month_9                 42508 non-null  int64  \n",
      " 44  month_10                42508 non-null  int64  \n",
      " 45  month_11                42508 non-null  int64  \n",
      " 46  month_12                42508 non-null  int64  \n",
      "dtypes: float64(3), int64(44)\n",
      "memory usage: 15.6 MB\n"
     ]
    }
   ],
   "source": [
    "ohe_encoder = ce.OneHotEncoder(cols = ['month', 'date_of_week', 'hora'])\n",
    "df_reg = ohe_encoder.fit_transform(df_reg)\n",
    "df_reg.info()"
   ]
  },
  {
   "cell_type": "markdown",
   "id": "a7737306-795a-496d-8ff8-527fd32834ce",
   "metadata": {},
   "source": [
    "Создаем синтетические параметры"
   ]
  },
  {
   "cell_type": "code",
   "execution_count": 23,
   "id": "f99aed39-09e5-4495-8967-c7b2cada5da9",
   "metadata": {},
   "outputs": [],
   "source": [
    "# Объединение параметров ветра\n",
    "df_reg['wind'] = df_reg[['AVG(wd.vel_km_h)','MAX(wd.racha_max_km_h)']].mean(axis=1)\n",
    "df_reg = df_reg.drop(['AVG(wd.vel_km_h)','MAX(wd.racha_max_km_h)'],axis=1)"
   ]
  },
  {
   "cell_type": "markdown",
   "id": "9be86722-0a7d-461b-912c-f605e55472a0",
   "metadata": {},
   "source": [
    "Деление данных"
   ]
  },
  {
   "cell_type": "code",
   "execution_count": 24,
   "id": "303d2972-67c0-484a-b132-00497886d548",
   "metadata": {},
   "outputs": [],
   "source": [
    "# classification\n",
    "Y_class = df_class[['hazardous_1', 'hazardous_2']]\n",
    "X_class = df_class.drop(['hazardous_1', 'hazardous_2'],axis=1)\n",
    "X_train_class, X_test_class, Y_train_class, Y_test_class = train_test_split(X_class,Y_class,random_state=24314,test_size=0.5, shuffle = True)\n",
    "# regression\n",
    "Y_reg = df_reg['wind']\n",
    "X_reg = df_reg.drop(['wind'],axis=1)\n",
    "X_train_reg, X_test_reg, Y_train_reg, Y_test_reg = train_test_split(X_reg,Y_reg,random_state=24314,test_size=0.5, shuffle = True)"
   ]
  },
  {
   "cell_type": "markdown",
   "id": "e88e6bec-f29e-45ac-b620-9ccbc795a315",
   "metadata": {},
   "source": [
    "Препроцессинг"
   ]
  },
  {
   "cell_type": "code",
   "execution_count": 25,
   "id": "f6144622-34e0-4c3a-8da8-7780821b067f",
   "metadata": {},
   "outputs": [],
   "source": [
    "from sklearn.preprocessing import StandardScaler\n",
    "\n",
    "scaler_class = StandardScaler()\n",
    "X_train_class = scaler_class.fit_transform(X_train_class)\n",
    "X_test_class = scaler_class.fit_transform(X_test_class)"
   ]
  },
  {
   "cell_type": "markdown",
   "id": "23797fc2-be36-4c58-b4f2-f81c86ae444a",
   "metadata": {},
   "source": [
    "Кроссвалидация"
   ]
  },
  {
   "cell_type": "code",
   "execution_count": 26,
   "id": "ad7f9293-39c4-4599-889d-c966a41f72bc",
   "metadata": {},
   "outputs": [
    {
     "data": {
      "text/html": [
       "<style>#sk-container-id-2 {\n",
       "  /* Definition of color scheme common for light and dark mode */\n",
       "  --sklearn-color-text: black;\n",
       "  --sklearn-color-line: gray;\n",
       "  /* Definition of color scheme for unfitted estimators */\n",
       "  --sklearn-color-unfitted-level-0: #fff5e6;\n",
       "  --sklearn-color-unfitted-level-1: #f6e4d2;\n",
       "  --sklearn-color-unfitted-level-2: #ffe0b3;\n",
       "  --sklearn-color-unfitted-level-3: chocolate;\n",
       "  /* Definition of color scheme for fitted estimators */\n",
       "  --sklearn-color-fitted-level-0: #f0f8ff;\n",
       "  --sklearn-color-fitted-level-1: #d4ebff;\n",
       "  --sklearn-color-fitted-level-2: #b3dbfd;\n",
       "  --sklearn-color-fitted-level-3: cornflowerblue;\n",
       "\n",
       "  /* Specific color for light theme */\n",
       "  --sklearn-color-text-on-default-background: var(--sg-text-color, var(--theme-code-foreground, var(--jp-content-font-color1, black)));\n",
       "  --sklearn-color-background: var(--sg-background-color, var(--theme-background, var(--jp-layout-color0, white)));\n",
       "  --sklearn-color-border-box: var(--sg-text-color, var(--theme-code-foreground, var(--jp-content-font-color1, black)));\n",
       "  --sklearn-color-icon: #696969;\n",
       "\n",
       "  @media (prefers-color-scheme: dark) {\n",
       "    /* Redefinition of color scheme for dark theme */\n",
       "    --sklearn-color-text-on-default-background: var(--sg-text-color, var(--theme-code-foreground, var(--jp-content-font-color1, white)));\n",
       "    --sklearn-color-background: var(--sg-background-color, var(--theme-background, var(--jp-layout-color0, #111)));\n",
       "    --sklearn-color-border-box: var(--sg-text-color, var(--theme-code-foreground, var(--jp-content-font-color1, white)));\n",
       "    --sklearn-color-icon: #878787;\n",
       "  }\n",
       "}\n",
       "\n",
       "#sk-container-id-2 {\n",
       "  color: var(--sklearn-color-text);\n",
       "}\n",
       "\n",
       "#sk-container-id-2 pre {\n",
       "  padding: 0;\n",
       "}\n",
       "\n",
       "#sk-container-id-2 input.sk-hidden--visually {\n",
       "  border: 0;\n",
       "  clip: rect(1px 1px 1px 1px);\n",
       "  clip: rect(1px, 1px, 1px, 1px);\n",
       "  height: 1px;\n",
       "  margin: -1px;\n",
       "  overflow: hidden;\n",
       "  padding: 0;\n",
       "  position: absolute;\n",
       "  width: 1px;\n",
       "}\n",
       "\n",
       "#sk-container-id-2 div.sk-dashed-wrapped {\n",
       "  border: 1px dashed var(--sklearn-color-line);\n",
       "  margin: 0 0.4em 0.5em 0.4em;\n",
       "  box-sizing: border-box;\n",
       "  padding-bottom: 0.4em;\n",
       "  background-color: var(--sklearn-color-background);\n",
       "}\n",
       "\n",
       "#sk-container-id-2 div.sk-container {\n",
       "  /* jupyter's `normalize.less` sets `[hidden] { display: none; }`\n",
       "     but bootstrap.min.css set `[hidden] { display: none !important; }`\n",
       "     so we also need the `!important` here to be able to override the\n",
       "     default hidden behavior on the sphinx rendered scikit-learn.org.\n",
       "     See: https://github.com/scikit-learn/scikit-learn/issues/21755 */\n",
       "  display: inline-block !important;\n",
       "  position: relative;\n",
       "}\n",
       "\n",
       "#sk-container-id-2 div.sk-text-repr-fallback {\n",
       "  display: none;\n",
       "}\n",
       "\n",
       "div.sk-parallel-item,\n",
       "div.sk-serial,\n",
       "div.sk-item {\n",
       "  /* draw centered vertical line to link estimators */\n",
       "  background-image: linear-gradient(var(--sklearn-color-text-on-default-background), var(--sklearn-color-text-on-default-background));\n",
       "  background-size: 2px 100%;\n",
       "  background-repeat: no-repeat;\n",
       "  background-position: center center;\n",
       "}\n",
       "\n",
       "/* Parallel-specific style estimator block */\n",
       "\n",
       "#sk-container-id-2 div.sk-parallel-item::after {\n",
       "  content: \"\";\n",
       "  width: 100%;\n",
       "  border-bottom: 2px solid var(--sklearn-color-text-on-default-background);\n",
       "  flex-grow: 1;\n",
       "}\n",
       "\n",
       "#sk-container-id-2 div.sk-parallel {\n",
       "  display: flex;\n",
       "  align-items: stretch;\n",
       "  justify-content: center;\n",
       "  background-color: var(--sklearn-color-background);\n",
       "  position: relative;\n",
       "}\n",
       "\n",
       "#sk-container-id-2 div.sk-parallel-item {\n",
       "  display: flex;\n",
       "  flex-direction: column;\n",
       "}\n",
       "\n",
       "#sk-container-id-2 div.sk-parallel-item:first-child::after {\n",
       "  align-self: flex-end;\n",
       "  width: 50%;\n",
       "}\n",
       "\n",
       "#sk-container-id-2 div.sk-parallel-item:last-child::after {\n",
       "  align-self: flex-start;\n",
       "  width: 50%;\n",
       "}\n",
       "\n",
       "#sk-container-id-2 div.sk-parallel-item:only-child::after {\n",
       "  width: 0;\n",
       "}\n",
       "\n",
       "/* Serial-specific style estimator block */\n",
       "\n",
       "#sk-container-id-2 div.sk-serial {\n",
       "  display: flex;\n",
       "  flex-direction: column;\n",
       "  align-items: center;\n",
       "  background-color: var(--sklearn-color-background);\n",
       "  padding-right: 1em;\n",
       "  padding-left: 1em;\n",
       "}\n",
       "\n",
       "\n",
       "/* Toggleable style: style used for estimator/Pipeline/ColumnTransformer box that is\n",
       "clickable and can be expanded/collapsed.\n",
       "- Pipeline and ColumnTransformer use this feature and define the default style\n",
       "- Estimators will overwrite some part of the style using the `sk-estimator` class\n",
       "*/\n",
       "\n",
       "/* Pipeline and ColumnTransformer style (default) */\n",
       "\n",
       "#sk-container-id-2 div.sk-toggleable {\n",
       "  /* Default theme specific background. It is overwritten whether we have a\n",
       "  specific estimator or a Pipeline/ColumnTransformer */\n",
       "  background-color: var(--sklearn-color-background);\n",
       "}\n",
       "\n",
       "/* Toggleable label */\n",
       "#sk-container-id-2 label.sk-toggleable__label {\n",
       "  cursor: pointer;\n",
       "  display: block;\n",
       "  width: 100%;\n",
       "  margin-bottom: 0;\n",
       "  padding: 0.5em;\n",
       "  box-sizing: border-box;\n",
       "  text-align: center;\n",
       "}\n",
       "\n",
       "#sk-container-id-2 label.sk-toggleable__label-arrow:before {\n",
       "  /* Arrow on the left of the label */\n",
       "  content: \"▸\";\n",
       "  float: left;\n",
       "  margin-right: 0.25em;\n",
       "  color: var(--sklearn-color-icon);\n",
       "}\n",
       "\n",
       "#sk-container-id-2 label.sk-toggleable__label-arrow:hover:before {\n",
       "  color: var(--sklearn-color-text);\n",
       "}\n",
       "\n",
       "/* Toggleable content - dropdown */\n",
       "\n",
       "#sk-container-id-2 div.sk-toggleable__content {\n",
       "  max-height: 0;\n",
       "  max-width: 0;\n",
       "  overflow: hidden;\n",
       "  text-align: left;\n",
       "  /* unfitted */\n",
       "  background-color: var(--sklearn-color-unfitted-level-0);\n",
       "}\n",
       "\n",
       "#sk-container-id-2 div.sk-toggleable__content.fitted {\n",
       "  /* fitted */\n",
       "  background-color: var(--sklearn-color-fitted-level-0);\n",
       "}\n",
       "\n",
       "#sk-container-id-2 div.sk-toggleable__content pre {\n",
       "  margin: 0.2em;\n",
       "  border-radius: 0.25em;\n",
       "  color: var(--sklearn-color-text);\n",
       "  /* unfitted */\n",
       "  background-color: var(--sklearn-color-unfitted-level-0);\n",
       "}\n",
       "\n",
       "#sk-container-id-2 div.sk-toggleable__content.fitted pre {\n",
       "  /* unfitted */\n",
       "  background-color: var(--sklearn-color-fitted-level-0);\n",
       "}\n",
       "\n",
       "#sk-container-id-2 input.sk-toggleable__control:checked~div.sk-toggleable__content {\n",
       "  /* Expand drop-down */\n",
       "  max-height: 200px;\n",
       "  max-width: 100%;\n",
       "  overflow: auto;\n",
       "}\n",
       "\n",
       "#sk-container-id-2 input.sk-toggleable__control:checked~label.sk-toggleable__label-arrow:before {\n",
       "  content: \"▾\";\n",
       "}\n",
       "\n",
       "/* Pipeline/ColumnTransformer-specific style */\n",
       "\n",
       "#sk-container-id-2 div.sk-label input.sk-toggleable__control:checked~label.sk-toggleable__label {\n",
       "  color: var(--sklearn-color-text);\n",
       "  background-color: var(--sklearn-color-unfitted-level-2);\n",
       "}\n",
       "\n",
       "#sk-container-id-2 div.sk-label.fitted input.sk-toggleable__control:checked~label.sk-toggleable__label {\n",
       "  background-color: var(--sklearn-color-fitted-level-2);\n",
       "}\n",
       "\n",
       "/* Estimator-specific style */\n",
       "\n",
       "/* Colorize estimator box */\n",
       "#sk-container-id-2 div.sk-estimator input.sk-toggleable__control:checked~label.sk-toggleable__label {\n",
       "  /* unfitted */\n",
       "  background-color: var(--sklearn-color-unfitted-level-2);\n",
       "}\n",
       "\n",
       "#sk-container-id-2 div.sk-estimator.fitted input.sk-toggleable__control:checked~label.sk-toggleable__label {\n",
       "  /* fitted */\n",
       "  background-color: var(--sklearn-color-fitted-level-2);\n",
       "}\n",
       "\n",
       "#sk-container-id-2 div.sk-label label.sk-toggleable__label,\n",
       "#sk-container-id-2 div.sk-label label {\n",
       "  /* The background is the default theme color */\n",
       "  color: var(--sklearn-color-text-on-default-background);\n",
       "}\n",
       "\n",
       "/* On hover, darken the color of the background */\n",
       "#sk-container-id-2 div.sk-label:hover label.sk-toggleable__label {\n",
       "  color: var(--sklearn-color-text);\n",
       "  background-color: var(--sklearn-color-unfitted-level-2);\n",
       "}\n",
       "\n",
       "/* Label box, darken color on hover, fitted */\n",
       "#sk-container-id-2 div.sk-label.fitted:hover label.sk-toggleable__label.fitted {\n",
       "  color: var(--sklearn-color-text);\n",
       "  background-color: var(--sklearn-color-fitted-level-2);\n",
       "}\n",
       "\n",
       "/* Estimator label */\n",
       "\n",
       "#sk-container-id-2 div.sk-label label {\n",
       "  font-family: monospace;\n",
       "  font-weight: bold;\n",
       "  display: inline-block;\n",
       "  line-height: 1.2em;\n",
       "}\n",
       "\n",
       "#sk-container-id-2 div.sk-label-container {\n",
       "  text-align: center;\n",
       "}\n",
       "\n",
       "/* Estimator-specific */\n",
       "#sk-container-id-2 div.sk-estimator {\n",
       "  font-family: monospace;\n",
       "  border: 1px dotted var(--sklearn-color-border-box);\n",
       "  border-radius: 0.25em;\n",
       "  box-sizing: border-box;\n",
       "  margin-bottom: 0.5em;\n",
       "  /* unfitted */\n",
       "  background-color: var(--sklearn-color-unfitted-level-0);\n",
       "}\n",
       "\n",
       "#sk-container-id-2 div.sk-estimator.fitted {\n",
       "  /* fitted */\n",
       "  background-color: var(--sklearn-color-fitted-level-0);\n",
       "}\n",
       "\n",
       "/* on hover */\n",
       "#sk-container-id-2 div.sk-estimator:hover {\n",
       "  /* unfitted */\n",
       "  background-color: var(--sklearn-color-unfitted-level-2);\n",
       "}\n",
       "\n",
       "#sk-container-id-2 div.sk-estimator.fitted:hover {\n",
       "  /* fitted */\n",
       "  background-color: var(--sklearn-color-fitted-level-2);\n",
       "}\n",
       "\n",
       "/* Specification for estimator info (e.g. \"i\" and \"?\") */\n",
       "\n",
       "/* Common style for \"i\" and \"?\" */\n",
       "\n",
       ".sk-estimator-doc-link,\n",
       "a:link.sk-estimator-doc-link,\n",
       "a:visited.sk-estimator-doc-link {\n",
       "  float: right;\n",
       "  font-size: smaller;\n",
       "  line-height: 1em;\n",
       "  font-family: monospace;\n",
       "  background-color: var(--sklearn-color-background);\n",
       "  border-radius: 1em;\n",
       "  height: 1em;\n",
       "  width: 1em;\n",
       "  text-decoration: none !important;\n",
       "  margin-left: 1ex;\n",
       "  /* unfitted */\n",
       "  border: var(--sklearn-color-unfitted-level-1) 1pt solid;\n",
       "  color: var(--sklearn-color-unfitted-level-1);\n",
       "}\n",
       "\n",
       ".sk-estimator-doc-link.fitted,\n",
       "a:link.sk-estimator-doc-link.fitted,\n",
       "a:visited.sk-estimator-doc-link.fitted {\n",
       "  /* fitted */\n",
       "  border: var(--sklearn-color-fitted-level-1) 1pt solid;\n",
       "  color: var(--sklearn-color-fitted-level-1);\n",
       "}\n",
       "\n",
       "/* On hover */\n",
       "div.sk-estimator:hover .sk-estimator-doc-link:hover,\n",
       ".sk-estimator-doc-link:hover,\n",
       "div.sk-label-container:hover .sk-estimator-doc-link:hover,\n",
       ".sk-estimator-doc-link:hover {\n",
       "  /* unfitted */\n",
       "  background-color: var(--sklearn-color-unfitted-level-3);\n",
       "  color: var(--sklearn-color-background);\n",
       "  text-decoration: none;\n",
       "}\n",
       "\n",
       "div.sk-estimator.fitted:hover .sk-estimator-doc-link.fitted:hover,\n",
       ".sk-estimator-doc-link.fitted:hover,\n",
       "div.sk-label-container:hover .sk-estimator-doc-link.fitted:hover,\n",
       ".sk-estimator-doc-link.fitted:hover {\n",
       "  /* fitted */\n",
       "  background-color: var(--sklearn-color-fitted-level-3);\n",
       "  color: var(--sklearn-color-background);\n",
       "  text-decoration: none;\n",
       "}\n",
       "\n",
       "/* Span, style for the box shown on hovering the info icon */\n",
       ".sk-estimator-doc-link span {\n",
       "  display: none;\n",
       "  z-index: 9999;\n",
       "  position: relative;\n",
       "  font-weight: normal;\n",
       "  right: .2ex;\n",
       "  padding: .5ex;\n",
       "  margin: .5ex;\n",
       "  width: min-content;\n",
       "  min-width: 20ex;\n",
       "  max-width: 50ex;\n",
       "  color: var(--sklearn-color-text);\n",
       "  box-shadow: 2pt 2pt 4pt #999;\n",
       "  /* unfitted */\n",
       "  background: var(--sklearn-color-unfitted-level-0);\n",
       "  border: .5pt solid var(--sklearn-color-unfitted-level-3);\n",
       "}\n",
       "\n",
       ".sk-estimator-doc-link.fitted span {\n",
       "  /* fitted */\n",
       "  background: var(--sklearn-color-fitted-level-0);\n",
       "  border: var(--sklearn-color-fitted-level-3);\n",
       "}\n",
       "\n",
       ".sk-estimator-doc-link:hover span {\n",
       "  display: block;\n",
       "}\n",
       "\n",
       "/* \"?\"-specific style due to the `<a>` HTML tag */\n",
       "\n",
       "#sk-container-id-2 a.estimator_doc_link {\n",
       "  float: right;\n",
       "  font-size: 1rem;\n",
       "  line-height: 1em;\n",
       "  font-family: monospace;\n",
       "  background-color: var(--sklearn-color-background);\n",
       "  border-radius: 1rem;\n",
       "  height: 1rem;\n",
       "  width: 1rem;\n",
       "  text-decoration: none;\n",
       "  /* unfitted */\n",
       "  color: var(--sklearn-color-unfitted-level-1);\n",
       "  border: var(--sklearn-color-unfitted-level-1) 1pt solid;\n",
       "}\n",
       "\n",
       "#sk-container-id-2 a.estimator_doc_link.fitted {\n",
       "  /* fitted */\n",
       "  border: var(--sklearn-color-fitted-level-1) 1pt solid;\n",
       "  color: var(--sklearn-color-fitted-level-1);\n",
       "}\n",
       "\n",
       "/* On hover */\n",
       "#sk-container-id-2 a.estimator_doc_link:hover {\n",
       "  /* unfitted */\n",
       "  background-color: var(--sklearn-color-unfitted-level-3);\n",
       "  color: var(--sklearn-color-background);\n",
       "  text-decoration: none;\n",
       "}\n",
       "\n",
       "#sk-container-id-2 a.estimator_doc_link.fitted:hover {\n",
       "  /* fitted */\n",
       "  background-color: var(--sklearn-color-fitted-level-3);\n",
       "}\n",
       "</style><div id=\"sk-container-id-2\" class=\"sk-top-container\"><div class=\"sk-text-repr-fallback\"><pre>GridSearchCV(cv=7, estimator=KNeighborsRegressor(),\n",
       "             param_grid={&#x27;n_neighbors&#x27;: [1, 3, 5, 7, 9, 11, 13]})</pre><b>In a Jupyter environment, please rerun this cell to show the HTML representation or trust the notebook. <br />On GitHub, the HTML representation is unable to render, please try loading this page with nbviewer.org.</b></div><div class=\"sk-container\" hidden><div class=\"sk-item sk-dashed-wrapped\"><div class=\"sk-label-container\"><div class=\"sk-label fitted sk-toggleable\"><input class=\"sk-toggleable__control sk-hidden--visually\" id=\"sk-estimator-id-2\" type=\"checkbox\" ><label for=\"sk-estimator-id-2\" class=\"sk-toggleable__label fitted sk-toggleable__label-arrow fitted\">&nbsp;&nbsp;GridSearchCV<a class=\"sk-estimator-doc-link fitted\" rel=\"noreferrer\" target=\"_blank\" href=\"https://scikit-learn.org/1.4/modules/generated/sklearn.model_selection.GridSearchCV.html\">?<span>Documentation for GridSearchCV</span></a><span class=\"sk-estimator-doc-link fitted\">i<span>Fitted</span></span></label><div class=\"sk-toggleable__content fitted\"><pre>GridSearchCV(cv=7, estimator=KNeighborsRegressor(),\n",
       "             param_grid={&#x27;n_neighbors&#x27;: [1, 3, 5, 7, 9, 11, 13]})</pre></div> </div></div><div class=\"sk-parallel\"><div class=\"sk-parallel-item\"><div class=\"sk-item\"><div class=\"sk-label-container\"><div class=\"sk-label fitted sk-toggleable\"><input class=\"sk-toggleable__control sk-hidden--visually\" id=\"sk-estimator-id-3\" type=\"checkbox\" ><label for=\"sk-estimator-id-3\" class=\"sk-toggleable__label fitted sk-toggleable__label-arrow fitted\">estimator: KNeighborsRegressor</label><div class=\"sk-toggleable__content fitted\"><pre>KNeighborsRegressor()</pre></div> </div></div><div class=\"sk-serial\"><div class=\"sk-item\"><div class=\"sk-estimator fitted sk-toggleable\"><input class=\"sk-toggleable__control sk-hidden--visually\" id=\"sk-estimator-id-4\" type=\"checkbox\" ><label for=\"sk-estimator-id-4\" class=\"sk-toggleable__label fitted sk-toggleable__label-arrow fitted\">&nbsp;KNeighborsRegressor<a class=\"sk-estimator-doc-link fitted\" rel=\"noreferrer\" target=\"_blank\" href=\"https://scikit-learn.org/1.4/modules/generated/sklearn.neighbors.KNeighborsRegressor.html\">?<span>Documentation for KNeighborsRegressor</span></a></label><div class=\"sk-toggleable__content fitted\"><pre>KNeighborsRegressor()</pre></div> </div></div></div></div></div></div></div></div></div>"
      ],
      "text/plain": [
       "GridSearchCV(cv=7, estimator=KNeighborsRegressor(),\n",
       "             param_grid={'n_neighbors': [1, 3, 5, 7, 9, 11, 13]})"
      ]
     },
     "execution_count": 26,
     "metadata": {},
     "output_type": "execute_result"
    }
   ],
   "source": [
    "from sklearn.model_selection import GridSearchCV\n",
    "\n",
    "param_grid = {'n_neighbors': [1, 3, 5, 7, 9, 11, 13]}\n",
    "\n",
    "grid_search_class = GridSearchCV(KNeighborsClassifier(), param_grid, cv=7)\n",
    "grid_search_class.fit(X_train_class, Y_train_class)\n",
    "\n",
    "grid_search_reg = GridSearchCV(KNeighborsRegressor(), param_grid, cv=7)\n",
    "grid_search_reg.fit(X_train_reg, Y_train_reg)"
   ]
  },
  {
   "cell_type": "code",
   "execution_count": 27,
   "id": "cc413055-4907-4374-8353-ec6bf56152dc",
   "metadata": {},
   "outputs": [
    {
     "name": "stdout",
     "output_type": "stream",
     "text": [
      "Best n_neighbors for classification: {'n_neighbors': 13}\n",
      "Best n_neighbors for regression: {'n_neighbors': 1}\n"
     ]
    }
   ],
   "source": [
    "print(f\"Best n_neighbors for classification: {grid_search_class.best_params_}\")\n",
    "print(f\"Best n_neighbors for regression: {grid_search_reg.best_params_}\")"
   ]
  },
  {
   "cell_type": "markdown",
   "id": "832d78bb-6f5f-4959-afd4-78f0b71af544",
   "metadata": {},
   "source": [
    "### d. Обучение моделей"
   ]
  },
  {
   "cell_type": "code",
   "execution_count": 28,
   "id": "0804c6df-5782-4682-b4e3-5f3d181e2c56",
   "metadata": {},
   "outputs": [
    {
     "data": {
      "text/html": [
       "<style>#sk-container-id-3 {\n",
       "  /* Definition of color scheme common for light and dark mode */\n",
       "  --sklearn-color-text: black;\n",
       "  --sklearn-color-line: gray;\n",
       "  /* Definition of color scheme for unfitted estimators */\n",
       "  --sklearn-color-unfitted-level-0: #fff5e6;\n",
       "  --sklearn-color-unfitted-level-1: #f6e4d2;\n",
       "  --sklearn-color-unfitted-level-2: #ffe0b3;\n",
       "  --sklearn-color-unfitted-level-3: chocolate;\n",
       "  /* Definition of color scheme for fitted estimators */\n",
       "  --sklearn-color-fitted-level-0: #f0f8ff;\n",
       "  --sklearn-color-fitted-level-1: #d4ebff;\n",
       "  --sklearn-color-fitted-level-2: #b3dbfd;\n",
       "  --sklearn-color-fitted-level-3: cornflowerblue;\n",
       "\n",
       "  /* Specific color for light theme */\n",
       "  --sklearn-color-text-on-default-background: var(--sg-text-color, var(--theme-code-foreground, var(--jp-content-font-color1, black)));\n",
       "  --sklearn-color-background: var(--sg-background-color, var(--theme-background, var(--jp-layout-color0, white)));\n",
       "  --sklearn-color-border-box: var(--sg-text-color, var(--theme-code-foreground, var(--jp-content-font-color1, black)));\n",
       "  --sklearn-color-icon: #696969;\n",
       "\n",
       "  @media (prefers-color-scheme: dark) {\n",
       "    /* Redefinition of color scheme for dark theme */\n",
       "    --sklearn-color-text-on-default-background: var(--sg-text-color, var(--theme-code-foreground, var(--jp-content-font-color1, white)));\n",
       "    --sklearn-color-background: var(--sg-background-color, var(--theme-background, var(--jp-layout-color0, #111)));\n",
       "    --sklearn-color-border-box: var(--sg-text-color, var(--theme-code-foreground, var(--jp-content-font-color1, white)));\n",
       "    --sklearn-color-icon: #878787;\n",
       "  }\n",
       "}\n",
       "\n",
       "#sk-container-id-3 {\n",
       "  color: var(--sklearn-color-text);\n",
       "}\n",
       "\n",
       "#sk-container-id-3 pre {\n",
       "  padding: 0;\n",
       "}\n",
       "\n",
       "#sk-container-id-3 input.sk-hidden--visually {\n",
       "  border: 0;\n",
       "  clip: rect(1px 1px 1px 1px);\n",
       "  clip: rect(1px, 1px, 1px, 1px);\n",
       "  height: 1px;\n",
       "  margin: -1px;\n",
       "  overflow: hidden;\n",
       "  padding: 0;\n",
       "  position: absolute;\n",
       "  width: 1px;\n",
       "}\n",
       "\n",
       "#sk-container-id-3 div.sk-dashed-wrapped {\n",
       "  border: 1px dashed var(--sklearn-color-line);\n",
       "  margin: 0 0.4em 0.5em 0.4em;\n",
       "  box-sizing: border-box;\n",
       "  padding-bottom: 0.4em;\n",
       "  background-color: var(--sklearn-color-background);\n",
       "}\n",
       "\n",
       "#sk-container-id-3 div.sk-container {\n",
       "  /* jupyter's `normalize.less` sets `[hidden] { display: none; }`\n",
       "     but bootstrap.min.css set `[hidden] { display: none !important; }`\n",
       "     so we also need the `!important` here to be able to override the\n",
       "     default hidden behavior on the sphinx rendered scikit-learn.org.\n",
       "     See: https://github.com/scikit-learn/scikit-learn/issues/21755 */\n",
       "  display: inline-block !important;\n",
       "  position: relative;\n",
       "}\n",
       "\n",
       "#sk-container-id-3 div.sk-text-repr-fallback {\n",
       "  display: none;\n",
       "}\n",
       "\n",
       "div.sk-parallel-item,\n",
       "div.sk-serial,\n",
       "div.sk-item {\n",
       "  /* draw centered vertical line to link estimators */\n",
       "  background-image: linear-gradient(var(--sklearn-color-text-on-default-background), var(--sklearn-color-text-on-default-background));\n",
       "  background-size: 2px 100%;\n",
       "  background-repeat: no-repeat;\n",
       "  background-position: center center;\n",
       "}\n",
       "\n",
       "/* Parallel-specific style estimator block */\n",
       "\n",
       "#sk-container-id-3 div.sk-parallel-item::after {\n",
       "  content: \"\";\n",
       "  width: 100%;\n",
       "  border-bottom: 2px solid var(--sklearn-color-text-on-default-background);\n",
       "  flex-grow: 1;\n",
       "}\n",
       "\n",
       "#sk-container-id-3 div.sk-parallel {\n",
       "  display: flex;\n",
       "  align-items: stretch;\n",
       "  justify-content: center;\n",
       "  background-color: var(--sklearn-color-background);\n",
       "  position: relative;\n",
       "}\n",
       "\n",
       "#sk-container-id-3 div.sk-parallel-item {\n",
       "  display: flex;\n",
       "  flex-direction: column;\n",
       "}\n",
       "\n",
       "#sk-container-id-3 div.sk-parallel-item:first-child::after {\n",
       "  align-self: flex-end;\n",
       "  width: 50%;\n",
       "}\n",
       "\n",
       "#sk-container-id-3 div.sk-parallel-item:last-child::after {\n",
       "  align-self: flex-start;\n",
       "  width: 50%;\n",
       "}\n",
       "\n",
       "#sk-container-id-3 div.sk-parallel-item:only-child::after {\n",
       "  width: 0;\n",
       "}\n",
       "\n",
       "/* Serial-specific style estimator block */\n",
       "\n",
       "#sk-container-id-3 div.sk-serial {\n",
       "  display: flex;\n",
       "  flex-direction: column;\n",
       "  align-items: center;\n",
       "  background-color: var(--sklearn-color-background);\n",
       "  padding-right: 1em;\n",
       "  padding-left: 1em;\n",
       "}\n",
       "\n",
       "\n",
       "/* Toggleable style: style used for estimator/Pipeline/ColumnTransformer box that is\n",
       "clickable and can be expanded/collapsed.\n",
       "- Pipeline and ColumnTransformer use this feature and define the default style\n",
       "- Estimators will overwrite some part of the style using the `sk-estimator` class\n",
       "*/\n",
       "\n",
       "/* Pipeline and ColumnTransformer style (default) */\n",
       "\n",
       "#sk-container-id-3 div.sk-toggleable {\n",
       "  /* Default theme specific background. It is overwritten whether we have a\n",
       "  specific estimator or a Pipeline/ColumnTransformer */\n",
       "  background-color: var(--sklearn-color-background);\n",
       "}\n",
       "\n",
       "/* Toggleable label */\n",
       "#sk-container-id-3 label.sk-toggleable__label {\n",
       "  cursor: pointer;\n",
       "  display: block;\n",
       "  width: 100%;\n",
       "  margin-bottom: 0;\n",
       "  padding: 0.5em;\n",
       "  box-sizing: border-box;\n",
       "  text-align: center;\n",
       "}\n",
       "\n",
       "#sk-container-id-3 label.sk-toggleable__label-arrow:before {\n",
       "  /* Arrow on the left of the label */\n",
       "  content: \"▸\";\n",
       "  float: left;\n",
       "  margin-right: 0.25em;\n",
       "  color: var(--sklearn-color-icon);\n",
       "}\n",
       "\n",
       "#sk-container-id-3 label.sk-toggleable__label-arrow:hover:before {\n",
       "  color: var(--sklearn-color-text);\n",
       "}\n",
       "\n",
       "/* Toggleable content - dropdown */\n",
       "\n",
       "#sk-container-id-3 div.sk-toggleable__content {\n",
       "  max-height: 0;\n",
       "  max-width: 0;\n",
       "  overflow: hidden;\n",
       "  text-align: left;\n",
       "  /* unfitted */\n",
       "  background-color: var(--sklearn-color-unfitted-level-0);\n",
       "}\n",
       "\n",
       "#sk-container-id-3 div.sk-toggleable__content.fitted {\n",
       "  /* fitted */\n",
       "  background-color: var(--sklearn-color-fitted-level-0);\n",
       "}\n",
       "\n",
       "#sk-container-id-3 div.sk-toggleable__content pre {\n",
       "  margin: 0.2em;\n",
       "  border-radius: 0.25em;\n",
       "  color: var(--sklearn-color-text);\n",
       "  /* unfitted */\n",
       "  background-color: var(--sklearn-color-unfitted-level-0);\n",
       "}\n",
       "\n",
       "#sk-container-id-3 div.sk-toggleable__content.fitted pre {\n",
       "  /* unfitted */\n",
       "  background-color: var(--sklearn-color-fitted-level-0);\n",
       "}\n",
       "\n",
       "#sk-container-id-3 input.sk-toggleable__control:checked~div.sk-toggleable__content {\n",
       "  /* Expand drop-down */\n",
       "  max-height: 200px;\n",
       "  max-width: 100%;\n",
       "  overflow: auto;\n",
       "}\n",
       "\n",
       "#sk-container-id-3 input.sk-toggleable__control:checked~label.sk-toggleable__label-arrow:before {\n",
       "  content: \"▾\";\n",
       "}\n",
       "\n",
       "/* Pipeline/ColumnTransformer-specific style */\n",
       "\n",
       "#sk-container-id-3 div.sk-label input.sk-toggleable__control:checked~label.sk-toggleable__label {\n",
       "  color: var(--sklearn-color-text);\n",
       "  background-color: var(--sklearn-color-unfitted-level-2);\n",
       "}\n",
       "\n",
       "#sk-container-id-3 div.sk-label.fitted input.sk-toggleable__control:checked~label.sk-toggleable__label {\n",
       "  background-color: var(--sklearn-color-fitted-level-2);\n",
       "}\n",
       "\n",
       "/* Estimator-specific style */\n",
       "\n",
       "/* Colorize estimator box */\n",
       "#sk-container-id-3 div.sk-estimator input.sk-toggleable__control:checked~label.sk-toggleable__label {\n",
       "  /* unfitted */\n",
       "  background-color: var(--sklearn-color-unfitted-level-2);\n",
       "}\n",
       "\n",
       "#sk-container-id-3 div.sk-estimator.fitted input.sk-toggleable__control:checked~label.sk-toggleable__label {\n",
       "  /* fitted */\n",
       "  background-color: var(--sklearn-color-fitted-level-2);\n",
       "}\n",
       "\n",
       "#sk-container-id-3 div.sk-label label.sk-toggleable__label,\n",
       "#sk-container-id-3 div.sk-label label {\n",
       "  /* The background is the default theme color */\n",
       "  color: var(--sklearn-color-text-on-default-background);\n",
       "}\n",
       "\n",
       "/* On hover, darken the color of the background */\n",
       "#sk-container-id-3 div.sk-label:hover label.sk-toggleable__label {\n",
       "  color: var(--sklearn-color-text);\n",
       "  background-color: var(--sklearn-color-unfitted-level-2);\n",
       "}\n",
       "\n",
       "/* Label box, darken color on hover, fitted */\n",
       "#sk-container-id-3 div.sk-label.fitted:hover label.sk-toggleable__label.fitted {\n",
       "  color: var(--sklearn-color-text);\n",
       "  background-color: var(--sklearn-color-fitted-level-2);\n",
       "}\n",
       "\n",
       "/* Estimator label */\n",
       "\n",
       "#sk-container-id-3 div.sk-label label {\n",
       "  font-family: monospace;\n",
       "  font-weight: bold;\n",
       "  display: inline-block;\n",
       "  line-height: 1.2em;\n",
       "}\n",
       "\n",
       "#sk-container-id-3 div.sk-label-container {\n",
       "  text-align: center;\n",
       "}\n",
       "\n",
       "/* Estimator-specific */\n",
       "#sk-container-id-3 div.sk-estimator {\n",
       "  font-family: monospace;\n",
       "  border: 1px dotted var(--sklearn-color-border-box);\n",
       "  border-radius: 0.25em;\n",
       "  box-sizing: border-box;\n",
       "  margin-bottom: 0.5em;\n",
       "  /* unfitted */\n",
       "  background-color: var(--sklearn-color-unfitted-level-0);\n",
       "}\n",
       "\n",
       "#sk-container-id-3 div.sk-estimator.fitted {\n",
       "  /* fitted */\n",
       "  background-color: var(--sklearn-color-fitted-level-0);\n",
       "}\n",
       "\n",
       "/* on hover */\n",
       "#sk-container-id-3 div.sk-estimator:hover {\n",
       "  /* unfitted */\n",
       "  background-color: var(--sklearn-color-unfitted-level-2);\n",
       "}\n",
       "\n",
       "#sk-container-id-3 div.sk-estimator.fitted:hover {\n",
       "  /* fitted */\n",
       "  background-color: var(--sklearn-color-fitted-level-2);\n",
       "}\n",
       "\n",
       "/* Specification for estimator info (e.g. \"i\" and \"?\") */\n",
       "\n",
       "/* Common style for \"i\" and \"?\" */\n",
       "\n",
       ".sk-estimator-doc-link,\n",
       "a:link.sk-estimator-doc-link,\n",
       "a:visited.sk-estimator-doc-link {\n",
       "  float: right;\n",
       "  font-size: smaller;\n",
       "  line-height: 1em;\n",
       "  font-family: monospace;\n",
       "  background-color: var(--sklearn-color-background);\n",
       "  border-radius: 1em;\n",
       "  height: 1em;\n",
       "  width: 1em;\n",
       "  text-decoration: none !important;\n",
       "  margin-left: 1ex;\n",
       "  /* unfitted */\n",
       "  border: var(--sklearn-color-unfitted-level-1) 1pt solid;\n",
       "  color: var(--sklearn-color-unfitted-level-1);\n",
       "}\n",
       "\n",
       ".sk-estimator-doc-link.fitted,\n",
       "a:link.sk-estimator-doc-link.fitted,\n",
       "a:visited.sk-estimator-doc-link.fitted {\n",
       "  /* fitted */\n",
       "  border: var(--sklearn-color-fitted-level-1) 1pt solid;\n",
       "  color: var(--sklearn-color-fitted-level-1);\n",
       "}\n",
       "\n",
       "/* On hover */\n",
       "div.sk-estimator:hover .sk-estimator-doc-link:hover,\n",
       ".sk-estimator-doc-link:hover,\n",
       "div.sk-label-container:hover .sk-estimator-doc-link:hover,\n",
       ".sk-estimator-doc-link:hover {\n",
       "  /* unfitted */\n",
       "  background-color: var(--sklearn-color-unfitted-level-3);\n",
       "  color: var(--sklearn-color-background);\n",
       "  text-decoration: none;\n",
       "}\n",
       "\n",
       "div.sk-estimator.fitted:hover .sk-estimator-doc-link.fitted:hover,\n",
       ".sk-estimator-doc-link.fitted:hover,\n",
       "div.sk-label-container:hover .sk-estimator-doc-link.fitted:hover,\n",
       ".sk-estimator-doc-link.fitted:hover {\n",
       "  /* fitted */\n",
       "  background-color: var(--sklearn-color-fitted-level-3);\n",
       "  color: var(--sklearn-color-background);\n",
       "  text-decoration: none;\n",
       "}\n",
       "\n",
       "/* Span, style for the box shown on hovering the info icon */\n",
       ".sk-estimator-doc-link span {\n",
       "  display: none;\n",
       "  z-index: 9999;\n",
       "  position: relative;\n",
       "  font-weight: normal;\n",
       "  right: .2ex;\n",
       "  padding: .5ex;\n",
       "  margin: .5ex;\n",
       "  width: min-content;\n",
       "  min-width: 20ex;\n",
       "  max-width: 50ex;\n",
       "  color: var(--sklearn-color-text);\n",
       "  box-shadow: 2pt 2pt 4pt #999;\n",
       "  /* unfitted */\n",
       "  background: var(--sklearn-color-unfitted-level-0);\n",
       "  border: .5pt solid var(--sklearn-color-unfitted-level-3);\n",
       "}\n",
       "\n",
       ".sk-estimator-doc-link.fitted span {\n",
       "  /* fitted */\n",
       "  background: var(--sklearn-color-fitted-level-0);\n",
       "  border: var(--sklearn-color-fitted-level-3);\n",
       "}\n",
       "\n",
       ".sk-estimator-doc-link:hover span {\n",
       "  display: block;\n",
       "}\n",
       "\n",
       "/* \"?\"-specific style due to the `<a>` HTML tag */\n",
       "\n",
       "#sk-container-id-3 a.estimator_doc_link {\n",
       "  float: right;\n",
       "  font-size: 1rem;\n",
       "  line-height: 1em;\n",
       "  font-family: monospace;\n",
       "  background-color: var(--sklearn-color-background);\n",
       "  border-radius: 1rem;\n",
       "  height: 1rem;\n",
       "  width: 1rem;\n",
       "  text-decoration: none;\n",
       "  /* unfitted */\n",
       "  color: var(--sklearn-color-unfitted-level-1);\n",
       "  border: var(--sklearn-color-unfitted-level-1) 1pt solid;\n",
       "}\n",
       "\n",
       "#sk-container-id-3 a.estimator_doc_link.fitted {\n",
       "  /* fitted */\n",
       "  border: var(--sklearn-color-fitted-level-1) 1pt solid;\n",
       "  color: var(--sklearn-color-fitted-level-1);\n",
       "}\n",
       "\n",
       "/* On hover */\n",
       "#sk-container-id-3 a.estimator_doc_link:hover {\n",
       "  /* unfitted */\n",
       "  background-color: var(--sklearn-color-unfitted-level-3);\n",
       "  color: var(--sklearn-color-background);\n",
       "  text-decoration: none;\n",
       "}\n",
       "\n",
       "#sk-container-id-3 a.estimator_doc_link.fitted:hover {\n",
       "  /* fitted */\n",
       "  background-color: var(--sklearn-color-fitted-level-3);\n",
       "}\n",
       "</style><div id=\"sk-container-id-3\" class=\"sk-top-container\"><div class=\"sk-text-repr-fallback\"><pre>KNeighborsRegressor(n_neighbors=1)</pre><b>In a Jupyter environment, please rerun this cell to show the HTML representation or trust the notebook. <br />On GitHub, the HTML representation is unable to render, please try loading this page with nbviewer.org.</b></div><div class=\"sk-container\" hidden><div class=\"sk-item\"><div class=\"sk-estimator fitted sk-toggleable\"><input class=\"sk-toggleable__control sk-hidden--visually\" id=\"sk-estimator-id-5\" type=\"checkbox\" checked><label for=\"sk-estimator-id-5\" class=\"sk-toggleable__label fitted sk-toggleable__label-arrow fitted\">&nbsp;&nbsp;KNeighborsRegressor<a class=\"sk-estimator-doc-link fitted\" rel=\"noreferrer\" target=\"_blank\" href=\"https://scikit-learn.org/1.4/modules/generated/sklearn.neighbors.KNeighborsRegressor.html\">?<span>Documentation for KNeighborsRegressor</span></a><span class=\"sk-estimator-doc-link fitted\">i<span>Fitted</span></span></label><div class=\"sk-toggleable__content fitted\"><pre>KNeighborsRegressor(n_neighbors=1)</pre></div> </div></div></div></div>"
      ],
      "text/plain": [
       "KNeighborsRegressor(n_neighbors=1)"
      ]
     },
     "execution_count": 28,
     "metadata": {},
     "output_type": "execute_result"
    }
   ],
   "source": [
    "knn_class_improved = grid_search_class.best_estimator_\n",
    "knn_class_improved.fit(X_train_class, Y_train_class)\n",
    "\n",
    "knn_reg_improved = grid_search_reg.best_estimator_\n",
    "knn_reg_improved.fit(X_train_reg, Y_train_reg)"
   ]
  },
  {
   "cell_type": "markdown",
   "id": "54c0dba8-93c5-4ffe-80a3-1be4a3bc734f",
   "metadata": {},
   "source": [
    "### e. Оценка качества моделей"
   ]
  },
  {
   "cell_type": "markdown",
   "id": "620e5492-808a-4d4e-af64-d93242b6e948",
   "metadata": {},
   "source": [
    "**Классификация**"
   ]
  },
  {
   "cell_type": "code",
   "execution_count": 29,
   "id": "599d2a69-43b4-424d-a127-0da59e94a93a",
   "metadata": {},
   "outputs": [
    {
     "name": "stdout",
     "output_type": "stream",
     "text": [
      "Classification accuracy score =  0.8748868778280543\n",
      "================\n",
      "Classification F1 score =  0.87336190985962\n"
     ]
    }
   ],
   "source": [
    "predicted_class = knn_class_improved.predict(X_test_class)\n",
    "print(\"Classification accuracy score = \",metrics.accuracy_score(Y_test_class,predicted_class))\n",
    "print(\"================\\nClassification F1 score = \",metrics.f1_score(Y_test_class,predicted_class, average='weighted'))"
   ]
  },
  {
   "cell_type": "markdown",
   "id": "38c69619-d86f-4937-8fd4-c0c386062800",
   "metadata": {},
   "source": [
    "**Регрессия**"
   ]
  },
  {
   "cell_type": "code",
   "execution_count": 30,
   "id": "d020183e-ff27-4152-984a-9573a4a5cb65",
   "metadata": {},
   "outputs": [
    {
     "name": "stdout",
     "output_type": "stream",
     "text": [
      "MSE score =  7.056404004228239\n",
      "R2 score =  0.9151077893711379\n"
     ]
    },
    {
     "data": {
      "text/plain": [
       "<matplotlib.legend.Legend at 0x1692f0f40>"
      ]
     },
     "execution_count": 30,
     "metadata": {},
     "output_type": "execute_result"
    },
    {
     "data": {
      "image/png": "[encoded data removed]",
      "text/plain": [
       "<Figure size 640x480 with 1 Axes>"
      ]
     },
     "metadata": {},
     "output_type": "display_data"
    }
   ],
   "source": [
    "predicted_reg = knn_reg_improved.predict(X_test_reg)\n",
    "print(\"MSE score = \",metrics.mean_squared_error(Y_test_reg, predicted_reg))\n",
    "print(\"R2 score = \",metrics.r2_score(Y_test_reg, predicted_reg))\n",
    "\n",
    "sns.kdeplot(Y_test_reg, label='Actual', color='blue', fill=True)\n",
    "sns.kdeplot(predicted_reg, label='Predicted', color='red', fill=True)\n",
    "plt.xlabel('Price')\n",
    "plt.ylabel('Density')\n",
    "plt.legend()"
   ]
  },
  {
   "cell_type": "markdown",
   "id": "469bcc47-d4ef-413e-8fce-f95ec81d9639",
   "metadata": {},
   "source": [
    "Результаты получились очень хорошие. Регрессия указывает очень точные ответы, а классификация повысила свою точность на несколько процентов.\n",
    "**При этом мы на тренировки отдали только половину данных**"
   ]
  },
  {
   "cell_type": "markdown",
   "id": "19509d3e-8eb9-42c3-91a2-15a580163f20",
   "metadata": {},
   "source": [
    "## f. Сравнение результатов"
   ]
  },
  {
   "cell_type": "markdown",
   "id": "d307317e-d3dd-463c-9baf-9e4ed31acbe4",
   "metadata": {},
   "source": [
    "Препроцессинг данных и кроссвалидация дали свой результат. Мы смогли на несколько процентов увеличить точность классификации и ***добились на 16% увеличения точности регресиии***.\n",
    "\n",
    "Это показывает, насколько важно для тренировки модели правильно подобрать и обработать данные для них. "
   ]
  },
  {
   "attachments": {},
   "cell_type": "markdown",
   "id": "30c7fb9b-caf8-4e20-b8dd-fb97708bc439",
   "metadata": {},
   "source": [
    "# 4.Имплементация алгоритма машинного обучения"
   ]
  },
  {
   "cell_type": "markdown",
   "id": "c5ad8004-53e4-46a1-a59f-d9136e0976e5",
   "metadata": {},
   "source": [
    "### А. Собственная реализация KNN классификации и регрессиии"
   ]
  },
  {
   "cell_type": "markdown",
   "id": "16a05c66-f91f-4315-802b-8d38d5750e79",
   "metadata": {},
   "source": [
    "Классификация"
   ]
  },
  {
   "cell_type": "code",
   "execution_count": 31,
   "id": "9a4188ee-1deb-4838-b3ba-6120d43916a3",
   "metadata": {},
   "outputs": [],
   "source": [
    "import numpy as np\n",
    "\n",
    "class MyKNN:\n",
    "    def __init__(self, k=3):\n",
    "        self.k = k\n",
    "\n",
    "    def fit(self, X, Y):\n",
    "        self.X_train = X\n",
    "        self.Y_train = Y\n",
    "\n",
    "    def predict(self, X):\n",
    "        predictions = [self._predict(x) for x in X]\n",
    "        return np.array(predictions)\n",
    "\n",
    "    def _predict(self, x):\n",
    "        distances = [np.linalg.norm(x - x_train) for x_train in self.X_train]\n",
    "        k_indices = np.argsort(distances)[:self.k]\n",
    "        k_nearest_labels = [self.Y_train[i] for i in k_indices]\n",
    "        most_common = np.bincount(k_nearest_labels).argmax()\n",
    "        return most_common"
   ]
  },
  {
   "cell_type": "markdown",
   "id": "af3ea065-4d2e-4046-9dca-52c5e03e8e10",
   "metadata": {},
   "source": [
    "Регрессия"
   ]
  },
  {
   "cell_type": "code",
   "execution_count": 32,
   "id": "eb6005ab-fe60-408d-80d1-919d4a13262e",
   "metadata": {},
   "outputs": [],
   "source": [
    "class MyKNNRegressor:\n",
    "    def __init__(self, k=3):\n",
    "        self.k = k\n",
    "\n",
    "    def fit(self, X, Y):\n",
    "        self.X_train = X\n",
    "        self.Y_train = Y\n",
    "\n",
    "    def predict(self, X):\n",
    "        predictions = [self._predict(x) for x in X]\n",
    "        return np.array(predictions)\n",
    "\n",
    "    def _predict(self, x):\n",
    "        distances = [np.linalg.norm(x - x_train) for x_train in self.X_train]\n",
    "        k_indices = np.argsort(distances)[:self.k]\n",
    "        k_nearest_labels = [self.Y_train[i] for i in k_indices]\n",
    "        return np.mean(k_nearest_labels)"
   ]
  },
  {
   "cell_type": "markdown",
   "id": "4b86f946-a693-4067-b348-532f77c1e736",
   "metadata": {},
   "source": [
    "### Б. Обучение и оценка моделей "
   ]
  },
  {
   "cell_type": "code",
   "execution_count": 33,
   "id": "b058bc14-9a27-4173-944f-cbecbdf002ce",
   "metadata": {},
   "outputs": [],
   "source": [
    "df_class = pd.read_csv('/Users/denisfadeev/.cache/kagglehub/datasets/sameepvani/nasa-nearest-earth-objects/versions/2/neo_v2.csv')\n",
    "df_class = df_class.drop(['orbiting_body','sentry_object', 'name', 'id'],axis=1)\n",
    "df_class = df_class.sort_values('hazardous', ascending=False).head(2*df_class['hazardous'].value_counts().get(True, 0))\n",
    "df_reg = pd.read_csv('/Users/denisfadeev/.cache/kagglehub/datasets/pythonafroz/wind-speed-vs-spanish-power-prices/versions/2/wind_vs_price.csv')\n",
    "df_reg = df_reg.drop(df_reg[df_reg.fecha > \"2020-01-01\"].index)\n",
    "df_reg['time'] = pd.to_datetime(df_reg['fecha']).astype(int)\n",
    "df_reg = df_reg.drop(['fecha', 'MIN(dp.precio)', 'MAX(dp.precio)'], axis = 1)"
   ]
  },
  {
   "cell_type": "markdown",
   "id": "db98dcab-f052-4b3c-8195-8efb7fcbb64d",
   "metadata": {},
   "source": [
    "Деление на тестовую и обучающую выборки"
   ]
  },
  {
   "cell_type": "code",
   "execution_count": 34,
   "id": "a15c9b20-134d-45fa-bd5f-c54c4c9d863d",
   "metadata": {},
   "outputs": [],
   "source": [
    "DATA_SIZE = 1000\n",
    "\n",
    "# classification\n",
    "Y_class = df_class['hazardous'].astype(int)\n",
    "X_class = df_class.drop(['hazardous'],axis=1)\n",
    "X_train_class, X_test_class, Y_train_class, Y_test_class = train_test_split(X_class,Y_class,random_state=24314,test_size=0.5, shuffle = True)\n",
    "\n",
    "X_train_class, X_test_class, Y_train_class, Y_test_class = X_train_class.head(DATA_SIZE), X_test_class.head(DATA_SIZE), Y_train_class.head(DATA_SIZE), Y_test_class.head(DATA_SIZE)\n",
    "# regression\n",
    "Y_reg = df_reg['AVG(dp.precio)']\n",
    "X_reg = df_reg.drop(['AVG(dp.precio)'],axis=1)\n",
    "X_train_reg, X_test_reg, Y_train_reg, Y_test_reg = train_test_split(X_reg,Y_reg,random_state=24314,test_size=0.5, shuffle = True)\n",
    "X_train_reg, X_test_reg, Y_train_reg, Y_test_reg = X_train_reg.head(DATA_SIZE), X_test_reg.head(DATA_SIZE), Y_train_reg.head(DATA_SIZE), Y_test_reg.head(DATA_SIZE)"
   ]
  },
  {
   "cell_type": "markdown",
   "id": "d9d4d748-139d-4d5a-b0b8-31ee02ac2258",
   "metadata": {},
   "source": [
    "Обучение будет происходить на меньшей выборке данный, так как самописная модель не может работать с болшими датасетами\n",
    "\n",
    "**Классификация**"
   ]
  },
  {
   "cell_type": "code",
   "execution_count": 35,
   "id": "fe70e509-d5a9-42e6-85af-68b67f26d8de",
   "metadata": {},
   "outputs": [
    {
     "name": "stdout",
     "output_type": "stream",
     "text": [
      "Classification accuracy score =  0.52\n",
      "Classification CM score\n",
      "================\n",
      " [[260 260]\n",
      " [220 260]]\n",
      "================\n",
      "Classification F1 score =  0.52\n"
     ]
    }
   ],
   "source": [
    "my_knn_class = MyKNN(k=3)\n",
    "my_knn_class.fit(X_train_class.to_numpy(), Y_train_class.to_numpy())\n",
    "predicted_class = my_knn_class.predict(X_test_class.to_numpy())\n",
    "print(\"Classification accuracy score = \",metrics.accuracy_score(Y_test_class,predicted_class))\n",
    "print(\"Classification CM score\\n================\\n\",metrics.confusion_matrix(Y_test_class,predicted_class))\n",
    "print(\"================\\nClassification F1 score = \",metrics.f1_score(Y_test_class,predicted_class, average='weighted'))"
   ]
  },
  {
   "cell_type": "markdown",
   "id": "4b740e4a-2a97-4f6c-8ed4-54988e0c4b8d",
   "metadata": {},
   "source": [
    "Полученные результаты для собственной классификации получились хуже библиотечной, но не сильно"
   ]
  },
  {
   "cell_type": "markdown",
   "id": "3fa7982f-3e24-4da5-a384-94bf2d5aefa1",
   "metadata": {},
   "source": [
    "**Регрессия**"
   ]
  },
  {
   "cell_type": "code",
   "execution_count": 36,
   "id": "47e259e1-25fc-4f52-9010-0642f456031b",
   "metadata": {},
   "outputs": [
    {
     "name": "stdout",
     "output_type": "stream",
     "text": [
      "MSE score =  43.91166933138488\n",
      "R2 score =  0.7169968639237583\n"
     ]
    },
    {
     "data": {
      "text/plain": [
       "<matplotlib.legend.Legend at 0x16966c850>"
      ]
     },
     "execution_count": 36,
     "metadata": {},
     "output_type": "execute_result"
    },
    {
     "data": {
      "image/png": "[encoded data removed]",
      "text/plain": [
       "<Figure size 640x480 with 1 Axes>"
      ]
     },
     "metadata": {},
     "output_type": "display_data"
    }
   ],
   "source": [
    "model = MyKNNRegressor(k=3)\n",
    "model.fit(X_train_reg.to_numpy(), Y_train_reg.to_numpy())\n",
    "predicted_reg = model.predict(X_test_reg.to_numpy())\n",
    "print(\"MSE score = \",metrics.mean_squared_error(Y_test_reg, predicted_reg))\n",
    "print(\"R2 score = \",metrics.r2_score(Y_test_reg, predicted_reg))\n",
    "\n",
    "sns.kdeplot(Y_test_reg, label='Actual', color='blue', fill=True)\n",
    "sns.kdeplot(predicted_reg, label='Predicted', color='red', fill=True)\n",
    "plt.xlabel('Price')\n",
    "plt.ylabel('Density')\n",
    "plt.legend()"
   ]
  },
  {
   "cell_type": "markdown",
   "id": "caf4d8d9-49c5-4578-8ee4-dbda7905b191",
   "metadata": {},
   "source": [
    "Регрессия показала тоже хорошие показатели предсказания, но они также ниже чем у библиотечных реализаций KNN regression"
   ]
  },
  {
   "cell_type": "markdown",
   "id": "89fcaf45-f380-494c-93c7-3eb7dd7b7537",
   "metadata": {},
   "source": [
    "### В. Применение улучшенного бейзлайна"
   ]
  },
  {
   "cell_type": "code",
   "execution_count": 37,
   "id": "44c48f26-0402-4a39-a52a-fcd5c6dc874a",
   "metadata": {},
   "outputs": [],
   "source": [
    "df_class = pd.read_csv('/Users/denisfadeev/.cache/kagglehub/datasets/sameepvani/nasa-nearest-earth-objects/versions/2/neo_v2.csv')\n",
    "df_class = df_class.drop(['orbiting_body','sentry_object', 'name', 'id'],axis=1)\n",
    "df_class = df_class.sort_values('hazardous', ascending=False).head(2*df_class['hazardous'].value_counts().get(True, 0))\n",
    "df_class['size'] = df_class[['est_diameter_min','est_diameter_max']].mean(axis=1)\n",
    "df_class = df_class.drop(['est_diameter_min','est_diameter_max'],axis=1)\n",
    "\n",
    "df_reg = pd.read_csv('/Users/denisfadeev/.cache/kagglehub/datasets/pythonafroz/wind-speed-vs-spanish-power-prices/versions/2/wind_vs_price.csv')\n",
    "df_reg_price = pd.read_csv('/Users/denisfadeev/.cache/kagglehub/datasets/pythonafroz/wind-speed-vs-spanish-power-prices/versions/2/da_price.csv')\n",
    "df_reg = df_reg.drop(df_reg[df_reg.fecha > \"2020-01-01\"].index)\n",
    "df_reg = df_reg.drop(['AVG(dp.precio)', 'MIN(dp.precio)', 'MAX(dp.precio)'],axis=1)\n",
    "df_reg = pd.merge(df_reg_price, df_reg, on='fecha', how='left')\n",
    "df_reg = df_reg.dropna(how='any',axis=0)\n",
    "df_reg['datetime_utc'] = pd.to_datetime(df_reg['datetime_utc'])\n",
    "df_reg = df_reg.drop(['fecha', 'sistema', 'bandera', 'fecha_actualizacion'],axis=1)\n",
    "# новый параметр дня недели\n",
    "df_reg['date_of_week'] = df_reg['datetime_utc'].dt.day_name().astype('category')\n",
    "# новый параметр месяца\n",
    "df_reg['month'] = df_reg['datetime_utc'].dt.month.astype('category')\n",
    "df_reg['datetime_utc'] = df_reg['datetime_utc'].astype(int)\n",
    "\n",
    "ohe_encoder = ce.OneHotEncoder(cols = ['month', 'date_of_week', 'hora'])\n",
    "df_reg = ohe_encoder.fit_transform(df_reg)\n",
    "# Объединение параметров ветра\n",
    "df_reg['wind'] = df_reg[['AVG(wd.vel_km_h)','MAX(wd.racha_max_km_h)']].mean(axis=1)\n",
    "df_reg = df_reg.drop(['AVG(wd.vel_km_h)','MAX(wd.racha_max_km_h)'],axis=1)"
   ]
  },
  {
   "cell_type": "markdown",
   "id": "7cc0f84d-371f-40e1-bab9-1e1458d370ab",
   "metadata": {},
   "source": [
    "### Г. Обучение и оценка моделей"
   ]
  },
  {
   "cell_type": "markdown",
   "id": "39263074-adcf-46c7-9409-2b7e0d21bc6a",
   "metadata": {},
   "source": [
    "Деление на тестовую и обучающую выборку"
   ]
  },
  {
   "cell_type": "code",
   "execution_count": 38,
   "id": "8251a56d-cefd-4981-a3c2-fd0e4bf0169a",
   "metadata": {},
   "outputs": [],
   "source": [
    "# classification\n",
    "Y_class = df_class['hazardous'].astype(int)\n",
    "X_class = df_class.drop(['hazardous'],axis=1)\n",
    "X_train_class, X_test_class, Y_train_class, Y_test_class = train_test_split(X_class,Y_class,random_state=24314,test_size=0.5, shuffle = True)\n",
    "X_train_class, X_test_class, Y_train_class, Y_test_class = X_train_class.head(DATA_SIZE), X_test_class.head(DATA_SIZE), Y_train_class.head(DATA_SIZE), Y_test_class.head(DATA_SIZE)\n",
    "\n",
    "# regression\n",
    "Y_reg = df_reg['wind']\n",
    "X_reg = df_reg.drop(['wind'],axis=1)\n",
    "X_train_reg, X_test_reg, Y_train_reg, Y_test_reg = train_test_split(X_reg,Y_reg,random_state=24314,test_size=0.5, shuffle = True)\n",
    "X_train_reg, X_test_reg, Y_train_reg, Y_test_reg = X_train_reg.head(DATA_SIZE), X_test_reg.head(DATA_SIZE), Y_train_reg.head(DATA_SIZE), Y_test_reg.head(DATA_SIZE)"
   ]
  },
  {
   "cell_type": "markdown",
   "id": "7793bde7-44ce-4caa-895b-b7dd42c277cb",
   "metadata": {},
   "source": [
    "Обучение с кроссвалидацией"
   ]
  },
  {
   "cell_type": "code",
   "execution_count": 39,
   "id": "540b660e-2aa1-4e43-85b0-ba37b819c880",
   "metadata": {},
   "outputs": [
    {
     "name": "stdout",
     "output_type": "stream",
     "text": [
      "Best n_neighbors for classification: 9\n",
      "Best n_neighbors for regression: 3\n"
     ]
    }
   ],
   "source": [
    "k_range = range(1, 11, 2)\n",
    "MAX_ACC = 0\n",
    "MAX_R2 = 0\n",
    "MAX_K_CLASS = 0\n",
    "MAX_K_REG = 0\n",
    "BEST_CLASS = None\n",
    "BEST_REG = None\n",
    "for K in k_range:\n",
    "    knn = MyKNN(K)\n",
    "    knn.fit(X_train_class.to_numpy(), Y_train_class.to_numpy())\n",
    "    Y_pred = knn.predict(X_test_class.to_numpy())\n",
    "    acc = metrics.accuracy_score(Y_test_class, Y_pred)\n",
    "    if acc > MAX_ACC:\n",
    "        MAX_ACC, MAX_K_CLASS, BEST_CLASS = acc, K, knn\n",
    "\n",
    "for K in k_range:\n",
    "    knn = MyKNNRegressor(K)\n",
    "    knn.fit(X_train_reg.to_numpy(), Y_train_reg.to_numpy())\n",
    "    Y_pred = knn.predict(X_test_reg.to_numpy())\n",
    "    acc = metrics.r2_score(Y_test_reg, Y_pred)\n",
    "    if acc > MAX_R2:\n",
    "        MAX_R2, MAX_K_REG, BEST_REG = acc, K, knn\n",
    "\n",
    "\n",
    "print(f\"Best n_neighbors for classification: {MAX_K_CLASS}\")\n",
    "print(f\"Best n_neighbors for regression: {MAX_K_REG}\")"
   ]
  },
  {
   "cell_type": "markdown",
   "id": "c2dad007-ff2d-4806-a742-211bf0a80eb9",
   "metadata": {},
   "source": [
    "Оценка классификации"
   ]
  },
  {
   "cell_type": "code",
   "execution_count": 40,
   "id": "d3fb6d4e-d48d-4eb5-b49c-b88f4f72fc94",
   "metadata": {},
   "outputs": [
    {
     "name": "stdout",
     "output_type": "stream",
     "text": [
      "Classification accuracy score =  0.535\n",
      "================\n",
      "Classification F1 score =  0.5338785937886359\n"
     ]
    }
   ],
   "source": [
    "predicted_class = BEST_CLASS.predict(X_test_class.to_numpy())\n",
    "print(\"Classification accuracy score = \",metrics.accuracy_score(Y_test_class,predicted_class))\n",
    "print(\"================\\nClassification F1 score = \",metrics.f1_score(Y_test_class,predicted_class, average='weighted'))"
   ]
  },
  {
   "cell_type": "markdown",
   "id": "38032f9f-b9dc-42ea-86c8-dac2af8ab3a5",
   "metadata": {},
   "source": [
    " Оценка регрессии"
   ]
  },
  {
   "cell_type": "code",
   "execution_count": 41,
   "id": "900c6d3a-3141-4077-9a0d-80b4b79f0f1a",
   "metadata": {},
   "outputs": [
    {
     "name": "stdout",
     "output_type": "stream",
     "text": [
      "MSE score =  71.2695567260669\n",
      "R2 score =  0.2279797122367112\n"
     ]
    },
    {
     "data": {
      "text/plain": [
       "<matplotlib.legend.Legend at 0x1683ee790>"
      ]
     },
     "execution_count": 41,
     "metadata": {},
     "output_type": "execute_result"
    },
    {
     "data": {
      "image/png": "[encoded data removed]",
      "text/plain": [
       "<Figure size 640x480 with 1 Axes>"
      ]
     },
     "metadata": {},
     "output_type": "display_data"
    }
   ],
   "source": [
    "predicted_reg = BEST_REG.predict(X_test_reg.to_numpy())\n",
    "print(\"MSE score = \",metrics.mean_squared_error(Y_test_reg, predicted_reg))\n",
    "print(\"R2 score = \",metrics.r2_score(Y_test_reg, predicted_reg))\n",
    "\n",
    "sns.kdeplot(Y_test_reg, label='Actual', color='blue', fill=True)\n",
    "sns.kdeplot(predicted_reg, label='Predicted', color='red', fill=True)\n",
    "plt.xlabel('Price')\n",
    "plt.ylabel('Density')\n",
    "plt.legend()"
   ]
  },
  {
   "cell_type": "markdown",
   "id": "aae15dcc-7b6a-4d39-be28-9387c19401f3",
   "metadata": {},
   "source": [
    "Задача регресси собственным KNN решается гораздо хуже, чем бибилиотечными моделями. Улучшенный бейзлайн только испортил предсказания модели"
   ]
  },
  {
   "cell_type": "markdown",
   "id": "bd17e584-a43a-444d-80b8-7e0278482c26",
   "metadata": {},
   "source": [
    "# Сравнительные выводы"
   ]
  },
  {
   "cell_type": "markdown",
   "id": "009dec8a-5bc7-4d7a-a858-42c1811f9440",
   "metadata": {},
   "source": [
    "Соберём все лучшие результаты и метрики внутри одной таблицы чтобы провести итоговое сравнение всех моделей"
   ]
  },
  {
   "cell_type": "markdown",
   "id": "3ae7e935-4ef4-4d28-bdef-4f4860ee9885",
   "metadata": {},
   "source": [
    "|Модель|Метрики обычного бейзлайна|Метрики улучшенного бейзлайна|\n",
    "|---|---|---|\n",
    "|KNN классификатор|max_acc = 0.567 max_F1 = 0.567|max_acc = 0.874 max_F1 = 0.873|\n",
    "|Мой KNN классификатор|max_acc = 0.52 max_F1 = 0.52|max_acc = 0.535 max_F1 = 0.535|\n",
    "|KNN регрессия|min_MSE = 43.62 max_R2 = 0.7188|min_MSE = 7.056 max_R2 = 0.9151|\n",
    "|Моя KNN регрессия|min_MSE = 43.91 max_R2 = 0.7169|min_MSE = 71.26 max_R2 = 0.227|\n"
   ]
  },
  {
   "cell_type": "markdown",
   "id": "0b88e195-56d4-4310-9d19-052968a76b30",
   "metadata": {},
   "source": [
    "В ходе лабораторной работы получилось добиться почти во всех случаях улучшения качества предсказания и классификации для моделей за счет улучшенного бейзлайна. Исключением сатал собственная реализвция регрессии KNN, которая показала наихудший результат на улучшенном бейзлайне.\n",
    "\n",
    "Во всех случаях библиотечная реализация KNN оказалась немного или сильно лучше по сравнению с моей реализацией."
   ]
  },
  {
   "cell_type": "code",
   "execution_count": null,
   "id": "f5ee0d9c-3874-4e36-ae15-391313818001",
   "metadata": {},
   "outputs": [],
   "source": []
  }
 ],
 "metadata": {
  "kernelspec": {
   "display_name": "Python 3 (ipykernel)",
   "language": "python",
   "name": "python3"
  },
  "language_info": {
   "codemirror_mode": {
    "name": "ipython",
    "version": 3
   },
   "file_extension": ".py",
   "mimetype": "text/x-python",
   "name": "python",
   "nbconvert_exporter": "python",
   "pygments_lexer": "ipython3",
   "version": "3.9.19"
  }
 },
 "nbformat": 4,
 "nbformat_minor": 5
}
